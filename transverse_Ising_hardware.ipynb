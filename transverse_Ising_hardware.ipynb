{
 "cells": [
  {
   "cell_type": "code",
   "execution_count": 1,
   "id": "4ac9f700",
   "metadata": {},
   "outputs": [],
   "source": [
    "from qiskit import QuantumCircuit\n",
    "from qiskit.circuit import QuantumRegister,ClassicalRegister\n",
    "from qiskit_machine_learning.neural_networks import EstimatorQNN,SamplerQNN\n",
    "from IPython.display import clear_output\n",
    "import matplotlib.pyplot as plt\n",
    "import qiskit.quantum_info as qi\n",
    "from qiskit.circuit import ParameterVector\n",
    "from qiskit_algorithms.utils import algorithm_globals\n",
    "import time as t\n",
    "from qiskit.quantum_info import SparsePauliOp\n",
    "from qiskit.circuit.library import EfficientSU2,RealAmplitudes\n",
    "import numpy as np\n",
    "from qiskit.primitives import Estimator\n",
    "import pickle \n",
    "import time\n",
    "\n",
    "from qiskit.algorithms.gradients import ParamShiftEstimatorGradient"
   ]
  },
  {
   "cell_type": "code",
   "execution_count": 2,
   "id": "0189c88c",
   "metadata": {},
   "outputs": [],
   "source": [
    "VQE_training = True\n",
    "n_qubits=4\n",
    "j_coupling=1\n",
    "g_coupling=1.5\n",
    "n_rep_VQEansatz=1\n",
    "\n",
    "def callback_graph(x,name='loss'):\n",
    "    #clear_output(wait=True)\n",
    "    plt.title(\"Training curve\")\n",
    "    plt.xlabel(\"Iteration\")\n",
    "    plt.ylabel(name)\n",
    "    plt.plot(range(len(x)), x,label='ground state energy')\n",
    "    #plt.show()\n"
   ]
  },
  {
   "cell_type": "code",
   "execution_count": 3,
   "id": "5aa93bbf",
   "metadata": {},
   "outputs": [],
   "source": [
    "h_coupling=j_coupling*1\n",
    "qr_VQE = QuantumRegister(n_qubits)\n",
    "qc_VQE = QuantumCircuit(qr_VQE)\n",
    "ansatz_VQE =  RealAmplitudes(num_qubits=n_qubits,reps=n_rep_VQEansatz,parameter_prefix='w')\n",
    "qc_VQE.h(qr_VQE)\n",
    "qc_VQE.compose(ansatz_VQE, inplace=True)  \n",
    "#qc_VQE.decompose().draw('mpl')\n"
   ]
  },
  {
   "cell_type": "code",
   "execution_count": 4,
   "id": "007511f5",
   "metadata": {},
   "outputs": [
    {
     "name": "stdout",
     "output_type": "stream",
     "text": [
      "ground state energy = (-4.758770483143634+0j)\n"
     ]
    }
   ],
   "source": [
    "observable = SparsePauliOp.from_list([(\"X\"+\"I\"*(n_qubits-1) , h_coupling )])\n",
    "for i in np.arange(1,n_qubits,1):\n",
    "    observable=observable + SparsePauliOp.from_list([(\"I\"*(i)+\"X\"+\"I\"*(n_qubits-1-i) , -h_coupling )])\n",
    "for i in range(n_qubits-1):\n",
    "    observable=observable + (SparsePauliOp.from_list([(\"I\"*(i)+\"ZZ\"+\"I\"*(n_qubits-2-i) ,- j_coupling)]))\n",
    "    \n",
    "eigenValues=np.linalg.eig(observable.to_matrix())[0]\n",
    "eigenValues.sort()\n",
    "groundEnergy=eigenValues[0]\n",
    "print(\"ground state energy =\", groundEnergy)\n",
    "\n",
    "\n",
    "qnn_VQE=EstimatorQNN(\n",
    "        estimator=Estimator(options={\"shots\":1e10}),\n",
    "        circuit=qc_VQE,\n",
    "        weight_params=ansatz_VQE.parameters,\n",
    "        observables=observable\n",
    "        )    "
   ]
  },
  {
   "cell_type": "code",
   "execution_count": 5,
   "id": "25cebcc1",
   "metadata": {},
   "outputs": [],
   "source": [
    "np.random.seed(seed=1000)\n",
    "init_weights=np.random.rand(qnn_VQE.num_weights)*2*np.pi\n",
    "weights=init_weights\n",
    "\n",
    "estimator = Estimator()\n",
    "job=estimator.run(circuits=[qc_VQE], observables=[observable]\n",
    "                          , parameter_values=[weights])\n",
    "\n",
    "gradEstimator= ParamShiftEstimatorGradient(estimator )\n",
    "gradJob=gradEstimator.run(circuits=[qc_VQE], observables=[observable]\n",
    "                          , parameter_values=[weights])"
   ]
  },
  {
   "cell_type": "code",
   "execution_count": 6,
   "id": "f7ebb92c",
   "metadata": {},
   "outputs": [
    {
     "data": {
      "text/plain": [
       "EstimatorResult(values=array([1.87781008]), metadata=[{}])"
      ]
     },
     "execution_count": 6,
     "metadata": {},
     "output_type": "execute_result"
    }
   ],
   "source": [
    "job.result()\n"
   ]
  },
  {
   "cell_type": "code",
   "execution_count": 7,
   "id": "d0be64ca",
   "metadata": {},
   "outputs": [
    {
     "data": {
      "text/plain": [
       "[array([ 1.46297466,  1.62437548, -0.18793862, -0.17248494, -0.77269837,\n",
       "        -1.13375993, -1.21632448,  0.70481645])]"
      ]
     },
     "execution_count": 7,
     "metadata": {},
     "output_type": "execute_result"
    }
   ],
   "source": [
    "gradJob.result().gradients"
   ]
  },
  {
   "cell_type": "code",
   "execution_count": null,
   "id": "06d36eeb",
   "metadata": {},
   "outputs": [],
   "source": []
  },
  {
   "cell_type": "code",
   "execution_count": null,
   "id": "0a42b99e",
   "metadata": {},
   "outputs": [],
   "source": []
  },
  {
   "cell_type": "code",
   "execution_count": 8,
   "id": "61bb7138",
   "metadata": {},
   "outputs": [],
   "source": [
    "from qiskit_ibm_runtime import QiskitRuntimeService"
   ]
  },
  {
   "cell_type": "code",
   "execution_count": 9,
   "id": "89dece4d",
   "metadata": {},
   "outputs": [],
   "source": [
    "service = QiskitRuntimeService(channel=\"ibm_quantum\",instance=\"ibm-q-utokyo/internal/icepp-r5\",token=\"92c86f4f7143bea1235c92973436c3108bed314b09a95f79fde8574cd647bd80567d55d69ea294942424f4808a1a2b8b6ef040af82a88d926a511a636cf6400f\")\n",
    "QiskitRuntimeService.save_account(channel=\"ibm_quantum\",overwrite=True,instance=\"ibm-q-utokyo/internal/icepp-r5\", token=\"92c86f4f7143bea1235c92973436c3108bed314b09a95f79fde8574cd647bd80567d55d69ea294942424f4808a1a2b8b6ef040af82a88d926a511a636cf6400f\", set_as_default=True)\n",
    "\n",
    "# service = QiskitRuntimeService(channel=\"ibm_quantum\",instance=\"utokyo-kawasaki/internal/icepp-r5\",token=\"92c86f4f7143bea1235c92973436c3108bed314b09a95f79fde8574cd647bd80567d55d69ea294942424f4808a1a2b8b6ef040af82a88d926a511a636cf6400f\")\n",
    "# QiskitRuntimeService.save_account(channel=\"ibm_quantum\",overwrite=True,instance=\"utokyo-kawasaki/internal/icepp-r5\", token=\"92c86f4f7143bea1235c92973436c3108bed314b09a95f79fde8574cd647bd80567d55d69ea294942424f4808a1a2b8b6ef040af82a88d926a511a636cf6400f\", set_as_default=True)\n",
    "\n",
    "#service = QiskitRuntimeService()"
   ]
  },
  {
   "cell_type": "code",
   "execution_count": 17,
   "id": "eb4b2f8b",
   "metadata": {},
   "outputs": [],
   "source": [
    "from qiskit_aer.noise import NoiseModel\n",
    "from qiskit_ibm_runtime import QiskitRuntimeService, Options, Session, Estimator\n",
    "from qiskit.providers.fake_provider import FakeManila\n",
    "\n",
    "backend_realDevice=service.get_backend('ibmq_kolkata')\n",
    "\n",
    "noise_model = NoiseModel.from_backend(backend_realDevice)\n",
    "\n",
    "simulator = service.get_backend('ibmq_qasm_simulator')\n",
    "simulator.set_options(noise_model=noise_model)\n",
    "\n",
    "simulator_noNoise = service.get_backend('ibmq_qasm_simulator')"
   ]
  },
  {
   "cell_type": "code",
   "execution_count": 11,
   "id": "d322414a",
   "metadata": {},
   "outputs": [],
   "source": [
    "# Set options to include the noise model with error mitigation\n",
    "options0= Options(resilience_level=0)\n",
    "options1= Options(resilience_level=1)\n",
    "#options.optimization_level = 0 # no optimization\n",
    "#options.resilience_level = 0 # M3 for Sampler and T-REx for Estimator"
   ]
  },
  {
   "cell_type": "code",
   "execution_count": 14,
   "id": "b3c1f749",
   "metadata": {},
   "outputs": [
    {
     "name": "stdout",
     "output_type": "stream",
     "text": [
      "16384\n"
     ]
    }
   ],
   "source": [
    "nEvents=1\n",
    "nShots=2**14\n",
    "print(nShots)\n",
    "init_weights=np.random.rand(qnn_VQE.num_weights)*2*np.pi"
   ]
  },
  {
   "cell_type": "markdown",
   "id": "b065abce",
   "metadata": {},
   "source": [
    "HardWare"
   ]
  },
  {
   "cell_type": "code",
   "execution_count": 15,
   "id": "4367d1c1",
   "metadata": {
    "scrolled": true
   },
   "outputs": [
    {
     "name": "stdout",
     "output_type": "stream",
     "text": [
      "cppytw31tcz0008mb7e0\n",
      "b9c23bcf-503c-47e3-97bd-74dea26ee138\n",
      "loss= 1.3714599609375\n",
      "time taken =  144.99773120880127\n",
      "cppyw081tcz0008mb7jg\n",
      "91e82373-0a2b-4ae3-a1d7-89f94410f35a\n",
      "loss= 0.615478515625\n",
      "time taken =  73.68650913238525\n",
      "cppywjtd7p30008hz0m0\n",
      "d34a7320-638e-4b2c-bf79-88867750414e\n",
      "loss= -0.17919921875\n",
      "time taken =  73.43205380439758\n",
      "cppyx54dmm10008rcca0\n",
      "a65cea86-d5f9-4ac0-82f9-d37357002b63\n",
      "loss= -0.9322509765625\n",
      "time taken =  74.02550911903381\n",
      "cppyxqpdmm10008rccag\n",
      "65016edc-8bd0-4140-8767-24bd9f75837f\n",
      "loss= -1.658935546875\n",
      "time taken =  76.93083500862122\n",
      "cppyyasdmm10008rccc0\n",
      "682e1f95-5171-455b-a826-dff0f6795239\n",
      "loss= -2.21923828125\n",
      "time taken =  73.68592405319214\n",
      "cppyyxbsp83g008y9w90\n",
      "4615159a-f720-4275-b00a-0bec5ca375ca\n",
      "loss= -2.6451416015625\n",
      "time taken =  79.47409105300903\n",
      "cppyzh61tcz0008mb7zg\n",
      "8dd6dd29-e2c6-4658-b287-51f299fce04f\n",
      "loss= -2.95751953125\n",
      "time taken =  73.69987392425537\n",
      "cppz03g9nad00083jnmg\n",
      "80a9cabe-387a-4be5-a28b-72544429eaac\n",
      "loss= -3.198974609375\n",
      "time taken =  73.4343991279602\n",
      "cppz0nt1tcz0008mb85g\n",
      "a67802e8-e95d-4f37-ae88-8f8dd2a1350f\n",
      "loss= -3.3509521484375\n",
      "time taken =  72.93906712532043\n",
      "cppz185dmm10008rcck0\n",
      "d3dcaa5f-ea51-4da8-902f-d2dae7bc5815\n",
      "loss= -3.48193359375\n",
      "time taken =  73.43326902389526\n",
      "cppz1tqdmm10008rccqg\n",
      "279baa9f-408d-401f-8d56-414d3ba6d19f\n",
      "loss= -3.60498046875\n",
      "time taken =  74.40579605102539\n",
      "cppz2d1d7p30008hz1k0\n",
      "d3f346a9-e153-4bcf-a14c-4d2d21543a86\n",
      "loss= -3.6328125\n",
      "time taken =  78.16619396209717\n",
      "cppz30m0f6rg008x0wfg\n",
      "7c963417-d905-4db6-991f-f16e5eb2d7a1\n",
      "loss= -3.6939697265625\n",
      "time taken =  73.87410998344421\n",
      "cppz3k61tcz0008mb8qg\n",
      "92f99237-3756-4c7a-b644-968f332fb06b\n",
      "loss= -3.7403564453125\n",
      "time taken =  72.97170400619507\n",
      "cppz4589nad00083jpeg\n",
      "173e137f-42c7-46f6-bd33-c5efcc1ccb41\n",
      "loss= -3.822021484375\n",
      "time taken =  73.2129819393158\n",
      "cppz4qjsp83g008y9ws0\n",
      "f237bf40-01fb-486e-92b9-c4b8becd10e5\n",
      "loss= -3.8494873046875\n",
      "time taken =  73.69322204589844\n",
      "cppz5a51tcz0008mb93g\n",
      "0688c3f9-0b9e-4e0b-b099-cbbe063d445a\n",
      "loss= -3.8994140625\n",
      "time taken =  257.6680676937103\n",
      "cppz7an1tcz0008mb9bg\n",
      "e3c0051c-1d04-44b0-9a0d-a3f5fbd6f248\n",
      "loss= -3.9293212890625\n",
      "time taken =  73.37546396255493\n",
      "cppz7wzsp83g008y9x20\n",
      "657a536d-bb90-425a-8d8f-6f66fc6b941c\n",
      "loss= -4.003662109375\n",
      "time taken =  74.01797103881836\n",
      "cppz8f9d7p30008hz2dg\n",
      "6b227086-b56f-4720-87d7-1db44d4ac160\n",
      "loss= -4.0281982421875\n",
      "time taken =  73.03737282752991\n",
      "cppz91md7p30008hz2jg\n",
      "2954e125-46c2-47d5-9a14-92252e50a5ce\n",
      "loss= -4.052001953125\n",
      "time taken =  73.57038307189941\n",
      "cppz9kydmm10008rcdw0\n",
      "19db849d-a5f1-4f5b-916f-53244fdc768b\n",
      "loss= -4.0880126953125\n",
      "time taken =  73.40819311141968\n",
      "cppza6r1tcz0008mba5g\n",
      "188eecb9-eed0-4ad5-95b4-697bc0e96c04\n",
      "loss= -4.073974609375\n",
      "time taken =  75.24536108970642\n",
      "cppzas3d7p30008hz2wg\n",
      "dada4a75-b57d-4757-8f86-cd6b7cca9790\n",
      "loss= -4.1248779296875\n",
      "time taken =  73.8392608165741\n",
      "cppzbbxdmm10008rce4g\n",
      "0fd00e2a-c364-42c4-b382-bc64e925cb9e\n",
      "loss= -4.1065673828125\n",
      "time taken =  74.15660405158997\n",
      "cppzbyf1tcz0008mbang\n",
      "82a832dc-8b89-4d9f-b023-2953ccd71ca9\n",
      "loss= -4.1707763671875\n",
      "time taken =  73.76226782798767\n",
      "cppzcgj1tcz0008mbatg\n",
      "2d219ad7-8792-46ef-b420-fbd838e32066\n",
      "loss= -4.2012939453125\n",
      "time taken =  73.27068901062012\n",
      "cppzd2wd7p30008hz36g\n",
      "e1e386bc-7164-4915-a1a7-8a22d4a5ff2d\n",
      "loss= -4.20263671875\n",
      "time taken =  74.7867968082428\n",
      "cppzdnp0f6rg008x0xn0\n",
      "ba3586c1-9fd1-46aa-89e5-52fedf5e7de4\n",
      "loss= -4.146728515625\n",
      "time taken =  73.68109703063965\n",
      "cppze811tcz0008mbb80\n",
      "c868a4a5-31b3-414c-a69e-384329cbf257\n",
      "loss= -4.24658203125\n",
      "time taken =  74.67802381515503\n",
      "cppzetk9nad00083jr5g\n",
      "ea8f8743-c0b5-418c-8e8a-babffea2148a\n",
      "loss= -4.2418212890625\n",
      "time taken =  72.96317100524902\n",
      "cppzfcxdmm10008rceyg\n",
      "f3af9e8e-a334-4cce-a505-8e7f3ce3a9a2\n",
      "loss= -4.27685546875\n",
      "time taken =  73.15503787994385\n",
      "cppzfzf0f6rg008x0xz0\n",
      "3136373e-5bc3-4eba-b72f-7ccb2fb22d58\n",
      "loss= -4.28857421875\n",
      "time taken =  73.55849194526672\n",
      "cppzghjdmm10008rcf4g\n",
      "fbafe101-fffe-47c3-b12e-1c74ca51d516\n",
      "loss= -4.283935546875\n",
      "time taken =  73.51854205131531\n",
      "cppzh44d7p30008hz3kg\n",
      "19753e9a-e84c-4707-8bd6-38218b709c38\n",
      "loss= -4.313720703125\n",
      "time taken =  74.21629738807678\n",
      "cppzhpp9nad00083jrgg\n",
      "50399413-305c-4ad7-a3eb-9bb4fb36d655\n",
      "loss= -4.2525634765625\n",
      "time taken =  73.92896580696106\n",
      "cppzj91dmm10008rcfc0\n",
      "e3afaf97-477e-46e2-b2fc-9601bf7051e1\n",
      "loss= -4.329833984375\n",
      "time taken =  73.25009298324585\n",
      "cppzjvb1tcz0008mbc5g\n",
      "782cfa35-33e1-4219-a1c5-8eb4c209d469\n",
      "loss= -4.3436279296875\n",
      "time taken =  73.63889002799988\n",
      "cppzkdx1tcz0008mbc6g\n",
      "03eed082-f4c3-43f5-a6f4-d396c99dcbfd\n",
      "loss= -4.337646484375\n",
      "time taken =  73.76694416999817\n"
     ]
    }
   ],
   "source": [
    "learning_rate=1e-1\n",
    "weights=init_weights\n",
    "\n",
    "loss_list=[]\n",
    "jobs_list=[]\n",
    "gradJobs_list=[]\n",
    "\n",
    "with Session(service=service, backend=backend_realDevice) as session:\n",
    "    estimator = Estimator(session=session,options=options0)\n",
    "    for i in range(40):\n",
    "        t_start=time.time()\n",
    "        job=estimator.run(circuits=[qc_VQE], observables=[observable]\n",
    "                          , parameter_values=[weights]\n",
    "                          ,shots=nShots)\n",
    "\n",
    "\n",
    "        gradEstimator= ParamShiftEstimatorGradient(estimator )\n",
    "        gradJob=gradEstimator.run(circuits=[qc_VQE], observables=[observable]\n",
    "                              , parameter_values=[weights]\n",
    "                              ,shots=nShots)\n",
    "\n",
    "        jobs_list.append(job)\n",
    "        gradJobs_list.append(gradJob)\n",
    "        \n",
    "        print(job.job_id())\n",
    "        print(gradJob.job_id())\n",
    "        loss=job.result().values[0]\n",
    "        loss_list.append(loss)\n",
    "        weights=weights-learning_rate*gradJob.result().gradients[0]\n",
    "\n",
    "        print(\"loss=\",loss)\n",
    "        print(\"time taken = \",time.time()-t_start)"
   ]
  },
  {
   "cell_type": "code",
   "execution_count": 16,
   "id": "3a91ca30",
   "metadata": {},
   "outputs": [
    {
     "name": "stderr",
     "output_type": "stream",
     "text": [
      "/Users/lizhelun/miniforge3/envs/qc/lib/python3.10/site-packages/matplotlib/cbook/__init__.py:1340: ComplexWarning: Casting complex values to real discards the imaginary part\n",
      "  return np.asarray(x, float)\n"
     ]
    },
    {
     "data": {
      "text/plain": [
       "<matplotlib.legend.Legend at 0x178582860>"
      ]
     },
     "execution_count": 16,
     "metadata": {},
     "output_type": "execute_result"
    },
    {
     "data": {
      "text/plain": [
       "<Figure size 432x288 with 0 Axes>"
      ]
     },
     "metadata": {},
     "output_type": "display_data"
    },
    {
     "data": {
      "image/png": "[encoded data removed]",
      "text/plain": [
       "<Figure size 1152x648 with 1 Axes>"
      ]
     },
     "metadata": {
      "needs_background": "light"
     },
     "output_type": "display_data"
    }
   ],
   "source": [
    "plt.figure(1)\n",
    "LabelSize=30\n",
    "plt.figure(figsize=(16,9))\n",
    "plt.plot(range(len(loss_list)),loss_list,label='ibmq_Kolkata')\n",
    "plt.plot(range(len(loss_list)),groundEnergy*np.ones(len(loss_list)),label='truth')\n",
    "plt.xlabel('Iterations',fontsize=LabelSize)\n",
    "plt.ylabel('Ground state energy',fontsize=LabelSize)\n",
    "plt.tick_params(axis='both', which='major', labelsize=LabelSize)\n",
    "plt.legend(fontsize=LabelSize)"
   ]
  },
  {
   "cell_type": "code",
   "execution_count": null,
   "id": "73281a75",
   "metadata": {},
   "outputs": [],
   "source": []
  },
  {
   "cell_type": "code",
   "execution_count": null,
   "id": "6ed3a77e",
   "metadata": {},
   "outputs": [],
   "source": []
  },
  {
   "cell_type": "code",
   "execution_count": null,
   "id": "97df380d",
   "metadata": {},
   "outputs": [],
   "source": []
  },
  {
   "cell_type": "code",
   "execution_count": null,
   "id": "6070e279",
   "metadata": {},
   "outputs": [],
   "source": []
  },
  {
   "cell_type": "markdown",
   "id": "06446d5f",
   "metadata": {},
   "source": [
    "simulator"
   ]
  },
  {
   "cell_type": "code",
   "execution_count": 18,
   "id": "1c58ce09",
   "metadata": {
    "scrolled": false
   },
   "outputs": [
    {
     "name": "stdout",
     "output_type": "stream",
     "text": [
      "loss= 1.6588134765625\n",
      "time taken =  532.4655621051788\n",
      "loss= 0.763671875\n",
      "time taken =  538.2360200881958\n",
      "loss= -0.2281494140625\n",
      "time taken =  543.9353792667389\n",
      "loss= -1.200927734375\n",
      "time taken =  549.4104340076447\n",
      "loss= -1.96240234375\n",
      "time taken =  555.5455889701843\n",
      "loss= -2.553466796875\n",
      "time taken =  561.2811992168427\n",
      "loss= -2.9443359375\n",
      "time taken =  566.3607642650604\n",
      "loss= -3.2427978515625\n",
      "time taken =  572.0304419994354\n",
      "loss= -3.4407958984375\n",
      "time taken =  578.2578461170197\n",
      "loss= -3.5877685546875\n",
      "time taken =  583.9956662654877\n",
      "loss= -3.71728515625\n",
      "time taken =  589.5686120986938\n",
      "loss= -3.779541015625\n",
      "time taken =  594.9214141368866\n",
      "loss= -3.8582763671875\n",
      "time taken =  600.6072413921356\n",
      "loss= -3.9425048828125\n",
      "time taken =  608.5582621097565\n",
      "loss= -4.0194091796875\n",
      "time taken =  614.0707292556763\n",
      "loss= -4.0394287109375\n",
      "time taken =  619.8082492351532\n",
      "loss= -4.0975341796875\n",
      "time taken =  625.3530201911926\n",
      "loss= -4.136962890625\n",
      "time taken =  631.1735441684723\n",
      "loss= -4.1844482421875\n",
      "time taken =  636.4031240940094\n",
      "loss= -4.227783203125\n",
      "time taken =  642.9958291053772\n",
      "loss= -4.2777099609375\n",
      "time taken =  648.6320660114288\n",
      "loss= -4.3072509765625\n",
      "time taken =  655.2305021286011\n",
      "loss= -4.3353271484375\n",
      "time taken =  660.3205451965332\n",
      "loss= -4.3387451171875\n",
      "time taken =  666.0177102088928\n",
      "loss= -4.3524169921875\n",
      "time taken =  672.0426912307739\n",
      "loss= -4.4273681640625\n",
      "time taken =  677.4240262508392\n",
      "loss= -4.4493408203125\n",
      "time taken =  683.0811002254486\n",
      "loss= -4.4578857421875\n",
      "time taken =  689.4576733112335\n",
      "loss= -4.4617919921875\n",
      "time taken =  694.8730411529541\n",
      "loss= -4.50634765625\n",
      "time taken =  700.4812731742859\n",
      "loss= -4.5101318359375\n",
      "time taken =  706.4107840061188\n",
      "loss= -4.5523681640625\n",
      "time taken =  712.5658690929413\n",
      "loss= -4.55615234375\n",
      "time taken =  718.9057021141052\n",
      "loss= -4.577392578125\n",
      "time taken =  724.5894122123718\n",
      "loss= -4.5489501953125\n",
      "time taken =  730.1641600131989\n",
      "loss= -4.5654296875\n",
      "time taken =  735.5682172775269\n",
      "loss= -4.58056640625\n",
      "time taken =  741.3721280097961\n",
      "loss= -4.5484619140625\n",
      "time taken =  746.7295801639557\n",
      "loss= -4.5989990234375\n",
      "time taken =  752.5852861404419\n",
      "loss= -4.599853515625\n",
      "time taken =  758.3337361812592\n",
      "loss= -4.6197509765625\n",
      "time taken =  764.661571264267\n",
      "loss= -4.6104736328125\n",
      "time taken =  770.5189790725708\n",
      "loss= -4.5975341796875\n",
      "time taken =  777.5397441387177\n",
      "loss= -4.6112060546875\n",
      "time taken =  782.8630163669586\n",
      "loss= -4.61474609375\n",
      "time taken =  787.9567942619324\n",
      "loss= -4.620361328125\n",
      "time taken =  793.6925501823425\n",
      "loss= -4.6185302734375\n",
      "time taken =  799.2001271247864\n",
      "loss= -4.6448974609375\n",
      "time taken =  804.7178292274475\n",
      "loss= -4.6419677734375\n",
      "time taken =  810.1169991493225\n",
      "loss= -4.6527099609375\n",
      "time taken =  815.5679910182953\n"
     ]
    }
   ],
   "source": [
    "learning_rate=1e-1\n",
    "weights=init_weights\n",
    "\n",
    "loss_list_noise=[]\n",
    "jobs_list_noise=[]\n",
    "gradJobs_list_noise=[]\n",
    "\n",
    "with Session(service=service, backend=simulator ) as session:\n",
    "    estimator = Estimator(session=session,options=options0)\n",
    "    for i in range(50):\n",
    "        t_start=timte.time()\n",
    "        job=estimator.run(circuits=[qc_VQE], observables=[observable]\n",
    "                          , parameter_values=[weights]\n",
    "                          ,shots=nShots)\n",
    "\n",
    "\n",
    "        gradEstimator= ParamShiftEstimatorGradient(estimator )\n",
    "        gradJob=gradEstimator.run(circuits=[qc_VQE], observables=[observable]\n",
    "                              , parameter_values=[weights]\n",
    "                              ,shots=nShots)\n",
    "\n",
    "        jobs_list_noise.append(job)\n",
    "        gradJobs_list_noise.append(gradJob)\n",
    "        loss=job.result().values[0]\n",
    "        loss_list_noise.append(loss)\n",
    "        weights=weights-learning_rate*gradJob.result().gradients[0]\n",
    "\n",
    "        print(\"loss=\",loss)\n",
    "        print(\"time taken = \",time.time()-t_start)"
   ]
  },
  {
   "cell_type": "code",
   "execution_count": 19,
   "id": "4abe8589",
   "metadata": {
    "scrolled": false
   },
   "outputs": [
    {
     "name": "stdout",
     "output_type": "stream",
     "text": [
      "loss= 1.7333984375\n",
      "time taken =  16.431186199188232\n",
      "loss= 0.764892578125\n",
      "time taken =  5.4829089641571045\n",
      "loss= -0.2520751953125\n",
      "time taken =  5.968378305435181\n",
      "loss= -1.2156982421875\n",
      "time taken =  5.985330820083618\n",
      "loss= -1.9805908203125\n",
      "time taken =  123.95793104171753\n",
      "loss= -2.5709228515625\n",
      "time taken =  6.13530707359314\n",
      "loss= -2.9576416015625\n",
      "time taken =  5.729377031326294\n",
      "loss= -3.2713623046875\n",
      "time taken =  5.047143936157227\n",
      "loss= -3.455078125\n",
      "time taken =  5.659081935882568\n",
      "loss= -3.608154296875\n",
      "time taken =  5.55674409866333\n",
      "loss= -3.7012939453125\n",
      "time taken =  5.87424898147583\n",
      "loss= -3.8060302734375\n",
      "time taken =  5.703405141830444\n",
      "loss= -3.8448486328125\n",
      "time taken =  5.45871376991272\n",
      "loss= -3.9326171875\n",
      "time taken =  5.320739269256592\n",
      "loss= -3.9859619140625\n",
      "time taken =  170.43577218055725\n",
      "loss= -4.052734375\n",
      "time taken =  5.47694993019104\n",
      "loss= -4.0911865234375\n",
      "time taken =  5.695282936096191\n",
      "loss= -4.1268310546875\n",
      "time taken =  5.526566982269287\n",
      "loss= -4.21142578125\n",
      "time taken =  6.114233016967773\n",
      "loss= -4.22998046875\n",
      "time taken =  5.8633952140808105\n",
      "loss= -4.2613525390625\n",
      "time taken =  7.139280796051025\n",
      "loss= -4.3228759765625\n",
      "time taken =  6.749425172805786\n",
      "loss= -4.3236083984375\n",
      "time taken =  5.229182004928589\n",
      "loss= -4.3792724609375\n",
      "time taken =  5.935126066207886\n",
      "loss= -4.40478515625\n",
      "time taken =  6.437615156173706\n",
      "loss= -4.43115234375\n",
      "time taken =  5.435454845428467\n",
      "loss= -4.424072265625\n",
      "time taken =  5.4782960414886475\n",
      "loss= -4.4486083984375\n",
      "time taken =  6.611797094345093\n",
      "loss= -4.4888916015625\n",
      "time taken =  5.526052713394165\n",
      "loss= -4.5184326171875\n",
      "time taken =  5.742495059967041\n",
      "loss= -4.5255126953125\n",
      "time taken =  5.245728969573975\n",
      "loss= -4.5352783203125\n",
      "time taken =  6.1629638671875\n",
      "loss= -4.5418701171875\n",
      "time taken =  5.383923053741455\n",
      "loss= -4.57080078125\n",
      "time taken =  5.692442893981934\n",
      "loss= -4.5797119140625\n",
      "time taken =  6.421838760375977\n",
      "loss= -4.600341796875\n",
      "time taken =  5.428463935852051\n",
      "loss= -4.579345703125\n",
      "time taken =  7.146244764328003\n",
      "loss= -4.5889892578125\n",
      "time taken =  5.97055983543396\n",
      "loss= -4.5970458984375\n",
      "time taken =  5.421823978424072\n",
      "loss= -4.5975341796875\n",
      "time taken =  5.864543914794922\n",
      "loss= -4.5997314453125\n",
      "time taken =  5.626975059509277\n",
      "loss= -4.638671875\n",
      "time taken =  6.35107684135437\n",
      "loss= -4.5640869140625\n",
      "time taken =  6.170547008514404\n",
      "loss= -4.6224365234375\n",
      "time taken =  5.298151016235352\n",
      "loss= -4.6416015625\n",
      "time taken =  6.6309099197387695\n",
      "loss= -4.6214599609375\n",
      "time taken =  6.59788179397583\n",
      "loss= -4.6456298828125\n",
      "time taken =  4.989986181259155\n",
      "loss= -4.6524658203125\n",
      "time taken =  6.069691181182861\n",
      "loss= -4.6429443359375\n",
      "time taken =  5.531743764877319\n",
      "loss= -4.6329345703125\n",
      "time taken =  5.753955125808716\n"
     ]
    }
   ],
   "source": [
    "learning_rate=1e-1\n",
    "weights=init_weights\n",
    "\n",
    "loss_list_noNoise=[]\n",
    "jobs_list_noNoise=[]\n",
    "gradJobs_list_noNoise=[]\n",
    "\n",
    "with Session(service=service, backend=simulator_noNoise ) as session:\n",
    "    estimator = Estimator(session=session,options=options0)\n",
    "    for i in range(50):\n",
    "        t_start=time.time()\n",
    "        job=estimator.run(circuits=[qc_VQE], observables=[observable]\n",
    "                          , parameter_values=[weights]\n",
    "                          ,shots=nShots)\n",
    "\n",
    "\n",
    "        gradEstimator= ParamShiftEstimatorGradient(estimator )\n",
    "        gradJob=gradEstimator.run(circuits=[qc_VQE], observables=[observable]\n",
    "                              , parameter_values=[weights]\n",
    "                              ,shots=nShots)\n",
    "\n",
    "        jobs_list_noNoise.append(job)\n",
    "        gradJobs_list_noNoise.append(gradJob)\n",
    "        loss=job.result().values[0]\n",
    "        loss_list_noNoise.append(loss)\n",
    "        weights=weights-learning_rate*gradJob.result().gradients[0]\n",
    "\n",
    "        print(\"loss=\",loss)\n",
    "        print(\"time taken = \",time.time()-t_start)"
   ]
  },
  {
   "cell_type": "code",
   "execution_count": 22,
   "id": "3ff7a7c6",
   "metadata": {},
   "outputs": [
    {
     "name": "stderr",
     "output_type": "stream",
     "text": [
      "/Users/lizhelun/miniforge3/envs/qc/lib/python3.10/site-packages/matplotlib/cbook/__init__.py:1340: ComplexWarning: Casting complex values to real discards the imaginary part\n",
      "  return np.asarray(x, float)\n"
     ]
    },
    {
     "data": {
      "text/plain": [
       "<matplotlib.legend.Legend at 0x17f4617b0>"
      ]
     },
     "execution_count": 22,
     "metadata": {},
     "output_type": "execute_result"
    },
    {
     "data": {
      "text/plain": [
       "<Figure size 432x288 with 0 Axes>"
      ]
     },
     "metadata": {},
     "output_type": "display_data"
    },
    {
     "data": {
      "image/png": "[encoded data removed]",
      "text/plain": [
       "<Figure size 1152x648 with 1 Axes>"
      ]
     },
     "metadata": {
      "needs_background": "light"
     },
     "output_type": "display_data"
    }
   ],
   "source": [
    "plt.figure(1)\n",
    "LabelSize=30\n",
    "plt.figure(figsize=(16,9))\n",
    "plt.plot(range(len(loss_list)),loss_list,label='ibmq_Kolkata')\n",
    "plt.plot(range(len(loss_list_noise)),loss_list_noise,label='simulator (Kolkata noise model)')\n",
    "plt.plot(range(len(loss_list_noNoise)),loss_list_noNoise,label='simulator (No noise)')\n",
    "plt.plot(range(len(loss_list_noise)),groundEnergy*np.ones(len(loss_list_noise)),label='truth')\n",
    "plt.xlabel('Iterations',fontsize=LabelSize)\n",
    "plt.ylabel('Ground state energy',fontsize=LabelSize)\n",
    "plt.tick_params(axis='both', which='major', labelsize=LabelSize)\n",
    "plt.legend(fontsize=LabelSize)"
   ]
  },
  {
   "cell_type": "code",
   "execution_count": null,
   "id": "0bc19581",
   "metadata": {},
   "outputs": [],
   "source": []
  },
  {
   "cell_type": "code",
   "execution_count": null,
   "id": "0db50bdc",
   "metadata": {},
   "outputs": [],
   "source": []
  },
  {
   "cell_type": "code",
   "execution_count": null,
   "id": "421f1c93",
   "metadata": {},
   "outputs": [],
   "source": []
  }
 ],
 "metadata": {
  "kernelspec": {
   "display_name": "qc",
   "language": "python",
   "name": "qc"
  },
  "language_info": {
   "codemirror_mode": {
    "name": "ipython",
    "version": 3
   },
   "file_extension": ".py",
   "mimetype": "text/x-python",
   "name": "python",
   "nbconvert_exporter": "python",
   "pygments_lexer": "ipython3",
   "version": "3.10.4"
  }
 },
 "nbformat": 4,
 "nbformat_minor": 5
}
