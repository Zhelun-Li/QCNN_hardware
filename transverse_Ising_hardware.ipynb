{
 "cells": [
  {
   "cell_type": "code",
   "execution_count": null,
   "id": "5324872f",
   "metadata": {},
   "outputs": [],
   "source": [
    "from qiskit import QuantumCircuit\n",
    "from qiskit.circuit import QuantumRegister,ClassicalRegister\n",
    "from qiskit_machine_learning.neural_networks import EstimatorQNN,SamplerQNN\n",
    "from IPython.display import clear_output\n",
    "import matplotlib.pyplot as plt\n",
    "import qiskit.quantum_info as qi\n",
    "from qiskit.circuit import ParameterVector\n",
    "from qiskit_algorithms.utils import algorithm_globals\n",
    "import time as t\n",
    "from qiskit.quantum_info import SparsePauliOp\n",
    "from qiskit.circuit.library import EfficientSU2,RealAmplitudes\n",
    "import numpy as np\n",
    "from qiskit.primitives import Estimator\n",
    "import pickle \n",
    "\n",
    "from qiskit.algorithms.gradients import ParamShiftEstimatorGradient"
   ]
  },
  {
   "cell_type": "code",
   "execution_count": null,
   "id": "f88d716b",
   "metadata": {},
   "outputs": [],
   "source": [
    "VQE_training = True\n",
    "n_qubits=4\n",
    "j_coupling=1\n",
    "g_coupling=1.5\n",
    "n_rep_VQEansatz=1\n",
    "\n",
    "def callback_graph(x,name='loss'):\n",
    "    #clear_output(wait=True)\n",
    "    plt.title(\"Training curve\")\n",
    "    plt.xlabel(\"Iteration\")\n",
    "    plt.ylabel(name)\n",
    "    plt.plot(range(len(x)), x,label='ground state energy')\n",
    "    #plt.show()\n"
   ]
  },
  {
   "cell_type": "code",
   "execution_count": null,
   "id": "18a75c1c",
   "metadata": {},
   "outputs": [],
   "source": [
    "h_coupling=j_coupling*1\n",
    "qr_VQE = QuantumRegister(n_qubits)\n",
    "qc_VQE = QuantumCircuit(qr_VQE)\n",
    "ansatz_VQE =  RealAmplitudes(num_qubits=n_qubits,reps=n_rep_VQEansatz,parameter_prefix='w')\n",
    "qc_VQE.h(qr_VQE)\n",
    "qc_VQE.compose(ansatz_VQE, inplace=True)  \n",
    "#qc_VQE.decompose().draw('mpl')\n"
   ]
  },
  {
   "cell_type": "code",
   "execution_count": null,
   "id": "d83977cf",
   "metadata": {},
   "outputs": [],
   "source": [
    "observable = SparsePauliOp.from_list([(\"X\"+\"I\"*(n_qubits-1) , h_coupling )])\n",
    "for i in np.arange(1,n_qubits,1):\n",
    "    observable=observable + SparsePauliOp.from_list([(\"I\"*(i)+\"X\"+\"I\"*(n_qubits-1-i) , -h_coupling )])\n",
    "for i in range(n_qubits-1):\n",
    "    observable=observable + (SparsePauliOp.from_list([(\"I\"*(i)+\"ZZ\"+\"I\"*(n_qubits-2-i) ,- j_coupling)]))\n",
    "    \n",
    "eigenValues=np.linalg.eig(observable.to_matrix())[0]\n",
    "eigenValues.sort()\n",
    "groundEnergy=eigenValues[0]\n",
    "print(\"ground state energy =\", groundEnergy)\n",
    "\n",
    "\n",
    "qnn_VQE=EstimatorQNN(\n",
    "        estimator=Estimator(options={\"shots\":1e10}),\n",
    "        circuit=qc_VQE,\n",
    "        weight_params=ansatz_VQE.parameters,\n",
    "        observables=observable\n",
    "        )    "
   ]
  },
  {
   "cell_type": "code",
   "execution_count": null,
   "id": "8c4db3f5",
   "metadata": {},
   "outputs": [],
   "source": [
    "init_weights=np.random.rand(qnn_VQE.num_weights)*2*np.pi\n",
    "weights=init_weights\n",
    "\n",
    "estimator = Estimator()\n",
    "job=estimator.run(circuits=[qc_VQE], observables=[observable]\n",
    "                          , parameter_values=[weights])\n",
    "\n",
    "gradEstimator= ParamShiftEstimatorGradient(estimator )\n",
    "gradJob=gradEstimator.run(circuits=[qc_VQE], observables=[observable]\n",
    "                          , parameter_values=[weights])"
   ]
  },
  {
   "cell_type": "code",
   "execution_count": null,
   "id": "ae11d5b2",
   "metadata": {},
   "outputs": [],
   "source": [
    "job.result()\n"
   ]
  },
  {
   "cell_type": "code",
   "execution_count": null,
   "id": "ed315594",
   "metadata": {},
   "outputs": [],
   "source": [
    "gradJob.result().gradients"
   ]
  },
  {
   "cell_type": "code",
   "execution_count": null,
   "id": "e11ae009",
   "metadata": {},
   "outputs": [],
   "source": []
  },
  {
   "cell_type": "code",
   "execution_count": null,
   "id": "41070358",
   "metadata": {},
   "outputs": [],
   "source": []
  },
  {
   "cell_type": "code",
   "execution_count": null,
   "id": "67bd0046",
   "metadata": {},
   "outputs": [],
   "source": [
    "from qiskit_ibm_runtime import QiskitRuntimeService"
   ]
  },
  {
   "cell_type": "code",
   "execution_count": null,
   "id": "2bfe5ad7",
   "metadata": {},
   "outputs": [],
   "source": [
    "service = QiskitRuntimeService()"
   ]
  },
  {
   "cell_type": "code",
   "execution_count": null,
   "id": "2e444beb",
   "metadata": {},
   "outputs": [],
   "source": [
    "from qiskit_aer.noise import NoiseModel\n",
    "from qiskit_ibm_runtime import QiskitRuntimeService, Options, Session, Estimator\n",
    "from qiskit.providers.fake_provider import FakeManila\n",
    "\n",
    "backend_Osaka=service.get_backend('ibm_osaka')\n",
    "noise_model = NoiseModel.from_backend(backend_Osaka)\n",
    "\n",
    "simulator = service.get_backend('ibmq_qasm_simulator')\n",
    "simulator.set_options(noise_model=noise_model)\n",
    "\n",
    "simulator_noNoise = service.get_backend('ibmq_qasm_simulator')"
   ]
  },
  {
   "cell_type": "code",
   "execution_count": null,
   "id": "c0492fe3",
   "metadata": {},
   "outputs": [],
   "source": [
    "# Set options to include the noise model with error mitigation\n",
    "options0= Options(resilience_level=0)\n",
    "options1= Options(resilience_level=1)\n",
    "#options.optimization_level = 0 # no optimization\n",
    "#options.resilience_level = 0 # M3 for Sampler and T-REx for Estimator\n"
   ]
  },
  {
   "cell_type": "code",
   "execution_count": null,
   "id": "064edbfc",
   "metadata": {},
   "outputs": [],
   "source": [
    "nEvents=1\n",
    "nShots=2**13\n",
    "print(nShots)"
   ]
  },
  {
   "cell_type": "code",
   "execution_count": null,
   "id": "064ea956",
   "metadata": {
    "scrolled": true
   },
   "outputs": [],
   "source": [
    "learning_rate=1e-1\n",
    "init_weights=np.random.rand(qnn_VQE.num_weights)*2*np.pi\n",
    "weights=init_weights\n",
    "\n",
    "loss_list=[]\n",
    "jobs_list=[]\n",
    "gradJobs_list=[]\n",
    "\n",
    "with Session(service=service, backend=simulator ) as session:\n",
    "    estimator = Estimator(session=session,options=options0)\n",
    "    for i in range(50):\n",
    "        job=estimator.run(circuits=[qc_VQE], observables=[observable]\n",
    "                          , parameter_values=[weights]\n",
    "                          ,shots=nShots)\n",
    "\n",
    "\n",
    "        gradEstimator= ParamShiftEstimatorGradient(estimator )\n",
    "        gradJob=gradEstimator.run(circuits=[qc_VQE], observables=[observable]\n",
    "                              , parameter_values=[weights]\n",
    "                              ,shots=nShots)\n",
    "\n",
    "        jobs_list.append(job)\n",
    "        gradJobs_list.append(gradJob)\n",
    "        loss=job.result().values[0]\n",
    "        loss_list.append(loss)\n",
    "        weights=weights-learning_rate*gradJob.result().gradients[0]\n",
    "\n",
    "        print(\"loss=\",loss)"
   ]
  },
  {
   "cell_type": "code",
   "execution_count": null,
   "id": "4aa4270e",
   "metadata": {
    "scrolled": true
   },
   "outputs": [],
   "source": [
    "learning_rate=1e-1\n",
    "weights=init_weights\n",
    "\n",
    "loss_list_noNoise=[]\n",
    "jobs_list_noNoise=[]\n",
    "gradJobs_list_noNoise=[]\n",
    "\n",
    "with Session(service=service, backend=simulator_noNoise ) as session:\n",
    "    estimator = Estimator(session=session,options=options0)\n",
    "    for i in range(50):\n",
    "        job=estimator.run(circuits=[qc_VQE], observables=[observable]\n",
    "                          , parameter_values=[weights]\n",
    "                          ,shots=nShots)\n",
    "\n",
    "\n",
    "        gradEstimator= ParamShiftEstimatorGradient(estimator )\n",
    "        gradJob=gradEstimator.run(circuits=[qc_VQE], observables=[observable]\n",
    "                              , parameter_values=[weights]\n",
    "                              ,shots=nShots)\n",
    "\n",
    "        jobs_list_noNoise.append(job)\n",
    "        gradJobs_list_noNoise.append(gradJob)\n",
    "        loss=job.result().values[0]\n",
    "        loss_list_noNoise.append(loss)\n",
    "        weights=weights-learning_rate*gradJob.result().gradients[0]\n",
    "\n",
    "        print(\"loss=\",loss)"
   ]
  },
  {
   "cell_type": "code",
   "execution_count": null,
   "id": "e4e9f3c9",
   "metadata": {},
   "outputs": [],
   "source": [
    "plt.figure(1)\n",
    "LabelSize=30\n",
    "plt.figure(figsize=(16,9))\n",
    "plt.plot(range(len(loss_list)),loss_list,label='simulator (Osaka noise model)')\n",
    "plt.plot(range(len(loss_list_noNoise)),loss_list_noNoise,label='simulator (No noise)')\n",
    "plt.plot(range(len(loss_list)),groundEnergy*np.ones(len(loss_list)),label='truth')\n",
    "plt.xlabel('Iterations',fontsize=LabelSize)\n",
    "plt.ylabel('Ground state energy',fontsize=LabelSize)\n",
    "plt.tick_params(axis='both', which='major', labelsize=LabelSize)\n",
    "plt.legend(fontsize=LabelSize)"
   ]
  },
  {
   "cell_type": "code",
   "execution_count": null,
   "id": "54e1c42d",
   "metadata": {},
   "outputs": [],
   "source": []
  },
  {
   "cell_type": "code",
   "execution_count": null,
   "id": "3aa4e5c1",
   "metadata": {},
   "outputs": [],
   "source": []
  },
  {
   "cell_type": "code",
   "execution_count": null,
   "id": "b2672d3a",
   "metadata": {},
   "outputs": [],
   "source": []
  },
  {
   "cell_type": "code",
   "execution_count": null,
   "id": "5422a184",
   "metadata": {},
   "outputs": [],
   "source": []
  }
 ],
 "metadata": {
  "kernelspec": {
   "display_name": "qc",
   "language": "python",
   "name": "qc"
  },
  "language_info": {
   "codemirror_mode": {
    "name": "ipython",
    "version": 3
   },
   "file_extension": ".py",
   "mimetype": "text/x-python",
   "name": "python",
   "nbconvert_exporter": "python",
   "pygments_lexer": "ipython3",
   "version": "3.10.4"
  }
 },
 "nbformat": 4,
 "nbformat_minor": 5
}
