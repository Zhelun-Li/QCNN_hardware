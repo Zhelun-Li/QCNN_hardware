{
 "cells": [
  {
   "cell_type": "code",
   "execution_count": 1,
   "id": "0e7b427f-0f65-41db-a429-91b0178820f4",
   "metadata": {},
   "outputs": [],
   "source": [
    "from qiskit import QuantumCircuit\n",
    "from qiskit.circuit import QuantumRegister,ClassicalRegister\n",
    "from qiskit_machine_learning.neural_networks import EstimatorQNN,SamplerQNN\n",
    "from IPython.display import clear_output\n",
    "import matplotlib.pyplot as plt\n",
    "import qiskit.quantum_info as qi\n",
    "from qiskit.circuit import ParameterVector\n",
    "from qiskit_algorithms.utils import algorithm_globals\n",
    "import time as t\n",
    "from qiskit.quantum_info import SparsePauliOp\n",
    "from qiskit.circuit.library import EfficientSU2,RealAmplitudes\n",
    "import numpy as np\n",
    "from qiskit.primitives import Estimator\n",
    "import pickle "
   ]
  },
  {
   "cell_type": "code",
   "execution_count": 2,
   "id": "51dd2ab6-297b-4a69-89c4-d055d18c956e",
   "metadata": {},
   "outputs": [],
   "source": [
    "VQE_training = True\n",
    "n_qubits=4\n",
    "j_coupling=0.5\n",
    "g_coupling=1.5\n",
    "n_rep_VQEansatz=1\n",
    "\n",
    "def callback_graph(x,name='loss'):\n",
    "    #clear_output(wait=True)\n",
    "    plt.title(\"Training curve\")\n",
    "    plt.xlabel(\"Iteration\")\n",
    "    plt.ylabel(name)\n",
    "    plt.plot(range(len(x)), x,label='ground state energy')\n",
    "    #plt.show()\n"
   ]
  },
  {
   "cell_type": "code",
   "execution_count": 5,
   "id": "ebb1bb2a",
   "metadata": {},
   "outputs": [],
   "source": [
    "def getGoundState(n_qubits=n_qubits,j_coupling=j_coupling,g_coupling=g_coupling,n_rep_VQEansatz=1,nSteps=200\n",
    "                 ,learning_rate=1e-1):\n",
    "    h_coupling=j_coupling*g\n",
    "    qr_VQE = QuantumRegister(n_qubits)\n",
    "    qc_VQE = QuantumCircuit(qr_VQE)\n",
    "    ansatz_VQE =  RealAmplitudes(num_qubits=n_qubits,reps=n_rep_VQEansatz)\n",
    "    qc_VQE.h(qr_VQE)\n",
    "    qc_VQE.compose(ansatz_VQE, inplace=True)  \n",
    "    \n",
    "    observable = SparsePauliOp.from_list([(\"X\"+\"I\"*(n_qubits-1) , h_coupling )])\n",
    "    for i in np.arange(1,n_qubits,1):\n",
    "        observable=observable + SparsePauliOp.from_list([(\"I\"*(i)+\"X\"+\"I\"*(n_qubits-1-i) , -h_coupling )])\n",
    "    for i in range(n_qubits-1):\n",
    "        observable=observable + (SparsePauliOp.from_list([(\"I\"*(i)+\"ZZ\"+\"I\"*(n_qubits-2-i) ,- j_coupling)]))\n",
    "        \n",
    "       \n",
    "    qnn_VQE=EstimatorQNN(\n",
    "        estimator=Estimator(options={\"shots\":1e10}),\n",
    "        circuit=qc_VQE,\n",
    "        weight_params=ansatz_VQE.parameters,\n",
    "        observables=observable\n",
    "        )\n",
    "\n",
    "    eigenValues=np.linalg.eig(observable.to_matrix())[0]\n",
    "    eigenValues.sort()\n",
    "\n",
    "    groundEnergy=eigenValues[0]\n",
    "    #print(\"ground state energy =\", groundEnergy)\n",
    "    \n",
    "    init_weights=np.random.rand(qnn_VQE.num_weights)*2*np.pi\n",
    "    weights=init_weights\n",
    "    \n",
    "    loss=[]\n",
    "    for i in range(nSteps):\n",
    "        vev=qnn_VQE.forward([], weights)[0][0]\n",
    "        input_grad, weight_grad=qnn_VQE.backward([],weights)\n",
    "        grad=weight_grad[0,0,:]\n",
    "        weights=weights-learning_rate*grad\n",
    "        loss.append(vev)\n",
    "\n",
    "#         if i%1==0:\n",
    "\n",
    "#             clear_output(wait=True)\n",
    "#             plt.figure(1)\n",
    "#             callback_graph(loss)\n",
    "#             plt.plot(range(len(loss)),groundEnergy*np.ones(len(loss)),label='truth')\n",
    "#             plt.legend()\n",
    "#             #plt.yscale('log')\n",
    "#             plt.show()\n",
    "\n",
    "    return weights,vev,groundEnergy"
   ]
  },
  {
   "cell_type": "markdown",
   "id": "1ddcfd50",
   "metadata": {},
   "source": [
    "Next, prepare a series of ground states and its labels based on the value of |g|\n",
    "\n",
    "For |g|<1, two-fold degenerate ground state.\n",
    "\n",
    "For |g|>1, non-degenerate ground state."
   ]
  },
  {
   "cell_type": "code",
   "execution_count": 29,
   "id": "9152cfce",
   "metadata": {},
   "outputs": [
    {
     "name": "stdout",
     "output_type": "stream",
     "text": [
      "g =  0.0  diff= 6.076409005591662e-10\n",
      "g =  0.05  diff= 0.00010300534915192559\n",
      "g =  0.1  diff= 0.001220320232442067\n",
      "g =  0.15000000000000002  diff= 0.003904536249820186\n",
      "g =  0.2  diff= 0.007115798062960532\n",
      "g =  0.25  diff= 0.0011856659398320794\n",
      "g =  0.30000000000000004  diff= 0.003651227119486306\n",
      "g =  0.35000000000000003  diff= 0.0041026572993159306\n",
      "g =  0.4  diff= 0.006646536379579114\n",
      "g =  0.45  diff= 0.010396204520042291\n",
      "g =  0.5  diff= 0.014558853946660679\n",
      "g =  0.55  diff= 0.019403363209769434\n",
      "g =  0.6000000000000001  diff= 0.021372697772222372\n",
      "g =  0.65  diff= 0.01418372304094998\n",
      "g =  0.7000000000000001  diff= 0.014161768334635323\n",
      "g =  0.75  diff= 0.014310698222524627\n",
      "g =  0.8  diff= 0.013439603503924629\n",
      "g =  0.8500000000000001  diff= 0.009799647158533183\n",
      "g =  0.9  diff= 0.011078496556386569\n",
      "g =  0.9500000000000001  diff= 0.01000241712283155\n",
      "lowG finished\n",
      "g =  1.05  diff= 0.014314613343983935\n",
      "g =  1.1  diff= 0.06713913543925024\n",
      "g =  1.1500000000000001  diff= 0.06161430378047601\n",
      "g =  1.2000000000000002  diff= 0.064639426052872\n",
      "g =  1.2500000000000002  diff= 0.003483180035100911\n",
      "g =  1.3000000000000003  diff= 0.014723564103318805\n",
      "g =  1.3500000000000003  diff= 0.005345223411330289\n",
      "g =  1.4000000000000004  diff= 0.013424828846643401\n",
      "g =  1.4500000000000004  diff= 0.05774385416595283\n",
      "g =  1.5000000000000004  diff= 0.0030216445522531343\n",
      "g =  1.5500000000000005  diff= 0.007313344461726655\n",
      "g =  1.6000000000000005  diff= 0.007483535098451333\n",
      "g =  1.6500000000000006  diff= 0.01307623177763782\n",
      "g =  1.7000000000000006  diff= 0.004068762512959588\n",
      "g =  1.7500000000000007  diff= 0.00474622354969031\n",
      "g =  1.8000000000000007  diff= 0.012299918079607926\n",
      "g =  1.8500000000000008  diff= 0.011445905537920692\n",
      "g =  1.9000000000000008  diff= 0.012176409895377405\n",
      "g =  1.9500000000000008  diff= 0.0013422551449240323\n",
      "g =  2.000000000000001  diff= 0.007339482162175355\n"
     ]
    }
   ],
   "source": [
    "if VQE_training:#Obtaining ground state for |g|<1 \n",
    "    nSteps=50\n",
    "    lowGs=np.arange(0,1.0,0.05)\n",
    "    highGs=np.arange(1.05,2.05,0.05)\n",
    "    w_low=[]\n",
    "    Egs_estimate_low=[]\n",
    "    Egs_low=[]\n",
    "    for g in lowGs:\n",
    "        for i in range(10):\n",
    "            weights,Egs_estimate,Egs=getGoundState(g_coupling=g,nSteps=nSteps,learning_rate=1e0)\n",
    "            diff=abs(Egs_estimate-Egs)/abs(Egs)\n",
    "\n",
    "            if diff< 0.015:\n",
    "                break\n",
    "                \n",
    "        print(\"g = \",g,\" diff=\",diff)\n",
    "                \n",
    "        w_low.append(weights)\n",
    "        Egs_estimate_low.append(Egs_estimate)\n",
    "        Egs_low.append(Egs)\n",
    "\n",
    "    print(\"lowG finished\")\n",
    "    dict_low={\"weights\": w_low,\"E_gs_estimate\": Egs_estimate_low,\n",
    "              \"E_gs\":Egs_low,\"g\":lowGs}\n",
    "    with open('lowG_dict.pkl', 'wb') as f:\n",
    "        pickle.dump(dict_low, f)\n",
    "\n",
    "\n",
    "    w_high=[]\n",
    "    Egs_estimate_high=[]\n",
    "    Egs_high=[]\n",
    "    for g in highGs:\n",
    "        for i in range(10):\n",
    "            weights,Egs_estimate,Egs=getGoundState(g_coupling=g,nSteps=nSteps)\n",
    "            diff=abs(Egs_estimate-Egs)/abs(Egs)\n",
    "            if diff< 0.015:\n",
    "                break\n",
    "        print(\"g = \",g,\" diff=\",diff)\n",
    "        w_high.append(weights)\n",
    "        Egs_estimate_high.append(Egs_estimate)\n",
    "        Egs_high.append(Egs)\n",
    "\n",
    "    dict_high={\"weights\": w_high,\"E_gs_estimate\":Egs_estimate_high,\n",
    "               \"E_gs\": Egs_high ,\"g\":highGs}\n",
    "    with open('highG_dict.pkl', 'wb') as f:\n",
    "        pickle.dump(dict_high, f)"
   ]
  },
  {
   "cell_type": "code",
   "execution_count": 41,
   "id": "e3630574-0ab8-4fc3-a5d9-8986cf7d69ff",
   "metadata": {},
   "outputs": [],
   "source": [
    "with open('lowG_dict.pkl', 'rb') as f:\n",
    "    dict_low = pickle.load(f)\n",
    "\n",
    "with open('highG_dict.pkl', 'rb') as f:\n",
    "    dict_high = pickle.load(f)"
   ]
  },
  {
   "cell_type": "code",
   "execution_count": 31,
   "id": "03d3b431-483f-4579-a6ed-a5df14b5642c",
   "metadata": {},
   "outputs": [
    {
     "data": {
      "text/plain": [
       "<qiskit.circuit.instructionset.InstructionSet at 0x7f52609df1f0>"
      ]
     },
     "execution_count": 31,
     "metadata": {},
     "output_type": "execute_result"
    }
   ],
   "source": [
    "n_layers=1\n",
    "n_params=n_layers*1+n_qubits+1\n",
    "weights = ParameterVector(\"weight\", n_params)\n",
    "params_index=0\n",
    "qr = QuantumRegister(n_qubits)\n",
    "qc = QuantumCircuit(qr)\n",
    "qc.compose(RealAmplitudes(num_qubits=n_qubits,reps=n_rep_VQEansatz), inplace=True) \n",
    "qc.barrier()\n",
    "for layer in range(n_layers):\n",
    "    for i in np.arange(0,n_qubits-1,1):\n",
    "        qc.rzz(weights[params_index],i,i+1)\n",
    "    params_index += 1\n",
    "qc.barrier()\n",
    "#pooling layer:\n",
    "for i in np.arange(0,int(n_qubits/2),1):\n",
    "    qc.rz(weights[params_index],i*2)\n",
    "    \n",
    "params_index += 1\n",
    "\n",
    "for i in np.arange(0,int(n_qubits/2),1):\n",
    "    qc.rz(weights[params_index],i*2+1)\n",
    "    qc.cx(2*i,2*i+1)\n",
    "params_index += 1\n",
    "\n",
    "for i in np.arange(0,int(n_qubits/2),1):\n",
    "    qc.rz(-weights[params_index-2],i*2+1)\n",
    "qc.barrier()\n",
    "\n",
    "for i in np.arange(0,int(n_qubits/4),1):\n",
    "    qc.rzz(weights[params_index],i*4+1,i*4+3)\n",
    "qc.barrier()\n",
    "params_index += 1\n",
    "\n",
    "for i in np.arange(0,int(n_qubits/4),1):\n",
    "    qc.rz(weights[params_index],i*4+1)\n",
    "params_index += 1\n",
    "\n",
    "for i in np.arange(0,int(n_qubits/4),1):\n",
    "    qc.rz(weights[params_index],i*4+3)\n",
    "    qc.cx(i*4+1,i*4+3)\n",
    "params_index += 1\n",
    "\n",
    "for i in np.arange(0,int(n_qubits/4),1):\n",
    "    qc.rz(-weights[params_index-2],i*4+3)\n",
    "qc.barrier()"
   ]
  },
  {
   "cell_type": "code",
   "execution_count": 32,
   "id": "4cdfd209-9cd1-42a1-b8c7-6dd3c48d570b",
   "metadata": {},
   "outputs": [
    {
     "data": {
      "image/png": "[encoded data removed]",
      "text/plain": [
       "<Figure size 2265.45x785.944 with 1 Axes>"
      ]
     },
     "execution_count": 32,
     "metadata": {},
     "output_type": "execute_result"
    }
   ],
   "source": [
    "qc.draw('mpl')"
   ]
  },
  {
   "cell_type": "code",
   "execution_count": 33,
   "id": "a1812bf0-616b-40c8-bf95-f9199c189ac9",
   "metadata": {},
   "outputs": [
    {
     "data": {
      "text/plain": [
       "14"
      ]
     },
     "execution_count": 33,
     "metadata": {},
     "output_type": "execute_result"
    }
   ],
   "source": [
    "qc.num_parameters"
   ]
  },
  {
   "cell_type": "code",
   "execution_count": 34,
   "id": "ad0ed9aa-b267-48ec-8e77-e22a1e6ee4e0",
   "metadata": {},
   "outputs": [],
   "source": [
    "estimator = Estimator()\n",
    "ob = SparsePauliOp.from_list([(\"I\"*(n_qubits-1)+\"Z\" , 1 )])"
   ]
  },
  {
   "cell_type": "code",
   "execution_count": 35,
   "id": "db6c54bc-50e9-493d-88a3-e296c6486ebf",
   "metadata": {},
   "outputs": [],
   "source": [
    "params=2*np.pi*np.random.rand(qc.num_parameters)"
   ]
  },
  {
   "cell_type": "code",
   "execution_count": 36,
   "id": "b126330b",
   "metadata": {},
   "outputs": [],
   "source": [
    "job=estimator.run(circuits=[qc], observables=[ob], parameter_values=[params])"
   ]
  },
  {
   "cell_type": "code",
   "execution_count": 37,
   "id": "c7498906-1151-47c5-b68b-6154230b2ce0",
   "metadata": {},
   "outputs": [
    {
     "data": {
      "text/plain": [
       "EstimatorResult(values=array([0.07340149]), metadata=[{}])"
      ]
     },
     "execution_count": 37,
     "metadata": {},
     "output_type": "execute_result"
    }
   ],
   "source": [
    "job.result()"
   ]
  },
  {
   "cell_type": "code",
   "execution_count": 42,
   "id": "a96ecf32-a795-4886-8c83-775c591e3110",
   "metadata": {},
   "outputs": [
    {
     "ename": "ValueError",
     "evalue": "operands could not be broadcast together with shapes (8,) (14,) ",
     "output_type": "error",
     "traceback": [
      "\u001b[0;31m---------------------------------------------------------------------------\u001b[0m",
      "\u001b[0;31mValueError\u001b[0m                                Traceback (most recent call last)",
      "Cell \u001b[0;32mIn[42], line 1\u001b[0m\n\u001b[0;32m----> 1\u001b[0m \u001b[43mdict_low\u001b[49m\u001b[43m[\u001b[49m\u001b[38;5;124;43m'\u001b[39;49m\u001b[38;5;124;43mweights\u001b[39;49m\u001b[38;5;124;43m'\u001b[39;49m\u001b[43m]\u001b[49m\u001b[43m[\u001b[49m\u001b[38;5;241;43m0\u001b[39;49m\u001b[43m]\u001b[49m\u001b[38;5;241;43m+\u001b[39;49m\u001b[38;5;241;43m2\u001b[39;49m\u001b[38;5;241;43m*\u001b[39;49m\u001b[43mnp\u001b[49m\u001b[38;5;241;43m.\u001b[39;49m\u001b[43mpi\u001b[49m\u001b[38;5;241;43m*\u001b[39;49m\u001b[43mnp\u001b[49m\u001b[38;5;241;43m.\u001b[39;49m\u001b[43mrandom\u001b[49m\u001b[38;5;241;43m.\u001b[39;49m\u001b[43mrand\u001b[49m\u001b[43m(\u001b[49m\u001b[43mqc\u001b[49m\u001b[38;5;241;43m.\u001b[39;49m\u001b[43mnum_parameters\u001b[49m\u001b[43m)\u001b[49m\n",
      "\u001b[0;31mValueError\u001b[0m: operands could not be broadcast together with shapes (8,) (14,) "
     ]
    }
   ],
   "source": [
    "np.concatenate([dict_low['weights'][0]+2*np.pi*np.random.rand(qc.num_parameters)"
   ]
  },
  {
   "cell_type": "code",
   "execution_count": null,
   "id": "1ab20be0-d733-4b01-82ae-edce316ae1a7",
   "metadata": {},
   "outputs": [],
   "source": []
  },
  {
   "cell_type": "code",
   "execution_count": null,
   "id": "e4d4acbf-fdc0-42e3-8b29-ac5bf7f37731",
   "metadata": {},
   "outputs": [],
   "source": []
  },
  {
   "cell_type": "code",
   "execution_count": null,
   "id": "53b81515-e72f-4c32-8026-8cf0a1540f08",
   "metadata": {},
   "outputs": [],
   "source": []
  },
  {
   "cell_type": "code",
   "execution_count": null,
   "id": "b14a6aa9-74d5-4524-aa46-57f1547f84b2",
   "metadata": {},
   "outputs": [],
   "source": []
  },
  {
   "cell_type": "code",
   "execution_count": null,
   "id": "aaec4e9f-3859-493d-9a72-b312f5379573",
   "metadata": {},
   "outputs": [],
   "source": []
  },
  {
   "cell_type": "code",
   "execution_count": null,
   "id": "2c429e6d-7b94-4fe7-bae0-6140660d2f5b",
   "metadata": {},
   "outputs": [],
   "source": []
  },
  {
   "cell_type": "code",
   "execution_count": null,
   "id": "27b74406-e9f6-4792-a4d6-87ebf58aa489",
   "metadata": {},
   "outputs": [],
   "source": []
  },
  {
   "cell_type": "code",
   "execution_count": null,
   "id": "110c2e6a-4866-44a6-ac0d-8f60994d06db",
   "metadata": {},
   "outputs": [],
   "source": []
  },
  {
   "cell_type": "code",
   "execution_count": null,
   "id": "f98e7f0c-88d7-4f82-97d6-66704e371e84",
   "metadata": {},
   "outputs": [],
   "source": []
  }
 ],
 "metadata": {
  "kernelspec": {
   "display_name": "base",
   "language": "python",
   "name": "base"
  },
  "language_info": {
   "codemirror_mode": {
    "name": "ipython",
    "version": 3
   },
   "file_extension": ".py",
   "mimetype": "text/x-python",
   "name": "python",
   "nbconvert_exporter": "python",
   "pygments_lexer": "ipython3",
   "version": "3.10.13"
  }
 },
 "nbformat": 4,
 "nbformat_minor": 5
}
