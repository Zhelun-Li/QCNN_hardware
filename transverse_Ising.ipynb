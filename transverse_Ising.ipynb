{
 "cells": [
  {
   "cell_type": "code",
   "execution_count": 1,
   "id": "0e7b427f-0f65-41db-a429-91b0178820f4",
   "metadata": {},
   "outputs": [],
   "source": [
    "from qiskit import QuantumCircuit\n",
    "from qiskit.circuit import QuantumRegister,ClassicalRegister\n",
    "from qiskit_machine_learning.neural_networks import EstimatorQNN,SamplerQNN\n",
    "from IPython.display import clear_output\n",
    "import matplotlib.pyplot as plt\n",
    "import qiskit.quantum_info as qi\n",
    "from qiskit.circuit import ParameterVector\n",
    "from qiskit_algorithms.utils import algorithm_globals\n",
    "import time as t\n",
    "from qiskit.quantum_info import SparsePauliOp\n",
    "from qiskit.circuit.library import EfficientSU2,RealAmplitudes\n",
    "import numpy as np\n",
    "from qiskit.primitives import Estimator\n",
    "import pickle "
   ]
  },
  {
   "cell_type": "code",
   "execution_count": 2,
   "id": "51dd2ab6-297b-4a69-89c4-d055d18c956e",
   "metadata": {},
   "outputs": [],
   "source": [
    "VQE_training = False\n",
    "n_qubits=4\n",
    "j_coupling=1\n",
    "g_coupling=1.5\n",
    "n_rep_VQEansatz=1\n",
    "\n",
    "def callback_graph(x,name='loss'):\n",
    "    #clear_output(wait=True)\n",
    "    plt.title(\"Training curve\")\n",
    "    plt.xlabel(\"Iteration\")\n",
    "    plt.ylabel(name)\n",
    "    plt.plot(range(len(x)), x,label='ground state energy')\n",
    "    #plt.show()\n"
   ]
  },
  {
   "cell_type": "code",
   "execution_count": 3,
   "id": "ebb1bb2a",
   "metadata": {},
   "outputs": [],
   "source": [
    "def getGoundState(n_qubits=n_qubits,j_coupling=j_coupling,g_coupling=g_coupling,n_rep_VQEansatz=1,nSteps=200\n",
    "                 ,learning_rate=1e-2):\n",
    "    h_coupling=j_coupling*g\n",
    "    qr_VQE = QuantumRegister(n_qubits)\n",
    "    qc_VQE = QuantumCircuit(qr_VQE)\n",
    "    ansatz_VQE =  RealAmplitudes(num_qubits=n_qubits,reps=n_rep_VQEansatz)\n",
    "    qc_VQE.h(qr_VQE)\n",
    "    qc_VQE.compose(ansatz_VQE, inplace=True)  \n",
    "    \n",
    "    observable = SparsePauliOp.from_list([(\"X\"+\"I\"*(n_qubits-1) , h_coupling )])\n",
    "    for i in np.arange(1,n_qubits,1):\n",
    "        observable=observable + SparsePauliOp.from_list([(\"I\"*(i)+\"X\"+\"I\"*(n_qubits-1-i) , -h_coupling )])\n",
    "    for i in range(n_qubits-1):\n",
    "        observable=observable + (SparsePauliOp.from_list([(\"I\"*(i)+\"ZZ\"+\"I\"*(n_qubits-2-i) ,- j_coupling)]))\n",
    "        \n",
    "       \n",
    "    qnn_VQE=EstimatorQNN(\n",
    "        estimator=Estimator(options={\"shots\":1e10}),\n",
    "        circuit=qc_VQE,\n",
    "        weight_params=ansatz_VQE.parameters,\n",
    "        observables=observable\n",
    "        )\n",
    "\n",
    "    eigenValues=np.linalg.eig(observable.to_matrix())[0]\n",
    "    eigenValues.sort()\n",
    "\n",
    "    groundEnergy=eigenValues[0]\n",
    "    #print(\"ground state energy =\", groundEnergy)\n",
    "    \n",
    "    init_weights=np.random.rand(qnn_VQE.num_weights)*2*np.pi\n",
    "    weights=init_weights\n",
    "    \n",
    "    loss=[]\n",
    "    for i in range(nSteps):\n",
    "        vev=qnn_VQE.forward([], weights)[0][0]\n",
    "        input_grad, weight_grad=qnn_VQE.backward([],weights)\n",
    "        grad=weight_grad[0,0,:]\n",
    "        weights=weights-learning_rate*grad\n",
    "        loss.append(vev)\n",
    "\n",
    "#         if i%1==0:\n",
    "\n",
    "#             clear_output(wait=True)\n",
    "#             plt.figure(1)\n",
    "#             callback_graph(loss)\n",
    "#             plt.plot(range(len(loss)),groundEnergy*np.ones(len(loss)),label='truth')\n",
    "#             plt.legend()\n",
    "#             #plt.yscale('log')\n",
    "#             plt.show()\n",
    "\n",
    "    return weights,vev,groundEnergy"
   ]
  },
  {
   "cell_type": "markdown",
   "id": "1ddcfd50",
   "metadata": {},
   "source": [
    "Next, prepare a series of ground states and its labels based on the value of |g|\n",
    "\n",
    "For |g|<1, two-fold degenerate ground state.\n",
    "\n",
    "For |g|>1, non-degenerate ground state."
   ]
  },
  {
   "cell_type": "code",
   "execution_count": 4,
   "id": "9152cfce",
   "metadata": {
    "scrolled": true
   },
   "outputs": [
    {
     "name": "stdout",
     "output_type": "stream",
     "text": [
      "g =  0.0  diff= 0.00010638618550936248\n",
      "g =  0.02  diff= 9.340607084824762e-06\n",
      "g =  0.04  diff= 2.863293385137031e-05\n",
      "g =  0.06  diff= 0.0004413863074908073\n",
      "g =  0.08  diff= 0.0027513972839103783\n",
      "g =  0.1  diff= 6.654493783520823e-05\n",
      "g =  0.12  diff= 6.775697437408961e-05\n",
      "g =  0.14  diff= 0.003434186795112169\n",
      "g =  0.16  diff= 0.000556225409133761\n",
      "g =  0.18  diff= 0.0003832125592443966\n",
      "g =  0.2  diff= 0.0006144197886095829\n",
      "g =  0.22  diff= 0.0008389163300351727\n",
      "g =  0.24  diff= 0.002349221897867422\n",
      "g =  0.26  diff= 0.0015774032265961683\n",
      "g =  0.28  diff= 0.010668475892046543\n",
      "g =  0.3  diff= 0.002564267909280322\n",
      "g =  0.32  diff= 0.0034082945320581463\n",
      "g =  0.34  diff= 0.0037947268514805133\n",
      "g =  0.36  diff= 0.009840793613084889\n",
      "g =  0.38  diff= 0.005921370738079984\n",
      "g =  0.4  diff= 0.009921846660484965\n",
      "g =  0.42  diff= 0.008219075277290832\n",
      "g =  0.44  diff= 0.01660423747724663\n",
      "g =  0.46  diff= 0.010324706915635709\n",
      "g =  0.48  diff= 0.011936021622958105\n",
      "g =  0.5  diff= 0.013846630527418753\n",
      "g =  0.52  diff= 0.01753302655578636\n",
      "g =  0.54  diff= 0.016715910337609684\n",
      "g =  0.56  diff= 0.017312631410527975\n",
      "g =  0.58  diff= 0.019463617415333125\n",
      "g =  0.6  diff= 0.030611105538057633\n",
      "g =  0.62  diff= 0.02301505044809718\n",
      "g =  0.64  diff= 0.01448650024318243\n",
      "g =  0.66  diff= 0.014113594161408198\n",
      "g =  0.68  diff= 0.030235331697351268\n",
      "g =  0.7000000000000001  diff= 0.037411361776724716\n",
      "g =  0.72  diff= 0.04015432382001282\n",
      "g =  0.74  diff= 0.028732981255569962\n",
      "g =  0.76  diff= 0.043796151607274666\n",
      "g =  0.78  diff= 0.0329214787498278\n",
      "g =  0.8  diff= 0.019411671815812766\n",
      "g =  0.8200000000000001  diff= 0.01906168360250507\n",
      "g =  0.84  diff= 0.008473226522581206\n",
      "g =  0.86  diff= 0.01563696809889805\n",
      "g =  0.88  diff= 0.03485213264092224\n",
      "g =  0.9  diff= 0.03058956170382451\n",
      "g =  0.92  diff= 0.0077855563213857035\n",
      "g =  0.9400000000000001  diff= 0.009207816798949943\n",
      "g =  0.96  diff= 0.008723836355998922\n",
      "g =  0.98  diff= 0.018154041839767952\n",
      "lowG finished\n",
      "g =  1.02  diff= 0.01012560444296456\n",
      "g =  1.04  diff= 0.014581514492670068\n",
      "g =  1.06  diff= 0.009051258389148232\n",
      "g =  1.08  diff= 0.00909543016163656\n",
      "g =  1.1  diff= 0.011900744446491003\n",
      "g =  1.12  diff= 0.013399574830455568\n",
      "g =  1.1400000000000001  diff= 0.010805534081587569\n",
      "g =  1.1600000000000001  diff= 0.00722563173027454\n",
      "g =  1.1800000000000002  diff= 0.0055223367562641556\n",
      "g =  1.2000000000000002  diff= 0.0074356736995551875\n",
      "g =  1.2200000000000002  diff= 0.005383447306750081\n",
      "g =  1.2400000000000002  diff= 0.007869109239164784\n",
      "g =  1.2600000000000002  diff= 0.019458938782046315\n",
      "g =  1.2800000000000002  diff= 0.012484937616214428\n",
      "g =  1.3000000000000003  diff= 0.007754906926641738\n",
      "g =  1.3200000000000003  diff= 0.0021720325873105305\n",
      "g =  1.3400000000000003  diff= 0.008551292645964803\n",
      "g =  1.3600000000000003  diff= 0.005263195325571373\n",
      "g =  1.3800000000000003  diff= 0.0018018793160517698\n",
      "g =  1.4000000000000004  diff= 0.0027916434179674704\n",
      "g =  1.4200000000000004  diff= 0.0020220615417574574\n",
      "g =  1.4400000000000004  diff= 0.015647437774539297\n",
      "g =  1.4600000000000004  diff= 0.006702465921464085\n",
      "g =  1.4800000000000004  diff= 0.0014507763839069412\n",
      "g =  1.5000000000000004  diff= 0.0013418582171928174\n",
      "g =  1.5200000000000005  diff= 0.006587617039921899\n",
      "g =  1.5400000000000005  diff= 0.007845622964036725\n",
      "g =  1.5600000000000005  diff= 0.007116382859795895\n",
      "g =  1.5800000000000005  diff= 0.0011047384878711314\n",
      "g =  1.6000000000000005  diff= 0.018318898949192856\n",
      "g =  1.6200000000000006  diff= 0.0025987527860521728\n",
      "g =  1.6400000000000006  diff= 0.0014743905464675163\n",
      "g =  1.6600000000000006  diff= 0.005886728808367433\n",
      "g =  1.6800000000000006  diff= 0.0008670089638419531\n",
      "g =  1.7000000000000006  diff= 0.006309322847105012\n",
      "g =  1.7200000000000006  diff= 0.00640335983921001\n",
      "g =  1.7400000000000007  diff= 0.010116165170884527\n",
      "g =  1.7600000000000007  diff= 0.006513797034755439\n",
      "g =  1.7800000000000007  diff= 0.0009713387459858109\n",
      "g =  1.8000000000000007  diff= 0.008790730170235819\n",
      "g =  1.8200000000000007  diff= 0.0016232199665076276\n",
      "g =  1.8400000000000007  diff= 0.003448270868207703\n",
      "g =  1.8600000000000008  diff= 0.0024498639647769385\n",
      "g =  1.8800000000000008  diff= 0.005224088620150819\n",
      "g =  1.9000000000000008  diff= 0.002018344347154854\n",
      "g =  1.9200000000000008  diff= 0.006695673243766997\n",
      "g =  1.9400000000000008  diff= 0.0005188650748668268\n",
      "g =  1.9600000000000009  diff= 0.0007256127020281982\n",
      "g =  1.9800000000000009  diff= 0.0009846701612070566\n",
      "g =  2.000000000000001  diff= 0.001416838369773425\n"
     ]
    }
   ],
   "source": [
    "if VQE_training:#Obtaining ground state for |g|<1 \n",
    "    nSteps=100\n",
    "    step=0.02\n",
    "    lowGs=np.arange(0,1,step)\n",
    "    highGs=np.arange(1+step,2.0+step,step)\n",
    "    w_low=[]\n",
    "    Egs_estimate_low=[]\n",
    "    Egs_low=[]\n",
    "    for g in lowGs:\n",
    "        for i in range(5):\n",
    "            weights,Egs_estimate,Egs=getGoundState(g_coupling=g,nSteps=nSteps,learning_rate=1e-1)\n",
    "            diff=abs(Egs_estimate-Egs)/abs(Egs)\n",
    "\n",
    "            if diff< 0.02:\n",
    "                break\n",
    "                \n",
    "        print(\"g = \",g,\" diff=\",diff)\n",
    "                \n",
    "        w_low.append(weights)\n",
    "        Egs_estimate_low.append(Egs_estimate)\n",
    "        Egs_low.append(Egs)\n",
    "\n",
    "    print(\"lowG finished\")\n",
    "    dict_low={\"weights\": w_low,\"E_gs_estimate\": Egs_estimate_low,\n",
    "              \"E_gs\":Egs_low,\"g\":lowGs}\n",
    "    with open('lowG_dict.pkl', 'wb') as f:\n",
    "        pickle.dump(dict_low, f)\n",
    "\n",
    "\n",
    "    w_high=[]\n",
    "    Egs_estimate_high=[]\n",
    "    Egs_high=[]\n",
    "    for g in highGs:\n",
    "        for i in range(5):\n",
    "            weights,Egs_estimate,Egs=getGoundState(g_coupling=g,nSteps=nSteps,learning_rate=1e-1)\n",
    "            diff=abs(Egs_estimate-Egs)/abs(Egs)\n",
    "            if diff< 0.02:\n",
    "                break\n",
    "        print(\"g = \",g,\" diff=\",diff)\n",
    "        w_high.append(weights)\n",
    "        Egs_estimate_high.append(Egs_estimate)\n",
    "        Egs_high.append(Egs)\n",
    "\n",
    "    dict_high={\"weights\": w_high,\"E_gs_estimate\":Egs_estimate_high,\n",
    "               \"E_gs\": Egs_high ,\"g\":highGs}\n",
    "    with open('highG_dict.pkl', 'wb') as f:\n",
    "        pickle.dump(dict_high, f)\n",
    "        \n",
    "    dataset={'weights':dict_low['weights']+dict_high['weights'], \n",
    "         'label': np.concatenate([-1*np.ones(len(dict_low['weights'])),np.ones(len(dict_high['weights']))])\n",
    "        ,'g':np.concatenate([dict_low['g'],dict_high['g']])\n",
    "        }\n",
    "    \n",
    "    with open('dataset.pkl', 'wb') as f:\n",
    "        pickle.dump(dataset, f)\n",
    "    "
   ]
  },
  {
   "cell_type": "code",
   "execution_count": 44,
   "id": "0d531f2b",
   "metadata": {},
   "outputs": [],
   "source": [
    "dataset={'weights':dict_low['weights']+dict_high['weights'], \n",
    "         'label': np.concatenate([-1*np.ones(len(dict_low['weights'])),np.ones(len(dict_high['weights']))])\n",
    "        ,'g':np.concatenate([dict_low['g'],dict_high['g']])\n",
    "        }\n",
    "    \n",
    "with open('dataset.pkl', 'wb') as f:\n",
    "    pickle.dump(dataset, f)"
   ]
  },
  {
   "cell_type": "code",
   "execution_count": 45,
   "id": "e3630574-0ab8-4fc3-a5d9-8986cf7d69ff",
   "metadata": {},
   "outputs": [],
   "source": [
    "# with open('lowG_dict.pkl', 'rb') as f:\n",
    "#     dict_low = pickle.load(f)\n",
    "\n",
    "# with open('highG_dict.pkl', 'rb') as f:\n",
    "#     dict_high = pickle.load(f)\n",
    "\n",
    "with open('dataset.pkl', 'rb') as f:\n",
    "    dataset = pickle.load(f)"
   ]
  },
  {
   "cell_type": "code",
   "execution_count": 46,
   "id": "41515bcd",
   "metadata": {},
   "outputs": [
    {
     "data": {
      "text/plain": [
       "100"
      ]
     },
     "execution_count": 46,
     "metadata": {},
     "output_type": "execute_result"
    }
   ],
   "source": [
    "dataset['g'].shape[0]"
   ]
  },
  {
   "cell_type": "code",
   "execution_count": 47,
   "id": "c2d6041d",
   "metadata": {},
   "outputs": [
    {
     "data": {
      "text/plain": [
       "100"
      ]
     },
     "execution_count": 47,
     "metadata": {},
     "output_type": "execute_result"
    }
   ],
   "source": [
    "len(dataset['weights'])"
   ]
  },
  {
   "cell_type": "code",
   "execution_count": 48,
   "id": "db8b91b2",
   "metadata": {},
   "outputs": [
    {
     "name": "stdout",
     "output_type": "stream",
     "text": [
      "N training events =  80\n",
      "N test events =  20\n"
     ]
    }
   ],
   "source": [
    "g_train=[]\n",
    "X_train=[]\n",
    "y_train=[]\n",
    "g_test=[]\n",
    "X_test=[]\n",
    "y_test=[]\n",
    "for i in range(len(dataset['label'])):\n",
    "    if i % 5 == 0:\n",
    "        X_test.append(dataset['weights'][i])\n",
    "        y_test.append(dataset['label'][i])\n",
    "        g_test.append(dataset['g'][i])\n",
    "        \n",
    "        \n",
    "    \n",
    "    else:\n",
    "        \n",
    "        X_train.append(dataset['weights'][i])\n",
    "        y_train.append(dataset['label'][i])\n",
    "        g_train.append(dataset['g'][i])\n",
    "        \n",
    "        \n",
    "#     if i > int(len(dataset['label'])/2):\n",
    "#         break\n",
    "    \n",
    "X_train=np.array(X_train)\n",
    "y_train=np.array(y_train)\n",
    "g_train=np.array(g_train)\n",
    "\n",
    "X_test=np.array(X_test)\n",
    "y_test=np.array(y_test)\n",
    "g_test=np.array(g_test)\n",
    "\n",
    "print(\"N training events = \",X_train.shape[0])\n",
    "print(\"N test events = \",X_test.shape[0])"
   ]
  },
  {
   "cell_type": "code",
   "execution_count": null,
   "id": "f9b73ecb",
   "metadata": {},
   "outputs": [],
   "source": []
  },
  {
   "cell_type": "code",
   "execution_count": null,
   "id": "6f8c108a",
   "metadata": {},
   "outputs": [],
   "source": []
  },
  {
   "cell_type": "code",
   "execution_count": null,
   "id": "6e0a96b9",
   "metadata": {},
   "outputs": [],
   "source": []
  },
  {
   "cell_type": "code",
   "execution_count": null,
   "id": "bc4609b4",
   "metadata": {},
   "outputs": [],
   "source": [
    "def addConv(qc,i1,i2,weights):\n",
    "    # 15 parameters in total\n",
    "    params_index=0\n",
    "    #single qubit rotations\n",
    "    qc.rz(weights[params_index],i1)\n",
    "    params_index+=1\n",
    "    qc.ry(weights[params_index],i1)\n",
    "    params_index+=1\n",
    "    qc.rx(weights[params_index],i1)\n",
    "    params_index+=1\n",
    "    \n",
    "    qc.rz(weights[params_index],i2)\n",
    "    params_index+=1\n",
    "    qc.ry(weights[params_index],i2)\n",
    "    params_index+=1\n",
    "    qc.rx(weights[params_index],i2)\n",
    "    params_index+=1\n",
    "    \n",
    "    #two qubits rotations\n",
    "    qc.rzz(weights[params_index],i1,i2)\n",
    "    params_index+=1\n",
    "    qc.ryy(weights[params_index],i1,i2)\n",
    "    params_index+=1\n",
    "    qc.rxx(weights[params_index],i1,i2)\n",
    "    params_index+=1\n",
    "    \n",
    "    qc.rz(weights[params_index],i1)\n",
    "    params_index+=1\n",
    "    qc.ry(weights[params_index],i1)\n",
    "    params_index+=1\n",
    "    qc.rx(weights[params_index],i1)\n",
    "    params_index+=1\n",
    "    \n",
    "    qc.rz(weights[params_index],i2)\n",
    "    params_index+=1\n",
    "    qc.ry(weights[params_index],i2)\n",
    "    params_index+=1\n",
    "    qc.rx(weights[params_index],i2)\n",
    "    \n",
    "    qc.barrier()\n",
    "    \n",
    "def addPooling(qc,i1,i2,weights):\n",
    "    params_index=0\n",
    "    qc.rz(weights[params_index],i1)\n",
    "    params_index += 1\n",
    "    qc.ry(weights[params_index],i1)\n",
    "    params_index += 1\n",
    "    qc.rx(weights[params_index],i1)\n",
    "    params_index += 1\n",
    "    \n",
    "    qc.rz(weights[params_index],i2)\n",
    "    params_index += 1\n",
    "    qc.ry(weights[params_index],i2)\n",
    "    params_index += 1\n",
    "    qc.rx(weights[params_index],i2)\n",
    "\n",
    "    qc.cx(i1,i2)\n",
    "\n",
    "    qc.rx(-weights[params_index],i2)\n",
    "    qc.ry(-weights[params_index-1],i2)\n",
    "    qc.rz(-weights[params_index-2],i2)\n",
    "\n",
    "    qc.barrier()"
   ]
  },
  {
   "cell_type": "code",
   "execution_count": null,
   "id": "03d3b431-483f-4579-a6ed-a5df14b5642c",
   "metadata": {},
   "outputs": [],
   "source": [
    "n_layers=1\n",
    "n_convWeights=15\n",
    "n_poolingWeights=6\n",
    "#n_params=n_convWeights*3 +n_poolingWeights*2\n",
    "n_params=n_convWeights*5 +n_poolingWeights*3\n",
    "weights = ParameterVector(\"weight\", n_params)\n",
    "params_index=0\n",
    "qr = QuantumRegister(n_qubits)\n",
    "qc = QuantumCircuit(qr)\n",
    "qc.compose(RealAmplitudes(num_qubits=n_qubits,reps=n_rep_VQEansatz), inplace=True) \n",
    "qc.barrier()\n",
    "\n",
    "\n",
    "#Convolution layer:\n",
    "\n",
    "index_start=0\n",
    "index_end=n_convWeights\n",
    "weights_conv1=weights[index_start:index_end]\n",
    "    \n",
    "for i in np.arange(0,n_qubits-1,1):\n",
    "#     index_start=i*n_convWeights\n",
    "#     index_end=(i+1)*n_convWeights\n",
    "#     weights_conv1=weights[index_start:index_end]\n",
    "    addConv(qc,i,i+1,weights_conv1)\n",
    "\n",
    "\n",
    "    \n",
    "qc.barrier()\n",
    "#pooling layer:\n",
    "index_start=index_end\n",
    "index_end+=n_poolingWeights\n",
    "weights_pooling1=weights[index_start:index_end]\n",
    "\n",
    "for i in np.arange(0,int(n_qubits/2),1):\n",
    "#     index_start=index_end\n",
    "#     index_end+=n_poolingWeights\n",
    "#     weights_pooling1=weights[index_start:index_end]\n",
    "    addPooling(qc,i*2,i*2+1,weights_pooling1)\n",
    "qc.barrier()\n",
    "\n",
    "\n",
    "#Convolution layer2:\n",
    "index_start=index_end\n",
    "index_end=index_start+n_convWeights\n",
    "weights_conv2=weights[index_start:index_end]\n",
    "for i in np.arange(0,int(n_qubits/4),1):\n",
    "#     index_start=index_end\n",
    "#     index_end=index_start+n_convWeights\n",
    "#     weights_conv2=weights[index_start:index_end]\n",
    "    addConv(qc,i*4+1,i*4+3,weights_conv2)\n",
    " \n",
    "\n",
    "#pooling layer2:\n",
    "index_start=index_end\n",
    "index_end+=n_poolingWeights\n",
    "weights_pooling2=weights[index_start:index_end]\n",
    "for i in np.arange(0,int(n_qubits/4),1):\n",
    "#     index_start=index_end\n",
    "#     index_end+=n_poolingWeights\n",
    "#     weights_pooling2=weights[index_start:index_end]\n",
    "    addPooling(qc,i*4+1,i*4+3,weights_pooling2)\n",
    "\n",
    "qc.barrier()"
   ]
  },
  {
   "cell_type": "code",
   "execution_count": null,
   "id": "4cdfd209-9cd1-42a1-b8c7-6dd3c48d570b",
   "metadata": {
    "scrolled": false
   },
   "outputs": [],
   "source": [
    "qc.draw('mpl')"
   ]
  },
  {
   "cell_type": "code",
   "execution_count": 7,
   "id": "ce4390c7",
   "metadata": {},
   "outputs": [],
   "source": [
    "def predict(X,qc,ob,weights):\n",
    "\n",
    "    prediction=[]\n",
    "    for i in range(len(X)):\n",
    "        job=estimator.run(circuits=qc, observables=ob\n",
    "                          , parameter_values=np.concatenate([X[i],weights]))\n",
    "        jobResult=job.result().values\n",
    "        prediction.append(jobResult)\n",
    "    return np.array(prediction).flatten()\n",
    "\n",
    "def cost_func(weights,X,y,qc,ob):\n",
    "    global cost_val_list\n",
    "    pred = predict(X,qc,ob,weights)\n",
    "    \n",
    "    #pred=-abs(pred-params[-1])\n",
    "    cost_val=((pred-y)**2).sum()\n",
    "    cost_val_list.append(cost_val)\n",
    "    \n",
    "    clear_output(wait=True)\n",
    "    plt.plot(np.arange(0,len(cost_val_list)), cost_val_list)\n",
    "    plt.xlabel('iteration')\n",
    "    plt.ylabel('cost function')\n",
    "    plt.legend()\n",
    "    plt.show()\n",
    "    return cost_val"
   ]
  },
  {
   "cell_type": "code",
   "execution_count": null,
   "id": "61b21a79",
   "metadata": {},
   "outputs": [],
   "source": [
    "estimator = Estimator()\n",
    "ob = SparsePauliOp.from_list([(\"I\"*(n_qubits-1)+\"Z\" , 1 )])\n",
    "n_VQEparams=len(X_train[0])\n",
    "n_QCNNweights=qc.num_parameters-n_VQEparams\n",
    "print(n_VQEparams)\n",
    "print(n_QCNNweights)"
   ]
  },
  {
   "cell_type": "code",
   "execution_count": null,
   "id": "3e343f1c",
   "metadata": {},
   "outputs": [],
   "source": []
  },
  {
   "cell_type": "code",
   "execution_count": null,
   "id": "7fac1d8d",
   "metadata": {},
   "outputs": [],
   "source": []
  },
  {
   "cell_type": "markdown",
   "id": "b5cadb19",
   "metadata": {},
   "source": [
    "COBYLA"
   ]
  },
  {
   "cell_type": "code",
   "execution_count": null,
   "id": "15853c6c",
   "metadata": {},
   "outputs": [],
   "source": [
    "import scipy.optimize \n",
    "method='COBYLA'\n",
    "MaxIter=500\n",
    "initial_weights=2*np.pi*np.random.rand(n_QCNNweights)\n",
    "cost_val_list=[]\n",
    "res = scipy.optimize.minimize(cost_func, initial_weights,method=method,options={'maxiter':MaxIter}\n",
    "                              ,args=(X_train,y_train,qc,ob)) #minimize cost function via scipy\n"
   ]
  },
  {
   "cell_type": "code",
   "execution_count": null,
   "id": "f77a81ae",
   "metadata": {},
   "outputs": [],
   "source": []
  },
  {
   "cell_type": "code",
   "execution_count": null,
   "id": "fb000a1b",
   "metadata": {},
   "outputs": [],
   "source": []
  },
  {
   "cell_type": "code",
   "execution_count": null,
   "id": "b0984eb8",
   "metadata": {},
   "outputs": [],
   "source": [
    "\n",
    "from sklearn import metrics\n",
    "from sklearn.metrics import RocCurveDisplay\n",
    "\n",
    "y_predict=predict(X_train,qc,ob,res.x)\n",
    "\n",
    "fpr, tpr, thresholds = metrics.roc_curve(y_train, y_predict, pos_label=1)\n",
    "\n",
    "bestValidation=0\n",
    "threshold_best=0\n",
    "for t in thresholds:\n",
    "    y=y_predict.copy().flatten()\n",
    "    y[y>t]=1\n",
    "    y[y<t]=-1\n",
    "    diff=y-y_train\n",
    "    val=diff[diff==0].shape[0]/y.shape[0]\n",
    "    if val>bestValidation:\n",
    "        bestValidation=val\n",
    "        threshold_best=t\n",
    "        print(val,threshold_best)\n",
    "plt.plot(fpr,tpr)\n",
    "\n",
    "y_test_predict=predict(X_test,qc,ob,res.x)\n",
    "y_test_predict[y_test_predict<threshold_best]=-1\n",
    "y_test_predict[y_test_predict>=threshold_best]=1\n",
    "diff=y_test-y_test_predict\n",
    "accuracy_COBYLA=diff[diff==0].shape[0]/diff.shape[0]\n",
    "print(accuracy_COBYLA)"
   ]
  },
  {
   "cell_type": "code",
   "execution_count": null,
   "id": "4f3afa9f",
   "metadata": {},
   "outputs": [],
   "source": []
  },
  {
   "cell_type": "code",
   "execution_count": null,
   "id": "04edc708",
   "metadata": {},
   "outputs": [],
   "source": []
  },
  {
   "cell_type": "code",
   "execution_count": null,
   "id": "74aa093b",
   "metadata": {},
   "outputs": [],
   "source": []
  },
  {
   "cell_type": "code",
   "execution_count": null,
   "id": "9f03bd14",
   "metadata": {},
   "outputs": [],
   "source": []
  },
  {
   "cell_type": "code",
   "execution_count": null,
   "id": "00c64781",
   "metadata": {},
   "outputs": [],
   "source": []
  },
  {
   "cell_type": "markdown",
   "id": "317c8d40",
   "metadata": {},
   "source": [
    "Gradient"
   ]
  },
  {
   "cell_type": "code",
   "execution_count": null,
   "id": "877ffbe0",
   "metadata": {},
   "outputs": [],
   "source": [
    "def getParamsVariations(x,weights):\n",
    "    n_VQEparams=len(x)\n",
    "    #Adding QCNN weight to the VQE parameters to obtain the full list of parameters\n",
    "    params=np.concatenate([x,weights])\n",
    "    param_variation_list=[params]\n",
    "    # vary each weight by +- pi/2 for parameter-shift rule\n",
    "    for i in range(len(weights)):\n",
    "        tmp_param=params.copy()\n",
    "        tmp_param[n_VQEparams+i]+=np.pi/2\n",
    "        param_variation_list.append(tmp_param)\n",
    "        tmp_param=params.copy()\n",
    "        tmp_param[n_VQEparams+i]-=np.pi/2\n",
    "        param_variation_list.append(tmp_param)\n",
    "    return np.array(param_variation_list)\n",
    "\n",
    "def getGrad(jobResult):\n",
    "    vev=jobResult[0]\n",
    "    grad=[]\n",
    "    for i in range(int((jobResult.shape[0]-1)/2)):\n",
    "        tmpGrad=(jobResult[2*i+1]-jobResult[2*i+2])/2\n",
    "        grad.append(tmpGrad)\n",
    "    grad=np.array(grad)\n",
    "    return vev,grad"
   ]
  },
  {
   "cell_type": "code",
   "execution_count": null,
   "id": "1e783c49",
   "metadata": {},
   "outputs": [],
   "source": [
    "initial_weights=2*np.pi*np.random.rand(n_QCNNweights)\n",
    "weights=initial_weights"
   ]
  },
  {
   "cell_type": "code",
   "execution_count": null,
   "id": "f98e7f0c-88d7-4f82-97d6-66704e371e84",
   "metadata": {
    "scrolled": true
   },
   "outputs": [],
   "source": [
    "nIterations=30\n",
    "learning_rate=1e-1\n",
    "loss_list=[]\n",
    "\n",
    "for Iter in range(nIterations):\n",
    "\n",
    "    cost=0\n",
    "    grad_all=np.zeros(n_QCNNweights)\n",
    "    for i in range(len(X_train)):\n",
    "        param_variation_list=getParamsVariations(X_train[i],weights)\n",
    "        circuits=[qc]*len(param_variation_list)\n",
    "        observable=[ob]*len(param_variation_list)\n",
    "        \n",
    "        job=estimator.run(circuits=circuits, observables=observable\n",
    "                          , parameter_values=param_variation_list)\n",
    "        jobResult=job.result().values\n",
    "        vev,circuitGrad=getGrad(jobResult)\n",
    "        cost+=(vev-y_train[i])**2\n",
    "        grad= 2*(vev-y_train[i])*circuitGrad\n",
    "        grad_all+=grad\n",
    "        \n",
    "    print(cost)\n",
    "    loss_list.append(cost)\n",
    "    weights-=learning_rate*grad_all\n"
   ]
  },
  {
   "cell_type": "code",
   "execution_count": null,
   "id": "ab1a246d",
   "metadata": {},
   "outputs": [],
   "source": [
    "\n",
    "y_predict=predict(X_train,qc,ob,weights)\n",
    "\n",
    "fpr, tpr, thresholds = metrics.roc_curve(y_train, y_predict, pos_label=1)\n",
    "\n",
    "bestValidation=0\n",
    "threshold_best=0\n",
    "for t in thresholds:\n",
    "    y=y_predict.copy().flatten()\n",
    "    y[y>t]=1\n",
    "    y[y<t]=-1\n",
    "    diff=y-y_train\n",
    "    val=diff[diff==0].shape[0]/y.shape[0]\n",
    "    if val>bestValidation:\n",
    "        bestValidation=val\n",
    "        threshold_best=t\n",
    "        print(val,threshold_best)\n",
    "plt.plot(fpr,tpr)"
   ]
  },
  {
   "cell_type": "code",
   "execution_count": null,
   "id": "4ef66498",
   "metadata": {},
   "outputs": [],
   "source": [
    "y_test_predict=predict(X_test,qc,ob,weights)\n",
    "y_test_predict[y_test_predict<threshold_best]=-1\n",
    "y_test_predict[y_test_predict>=threshold_best]=1\n",
    "diff=y_test-y_test_predict\n",
    "accuracy_Gradient=diff[diff==0].shape[0]/diff.shape[0]\n",
    "print(accuracy_Gradient)"
   ]
  },
  {
   "cell_type": "code",
   "execution_count": null,
   "id": "2c33132f",
   "metadata": {},
   "outputs": [],
   "source": []
  },
  {
   "cell_type": "code",
   "execution_count": null,
   "id": "255d8f69",
   "metadata": {},
   "outputs": [],
   "source": []
  },
  {
   "cell_type": "code",
   "execution_count": null,
   "id": "1585625e",
   "metadata": {},
   "outputs": [],
   "source": []
  },
  {
   "cell_type": "code",
   "execution_count": null,
   "id": "ed67b914",
   "metadata": {},
   "outputs": [],
   "source": []
  },
  {
   "cell_type": "code",
   "execution_count": null,
   "id": "8ada3be7",
   "metadata": {},
   "outputs": [],
   "source": []
  },
  {
   "cell_type": "code",
   "execution_count": null,
   "id": "e734ae19",
   "metadata": {},
   "outputs": [],
   "source": []
  },
  {
   "cell_type": "code",
   "execution_count": null,
   "id": "5708d194",
   "metadata": {},
   "outputs": [],
   "source": []
  },
  {
   "cell_type": "markdown",
   "id": "fcd85efc",
   "metadata": {},
   "source": [
    "non-QCNN"
   ]
  },
  {
   "cell_type": "code",
   "execution_count": 16,
   "id": "6a90e824",
   "metadata": {},
   "outputs": [
    {
     "data": {
      "text/plain": [
       "<qiskit.circuit.instructionset.InstructionSet at 0x15c876cb0>"
      ]
     },
     "execution_count": 16,
     "metadata": {},
     "output_type": "execute_result"
    }
   ],
   "source": [
    "\n",
    "qr = QuantumRegister(n_qubits)\n",
    "qc = QuantumCircuit(qr)\n",
    "qc.compose(RealAmplitudes(num_qubits=n_qubits,reps=n_rep_VQEansatz), inplace=True) \n",
    "qc.compose(RealAmplitudes(num_qubits=n_qubits,reps=5,parameter_prefix='w'), inplace=True) \n",
    "qc.barrier()\n",
    "\n",
    "\n"
   ]
  },
  {
   "cell_type": "code",
   "execution_count": 17,
   "id": "44e90ca5",
   "metadata": {},
   "outputs": [
    {
     "name": "stdout",
     "output_type": "stream",
     "text": [
      "8\n",
      "24\n"
     ]
    }
   ],
   "source": [
    "estimator = Estimator()\n",
    "ob = SparsePauliOp.from_list([(\"Z\"*(n_qubits) , 1 )])\n",
    "n_VQEparams=len(X_train[0])\n",
    "n_QCNNweights=qc.num_parameters-n_VQEparams\n",
    "print(n_VQEparams)\n",
    "print(n_QCNNweights)"
   ]
  },
  {
   "cell_type": "code",
   "execution_count": 18,
   "id": "87ef699e",
   "metadata": {},
   "outputs": [
    {
     "name": "stderr",
     "output_type": "stream",
     "text": [
      "No artists with labels found to put in legend.  Note that artists whose label start with an underscore are ignored when legend() is called with no argument.\n"
     ]
    },
    {
     "data": {
      "image/png": "[encoded data removed]",
      "text/plain": [
       "<Figure size 432x288 with 1 Axes>"
      ]
     },
     "metadata": {
      "needs_background": "light"
     },
     "output_type": "display_data"
    }
   ],
   "source": [
    "import scipy.optimize \n",
    "method='COBYLA'\n",
    "MaxIter=300\n",
    "initial_weights=2*np.pi*np.random.rand(n_QCNNweights)\n",
    "cost_val_list=[]\n",
    "res = scipy.optimize.minimize(cost_func, initial_weights,method=method,options={'maxiter':MaxIter}\n",
    "                              ,args=(X_train,y_train,qc,ob)) #minimize cost function via scipy\n"
   ]
  },
  {
   "cell_type": "code",
   "execution_count": 23,
   "id": "e59dd7b2",
   "metadata": {},
   "outputs": [
    {
     "name": "stdout",
     "output_type": "stream",
     "text": [
      "0.5 inf\n",
      "0.9 0.4729333236592261\n",
      "0.9125 0.16748006941202667\n",
      "0.925 -0.0032682784334191056\n"
     ]
    },
    {
     "data": {
      "text/plain": [
       "[<matplotlib.lines.Line2D at 0x15c17aef0>]"
      ]
     },
     "execution_count": 23,
     "metadata": {},
     "output_type": "execute_result"
    },
    {
     "data": {
      "image/png": "[encoded data removed]",
      "text/plain": [
       "<Figure size 432x288 with 1 Axes>"
      ]
     },
     "metadata": {
      "needs_background": "light"
     },
     "output_type": "display_data"
    }
   ],
   "source": [
    "\n",
    "from sklearn import metrics\n",
    "from sklearn.metrics import RocCurveDisplay\n",
    "\n",
    "y_predict=predict(X_train,qc,ob,res.x)\n",
    "\n",
    "fpr, tpr, thresholds = metrics.roc_curve(y_train, y_predict, pos_label=1)\n",
    "\n",
    "bestValidation=0\n",
    "threshold_best=0\n",
    "for t in thresholds:\n",
    "    y=y_predict.copy().flatten()\n",
    "    y[y>t]=1\n",
    "    y[y<t]=-1\n",
    "    diff=y-y_train\n",
    "    val=diff[diff==0].shape[0]/y.shape[0]\n",
    "    if val>bestValidation:\n",
    "        bestValidation=val\n",
    "        threshold_best=t\n",
    "        print(val,threshold_best)\n",
    "plt.plot(fpr,tpr)\n",
    "\n"
   ]
  },
  {
   "cell_type": "code",
   "execution_count": 24,
   "id": "bd04e021",
   "metadata": {},
   "outputs": [],
   "source": [
    "y_test_predict=predict(X_test,qc,ob,res.x)"
   ]
  },
  {
   "cell_type": "code",
   "execution_count": 50,
   "id": "0e973b88",
   "metadata": {},
   "outputs": [
    {
     "data": {
      "text/plain": [
       "[<matplotlib.lines.Line2D at 0x15c56c9d0>]"
      ]
     },
     "execution_count": 50,
     "metadata": {},
     "output_type": "execute_result"
    },
    {
     "data": {
      "image/png": "[encoded data removed]",
      "text/plain": [
       "<Figure size 432x288 with 1 Axes>"
      ]
     },
     "metadata": {
      "needs_background": "light"
     },
     "output_type": "display_data"
    }
   ],
   "source": [
    "plt.plot(g_test,y_test_predict)"
   ]
  },
  {
   "cell_type": "code",
   "execution_count": null,
   "id": "4841b3c0",
   "metadata": {},
   "outputs": [],
   "source": [
    "\n",
    "y_test_predict[y_test_predict<threshold_best]=-1\n",
    "y_test_predict[y_test_predict>=threshold_best]=1\n",
    "diff=y_test-y_test_predict\n",
    "accuracy_COBYLA=diff[diff==0].shape[0]/diff.shape[0]\n",
    "print(accuracy_COBYLA)"
   ]
  },
  {
   "cell_type": "code",
   "execution_count": null,
   "id": "0c5fd487",
   "metadata": {},
   "outputs": [],
   "source": []
  },
  {
   "cell_type": "code",
   "execution_count": null,
   "id": "80e4e2aa",
   "metadata": {},
   "outputs": [],
   "source": []
  },
  {
   "cell_type": "code",
   "execution_count": null,
   "id": "24c7fe75",
   "metadata": {},
   "outputs": [],
   "source": []
  },
  {
   "cell_type": "code",
   "execution_count": null,
   "id": "a9fe0789",
   "metadata": {},
   "outputs": [],
   "source": []
  },
  {
   "cell_type": "code",
   "execution_count": null,
   "id": "014d8334",
   "metadata": {},
   "outputs": [],
   "source": []
  },
  {
   "cell_type": "code",
   "execution_count": null,
   "id": "69d2d6a4",
   "metadata": {},
   "outputs": [],
   "source": []
  },
  {
   "cell_type": "code",
   "execution_count": null,
   "id": "6286b4b8",
   "metadata": {},
   "outputs": [],
   "source": []
  },
  {
   "cell_type": "code",
   "execution_count": null,
   "id": "52842530",
   "metadata": {},
   "outputs": [],
   "source": []
  },
  {
   "cell_type": "code",
   "execution_count": null,
   "id": "1d214be3",
   "metadata": {},
   "outputs": [],
   "source": []
  },
  {
   "cell_type": "code",
   "execution_count": null,
   "id": "f5a949d1",
   "metadata": {},
   "outputs": [],
   "source": []
  },
  {
   "cell_type": "code",
   "execution_count": null,
   "id": "1b532ac9",
   "metadata": {},
   "outputs": [],
   "source": []
  }
 ],
 "metadata": {
  "kernelspec": {
   "display_name": "qc",
   "language": "python",
   "name": "qc"
  },
  "language_info": {
   "codemirror_mode": {
    "name": "ipython",
    "version": 3
   },
   "file_extension": ".py",
   "mimetype": "text/x-python",
   "name": "python",
   "nbconvert_exporter": "python",
   "pygments_lexer": "ipython3",
   "version": "3.10.4"
  }
 },
 "nbformat": 4,
 "nbformat_minor": 5
}
