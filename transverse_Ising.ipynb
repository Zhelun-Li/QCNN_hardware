{
 "cells": [
  {
   "cell_type": "code",
   "execution_count": 1,
   "id": "0e7b427f-0f65-41db-a429-91b0178820f4",
   "metadata": {},
   "outputs": [],
   "source": [
    "from qiskit import QuantumCircuit\n",
    "from qiskit.circuit import QuantumRegister,ClassicalRegister\n",
    "from qiskit_machine_learning.neural_networks import EstimatorQNN,SamplerQNN\n",
    "from IPython.display import clear_output\n",
    "import matplotlib.pyplot as plt\n",
    "import qiskit.quantum_info as qi\n",
    "from qiskit.circuit import ParameterVector\n",
    "from qiskit_algorithms.utils import algorithm_globals\n",
    "import time as t\n",
    "from qiskit.quantum_info import SparsePauliOp\n",
    "from qiskit.circuit.library import EfficientSU2,RealAmplitudes\n",
    "import numpy as np\n",
    "from qiskit.primitives import Estimator\n",
    "import pickle "
   ]
  },
  {
   "cell_type": "code",
   "execution_count": 2,
   "id": "51dd2ab6-297b-4a69-89c4-d055d18c956e",
   "metadata": {},
   "outputs": [],
   "source": [
    "VQE_training = False\n",
    "n_qubits=4\n",
    "j_coupling=1\n",
    "g_coupling=1.5\n",
    "n_rep_VQEansatz=1\n",
    "\n",
    "def callback_graph(x,name='loss'):\n",
    "    #clear_output(wait=True)\n",
    "    plt.title(\"Training curve\")\n",
    "    plt.xlabel(\"Iteration\")\n",
    "    plt.ylabel(name)\n",
    "    plt.plot(range(len(x)), x,label='ground state energy')\n",
    "    #plt.show()\n"
   ]
  },
  {
   "cell_type": "code",
   "execution_count": 3,
   "id": "ebb1bb2a",
   "metadata": {},
   "outputs": [],
   "source": [
    "def getGoundState(n_qubits=n_qubits,j_coupling=j_coupling,g_coupling=g_coupling,n_rep_VQEansatz=1,nSteps=200\n",
    "                 ,learning_rate=1e-2):\n",
    "    h_coupling=j_coupling*g\n",
    "    qr_VQE = QuantumRegister(n_qubits)\n",
    "    qc_VQE = QuantumCircuit(qr_VQE)\n",
    "    ansatz_VQE =  RealAmplitudes(num_qubits=n_qubits,reps=n_rep_VQEansatz)\n",
    "    qc_VQE.h(qr_VQE)\n",
    "    qc_VQE.compose(ansatz_VQE, inplace=True)  \n",
    "    \n",
    "    observable = SparsePauliOp.from_list([(\"X\"+\"I\"*(n_qubits-1) , h_coupling )])\n",
    "    for i in np.arange(1,n_qubits,1):\n",
    "        observable=observable + SparsePauliOp.from_list([(\"I\"*(i)+\"X\"+\"I\"*(n_qubits-1-i) , -h_coupling )])\n",
    "    for i in range(n_qubits-1):\n",
    "        observable=observable + (SparsePauliOp.from_list([(\"I\"*(i)+\"ZZ\"+\"I\"*(n_qubits-2-i) ,- j_coupling)]))\n",
    "        \n",
    "       \n",
    "    qnn_VQE=EstimatorQNN(\n",
    "        estimator=Estimator(options={\"shots\":1e10}),\n",
    "        circuit=qc_VQE,\n",
    "        weight_params=ansatz_VQE.parameters,\n",
    "        observables=observable\n",
    "        )\n",
    "\n",
    "    eigenValues=np.linalg.eig(observable.to_matrix())[0]\n",
    "    eigenValues.sort()\n",
    "\n",
    "    groundEnergy=eigenValues[0]\n",
    "    #print(\"ground state energy =\", groundEnergy)\n",
    "    \n",
    "    init_weights=np.random.rand(qnn_VQE.num_weights)*2*np.pi\n",
    "    weights=init_weights\n",
    "    \n",
    "    loss=[]\n",
    "    for i in range(nSteps):\n",
    "        vev=qnn_VQE.forward([], weights)[0][0]\n",
    "        input_grad, weight_grad=qnn_VQE.backward([],weights)\n",
    "        grad=weight_grad[0,0,:]\n",
    "        weights=weights-learning_rate*grad\n",
    "        loss.append(vev)\n",
    "\n",
    "#         if i%1==0:\n",
    "\n",
    "#             clear_output(wait=True)\n",
    "#             plt.figure(1)\n",
    "#             callback_graph(loss)\n",
    "#             plt.plot(range(len(loss)),groundEnergy*np.ones(len(loss)),label='truth')\n",
    "#             plt.legend()\n",
    "#             #plt.yscale('log')\n",
    "#             plt.show()\n",
    "\n",
    "    return weights,vev,groundEnergy"
   ]
  },
  {
   "cell_type": "markdown",
   "id": "1ddcfd50",
   "metadata": {},
   "source": [
    "Next, prepare a series of ground states and its labels based on the value of |g|\n",
    "\n",
    "For |g|<1, two-fold degenerate ground state.\n",
    "\n",
    "For |g|>1, non-degenerate ground state."
   ]
  },
  {
   "cell_type": "code",
   "execution_count": 65,
   "id": "9152cfce",
   "metadata": {
    "scrolled": true
   },
   "outputs": [
    {
     "name": "stdout",
     "output_type": "stream",
     "text": [
      "g =  0.0  diff= 0.001569033478162692\n",
      "g =  0.01  diff= 1.1256756966467336e-05\n",
      "g =  0.02  diff= 0.0010235289994690881\n",
      "g =  0.03  diff= 0.0006129456035299216\n",
      "g =  0.04  diff= 0.00020023448959565867\n",
      "g =  0.05  diff= 2.0819622814627557e-06\n",
      "g =  0.06  diff= 0.0007608008294877125\n",
      "g =  0.07  diff= 0.001415244090412328\n",
      "g =  0.08  diff= 0.00064712563653\n",
      "g =  0.09  diff= 0.0002069404664170375\n",
      "g =  0.1  diff= 0.0015619110176822088\n",
      "g =  0.11  diff= 6.143365160185137e-05\n",
      "g =  0.12  diff= 0.00011969751061918977\n",
      "g =  0.13  diff= 9.711658939895676e-05\n",
      "g =  0.14  diff= 0.0020136933617313653\n",
      "g =  0.15  diff= 0.00016560895128401988\n",
      "g =  0.16  diff= 0.0047395416277903\n",
      "g =  0.17  diff= 0.0002931393736979834\n",
      "g =  0.18  diff= 0.006425495840572183\n",
      "g =  0.19  diff= 0.00041234157594666903\n",
      "g =  0.2  diff= 0.0009524291993227528\n",
      "g =  0.21  diff= 0.0031859293897076248\n",
      "g =  0.22  diff= 0.0007277435097865781\n",
      "g =  0.23  diff= 0.0009700667473598713\n",
      "g =  0.24  diff= 0.004409529876279605\n",
      "g =  0.25  diff= 0.0012050316193270901\n",
      "g =  0.26  diff= 0.0019352265942985838\n",
      "g =  0.27  diff= 0.0018336908769757832\n",
      "g =  0.28  diff= 0.0035561198176096665\n",
      "g =  0.29  diff= 0.002377146556795489\n",
      "g =  0.3  diff= 0.002347265692902526\n",
      "g =  0.31  diff= 0.003088467550185984\n",
      "g =  0.32  diff= 0.0043462424332064865\n",
      "g =  0.33  diff= 0.0033521858472117384\n",
      "g =  0.34  diff= 0.004075902100640464\n",
      "g =  0.35000000000000003  diff= 0.004854214789703432\n",
      "g =  0.36  diff= 0.004757324877156034\n",
      "g =  0.37  diff= 0.005767501965194484\n",
      "g =  0.38  diff= 0.005864449163607933\n",
      "g =  0.39  diff= 0.006928434092228291\n",
      "g =  0.4  diff= 0.006874529272413008\n",
      "g =  0.41000000000000003  diff= 0.009412562274107026\n",
      "g =  0.42  diff= 0.007957408315870024\n",
      "g =  0.43  diff= 0.008280776836872481\n",
      "g =  0.44  diff= 0.011073425556853872\n",
      "g =  0.45  diff= 0.01231657462140186\n",
      "g =  0.46  diff= 0.010265291226756354\n",
      "g =  0.47000000000000003  diff= 0.012244421926079508\n",
      "g =  0.48  diff= 0.0117106973689045\n",
      "g =  0.49  diff= 0.01236726374806554\n",
      "g =  0.5  diff= 0.014192405294681205\n",
      "g =  0.51  diff= 0.01718263084256501\n",
      "g =  0.52  diff= 0.01608509615830151\n",
      "g =  0.53  diff= 0.01636746277603824\n",
      "g =  0.54  diff= 0.01642276960791586\n",
      "g =  0.55  diff= 0.01722986492731095\n",
      "g =  0.56  diff= 0.0198102389412467\n",
      "g =  0.5700000000000001  diff= 0.01865078674044319\n",
      "g =  0.58  diff= 0.019705443201064973\n",
      "g =  0.59  diff= 0.023190237323282955\n",
      "g =  0.6  diff= 0.022417398631228328\n",
      "g =  0.61  diff= 0.015430485237216672\n",
      "g =  0.62  diff= 0.04838337315543792\n",
      "g =  0.63  diff= 0.015005987639206806\n",
      "g =  0.64  diff= 0.019854955031355207\n",
      "g =  0.65  diff= 0.025410650129201115\n",
      "g =  0.66  diff= 0.018110897668434264\n",
      "g =  0.67  diff= 0.03466361493005267\n",
      "g =  0.68  diff= 0.02698515794629452\n",
      "g =  0.6900000000000001  diff= 0.01956245004375519\n",
      "g =  0.7000000000000001  diff= 0.017111891514169118\n",
      "g =  0.71  diff= 0.027895496292649265\n",
      "g =  0.72  diff= 0.01240781724484402\n",
      "g =  0.73  diff= 0.023098395860206355\n",
      "g =  0.74  diff= 0.030996340857744616\n",
      "g =  0.75  diff= 0.034930331835192854\n",
      "g =  0.76  diff= 0.011849996274658332\n",
      "g =  0.77  diff= 0.010357066408257372\n",
      "g =  0.78  diff= 0.12112912954342028\n",
      "g =  0.79  diff= 0.011033586588077479\n",
      "g =  0.8  diff= 0.012874567030406391\n",
      "g =  0.81  diff= 0.014084354548719572\n",
      "g =  0.8200000000000001  diff= 0.039024666067600834\n",
      "g =  0.8300000000000001  diff= 0.028618092747552643\n",
      "g =  0.84  diff= 0.008801469885205353\n",
      "g =  0.85  diff= 0.008262943545317264\n",
      "g =  0.86  diff= 0.009982055889583164\n",
      "g =  0.87  diff= 0.013670973229509805\n",
      "g =  0.88  diff= 0.009411357584519746\n",
      "g =  0.89  diff= 0.011626845326100827\n",
      "g =  0.9  diff= 0.014346821944987627\n",
      "g =  0.91  diff= 0.00990053789593756\n",
      "g =  0.92  diff= 0.024656610823864274\n",
      "g =  0.93  diff= 0.007340550202613356\n",
      "g =  0.9400000000000001  diff= 0.01792610027277709\n",
      "g =  0.9500000000000001  diff= 0.012159951689663745\n",
      "g =  0.96  diff= 0.018898634609119978\n",
      "g =  0.97  diff= 0.0074599122249685255\n",
      "g =  0.98  diff= 0.009745035869053313\n",
      "g =  0.99  diff= 0.010256062502116083\n",
      "lowG finished\n",
      "g =  1.01  diff= 0.007925119123961794\n",
      "g =  1.02  diff= 0.0049832582638325495\n",
      "g =  1.03  diff= 0.015509363734460017\n",
      "g =  1.04  diff= 0.010722075670887342\n",
      "g =  1.05  diff= 0.01017459075255038\n",
      "g =  1.06  diff= 0.00465465319443225\n",
      "g =  1.07  diff= 0.006217359043546634\n",
      "g =  1.08  diff= 0.012515211431633342\n",
      "g =  1.09  diff= 0.006040073950239821\n",
      "g =  1.1  diff= 0.005131367329099456\n",
      "g =  1.11  diff= 0.006841055486514968\n",
      "g =  1.12  diff= 0.018751064199781686\n",
      "g =  1.1300000000000001  diff= 0.0040837712980293095\n",
      "g =  1.1400000000000001  diff= 0.005776187840155102\n",
      "g =  1.1500000000000001  diff= 0.005846608112234378\n",
      "g =  1.1600000000000001  diff= 0.015522287245365859\n",
      "g =  1.1700000000000002  diff= 0.0048333977404891185\n",
      "g =  1.1800000000000002  diff= 0.005383863973606206\n",
      "g =  1.1900000000000002  diff= 0.007088319358543474\n",
      "g =  1.2000000000000002  diff= 0.0076673420709250355\n",
      "g =  1.2100000000000002  diff= 0.0031736397170638135\n",
      "g =  1.2200000000000002  diff= 0.005628185358638988\n",
      "g =  1.2300000000000002  diff= 0.0026727057685889577\n",
      "g =  1.2400000000000002  diff= 0.004212557525835381\n",
      "g =  1.2500000000000002  diff= 0.005755452680000285\n",
      "g =  1.2600000000000002  diff= 0.007655405060062874\n",
      "g =  1.2700000000000002  diff= 0.01100044131666597\n",
      "g =  1.2800000000000002  diff= 0.0028262012628788376\n",
      "g =  1.2900000000000003  diff= 0.003885144378035035\n",
      "g =  1.3000000000000003  diff= 0.015663750000853745\n",
      "g =  1.3100000000000003  diff= 0.0021576426591629833\n",
      "g =  1.3200000000000003  diff= 0.0020773301330389367\n",
      "g =  1.3300000000000003  diff= 0.002125198305191005\n",
      "g =  1.3400000000000003  diff= 0.009192791537255246\n",
      "g =  1.3500000000000003  diff= 0.0023773472242825944\n",
      "g =  1.3600000000000003  diff= 0.0020790975700524226\n",
      "g =  1.3700000000000003  diff= 0.0018165127760493148\n",
      "g =  1.3800000000000003  diff= 0.003803907683864956\n",
      "g =  1.3900000000000003  diff= 0.002136936836051442\n",
      "g =  1.4000000000000004  diff= 0.0017784859582456868\n",
      "g =  1.4100000000000004  diff= 0.0029767059575376625\n",
      "g =  1.4200000000000004  diff= 0.0021782031044968253\n",
      "g =  1.4300000000000004  diff= 0.008141623955044353\n",
      "g =  1.4400000000000004  diff= 0.00396622512457791\n",
      "g =  1.4500000000000004  diff= 0.002607349161800199\n",
      "g =  1.4600000000000004  diff= 0.0017264454936360136\n",
      "g =  1.4700000000000004  diff= 0.0022927191516512705\n",
      "g =  1.4800000000000004  diff= 0.003961213820845121\n",
      "g =  1.4900000000000004  diff= 0.01698291699037137\n",
      "g =  1.5000000000000004  diff= 0.0014092602555519926\n",
      "g =  1.5100000000000005  diff= 0.0021909013335167453\n",
      "g =  1.5200000000000005  diff= 0.003640028573628688\n",
      "g =  1.5300000000000005  diff= 0.0012662147325783024\n",
      "g =  1.5400000000000005  diff= 0.0014738013404856445\n",
      "g =  1.5500000000000005  diff= 0.0019054136620374087\n",
      "g =  1.5600000000000005  diff= 0.005644371636122819\n",
      "g =  1.5700000000000005  diff= 0.0012495298151657564\n",
      "g =  1.5800000000000005  diff= 0.00280405676629476\n",
      "g =  1.5900000000000005  diff= 0.0031382717545879167\n",
      "g =  1.6000000000000005  diff= 0.001614915468509336\n",
      "g =  1.6100000000000005  diff= 0.007482672532129957\n",
      "g =  1.6200000000000006  diff= 0.0010283528160570986\n",
      "g =  1.6300000000000006  diff= 0.01578020965543464\n",
      "g =  1.6400000000000006  diff= 0.01484355841002413\n",
      "g =  1.6500000000000006  diff= 0.0025687144073425505\n",
      "g =  1.6600000000000006  diff= 0.003921386122810473\n",
      "g =  1.6700000000000006  diff= 0.0008946023773279206\n",
      "g =  1.6800000000000006  diff= 0.018999704923476014\n",
      "g =  1.6900000000000006  diff= 0.001031568267721505\n",
      "g =  1.7000000000000006  diff= 0.00798261718030079\n",
      "g =  1.7100000000000006  diff= 0.017729160981739725\n",
      "g =  1.7200000000000006  diff= 0.0009856549886592114\n",
      "g =  1.7300000000000006  diff= 0.01206960310797997\n",
      "g =  1.7400000000000007  diff= 0.008211658137742266\n",
      "g =  1.7500000000000007  diff= 0.0017842102284366754\n",
      "g =  1.7600000000000007  diff= 0.003020521773227746\n",
      "g =  1.7700000000000007  diff= 0.004754977707118766\n",
      "g =  1.7800000000000007  diff= 0.0013404429376524202\n",
      "g =  1.7900000000000007  diff= 0.0019273220377208924\n",
      "g =  1.8000000000000007  diff= 0.003628465107540976\n",
      "g =  1.8100000000000007  diff= 0.011798351493442872\n",
      "g =  1.8200000000000007  diff= 0.006945512602863305\n",
      "g =  1.8300000000000007  diff= 0.0006634146775937647\n",
      "g =  1.8400000000000007  diff= 0.008686933547437005\n",
      "g =  1.8500000000000008  diff= 0.008827239828480979\n"
     ]
    },
    {
     "name": "stdout",
     "output_type": "stream",
     "text": [
      "g =  1.8600000000000008  diff= 0.00640654181703247\n",
      "g =  1.8700000000000008  diff= 0.003124576178040528\n",
      "g =  1.8800000000000008  diff= 0.0026501291298511366\n",
      "g =  1.8900000000000008  diff= 0.012275367490724623\n",
      "g =  1.9000000000000008  diff= 0.000574776907645689\n",
      "g =  1.9100000000000008  diff= 0.0005397158686332372\n",
      "g =  1.9200000000000008  diff= 0.0015528791237257075\n",
      "g =  1.9300000000000008  diff= 0.0021901957888048476\n",
      "g =  1.9400000000000008  diff= 0.0031535306467004877\n",
      "g =  1.9500000000000008  diff= 0.0004969711365563024\n",
      "g =  1.9600000000000009  diff= 0.0005091081869224933\n",
      "g =  1.9700000000000009  diff= 0.0005687022820892907\n",
      "g =  1.9800000000000009  diff= 0.0005039373592635248\n",
      "g =  1.9900000000000009  diff= 0.0166329114756088\n",
      "g =  2.000000000000001  diff= 0.0013057637244986826\n"
     ]
    }
   ],
   "source": [
    "if VQE_training:#Obtaining ground state for |g|<1 \n",
    "    nSteps=100\n",
    "    step=0.01\n",
    "    lowGs=np.arange(0,1,step)\n",
    "    highGs=np.arange(1+step,2.0+step,step)\n",
    "    w_low=[]\n",
    "    Egs_estimate_low=[]\n",
    "    Egs_low=[]\n",
    "    for g in lowGs:\n",
    "        for i in range(5):\n",
    "            weights,Egs_estimate,Egs=getGoundState(g_coupling=g,nSteps=nSteps,learning_rate=1e-1)\n",
    "            diff=abs(Egs_estimate-Egs)/abs(Egs)\n",
    "\n",
    "            if diff< 0.02:\n",
    "                break\n",
    "                \n",
    "        print(\"g = \",g,\" diff=\",diff)\n",
    "                \n",
    "        w_low.append(weights)\n",
    "        Egs_estimate_low.append(Egs_estimate)\n",
    "        Egs_low.append(Egs)\n",
    "\n",
    "    print(\"lowG finished\")\n",
    "    dict_low={\"weights\": w_low,\"E_gs_estimate\": Egs_estimate_low,\n",
    "              \"E_gs\":Egs_low,\"g\":lowGs}\n",
    "    with open('lowG_dict.pkl', 'wb') as f:\n",
    "        pickle.dump(dict_low, f)\n",
    "\n",
    "\n",
    "    w_high=[]\n",
    "    Egs_estimate_high=[]\n",
    "    Egs_high=[]\n",
    "    for g in highGs:\n",
    "        for i in range(5):\n",
    "            weights,Egs_estimate,Egs=getGoundState(g_coupling=g,nSteps=nSteps,learning_rate=1e-1)\n",
    "            diff=abs(Egs_estimate-Egs)/abs(Egs)\n",
    "            if diff< 0.02:\n",
    "                break\n",
    "        print(\"g = \",g,\" diff=\",diff)\n",
    "        w_high.append(weights)\n",
    "        Egs_estimate_high.append(Egs_estimate)\n",
    "        Egs_high.append(Egs)\n",
    "\n",
    "    dict_high={\"weights\": w_high,\"E_gs_estimate\":Egs_estimate_high,\n",
    "               \"E_gs\": Egs_high ,\"g\":highGs}\n",
    "    with open('highG_dict.pkl', 'wb') as f:\n",
    "        pickle.dump(dict_high, f)\n",
    "        \n",
    "    dataset={'weights':dict_low['weights']+dict_high['weights'], \n",
    "         'label': np.concatenate([-1*np.ones(len(dict_low['weights'])),np.ones(len(dict_high['weights']))])\n",
    "        ,'g':np.concatenate([dict_low['g'],dict_high['g']])\n",
    "        }\n",
    "    \n",
    "    with open('dataset.pkl', 'wb') as f:\n",
    "        pickle.dump(dataset, f)\n",
    "    "
   ]
  },
  {
   "cell_type": "code",
   "execution_count": 66,
   "id": "a3a34178",
   "metadata": {},
   "outputs": [],
   "source": [
    "dataset={'weights':dict_low['weights']+dict_high['weights'], \n",
    "         'label': np.concatenate([-1*np.ones(len(dict_low['weights'])),np.ones(len(dict_high['weights']))])\n",
    "        ,'g':np.concatenate([dict_low['g'],dict_high['g']])\n",
    "        }\n",
    "    \n",
    "with open('dataset.pkl', 'wb') as f:\n",
    "    pickle.dump(dataset, f)"
   ]
  },
  {
   "cell_type": "code",
   "execution_count": 67,
   "id": "e3630574-0ab8-4fc3-a5d9-8986cf7d69ff",
   "metadata": {},
   "outputs": [],
   "source": [
    "# with open('lowG_dict.pkl', 'rb') as f:\n",
    "#     dict_low = pickle.load(f)\n",
    "\n",
    "# with open('highG_dict.pkl', 'rb') as f:\n",
    "#     dict_high = pickle.load(f)\n",
    "\n",
    "with open('dataset.pkl', 'rb') as f:\n",
    "    dataset = pickle.load(f)"
   ]
  },
  {
   "cell_type": "code",
   "execution_count": 68,
   "id": "fde576b9",
   "metadata": {},
   "outputs": [
    {
     "data": {
      "text/plain": [
       "200"
      ]
     },
     "execution_count": 68,
     "metadata": {},
     "output_type": "execute_result"
    }
   ],
   "source": [
    "dataset['g'].shape[0]"
   ]
  },
  {
   "cell_type": "code",
   "execution_count": 69,
   "id": "5715b744",
   "metadata": {},
   "outputs": [
    {
     "data": {
      "text/plain": [
       "200"
      ]
     },
     "execution_count": 69,
     "metadata": {},
     "output_type": "execute_result"
    }
   ],
   "source": [
    "len(dataset['weights'])"
   ]
  },
  {
   "cell_type": "code",
   "execution_count": 70,
   "id": "db8b91b2",
   "metadata": {},
   "outputs": [
    {
     "name": "stdout",
     "output_type": "stream",
     "text": [
      "N training events =  160\n",
      "N test events =  40\n"
     ]
    }
   ],
   "source": [
    "g_train=[]\n",
    "X_train=[]\n",
    "y_train=[]\n",
    "g_test=[]\n",
    "X_test=[]\n",
    "y_test=[]\n",
    "for i in range(len(dataset['label'])):\n",
    "    if i % 5 == 0:\n",
    "        X_test.append(dataset['weights'][i])\n",
    "        y_test.append(dataset['label'][i])\n",
    "        g_test.append(dataset['g'][i])\n",
    "        \n",
    "        \n",
    "    \n",
    "    else:\n",
    "        \n",
    "        X_train.append(dataset['weights'][i])\n",
    "        y_train.append(dataset['label'][i])\n",
    "        g_train.append(dataset['g'][i])\n",
    "        \n",
    "        \n",
    "#     if i > int(len(dataset['label'])/2):\n",
    "#         break\n",
    "    \n",
    "X_train=np.array(X_train)\n",
    "y_train=np.array(y_train)\n",
    "g_train=np.array(g_train)\n",
    "\n",
    "X_test=np.array(X_test)\n",
    "y_test=np.array(y_test)\n",
    "g_test=np.array(g_test)\n",
    "\n",
    "print(\"N training events = \",X_train.shape[0])\n",
    "print(\"N test events = \",X_test.shape[0])"
   ]
  },
  {
   "cell_type": "code",
   "execution_count": null,
   "id": "fdc1aef5",
   "metadata": {},
   "outputs": [],
   "source": []
  },
  {
   "cell_type": "code",
   "execution_count": null,
   "id": "b5657f51",
   "metadata": {},
   "outputs": [],
   "source": []
  },
  {
   "cell_type": "code",
   "execution_count": null,
   "id": "c94178ae",
   "metadata": {},
   "outputs": [],
   "source": []
  },
  {
   "cell_type": "code",
   "execution_count": null,
   "id": "0ffef1e8",
   "metadata": {},
   "outputs": [],
   "source": [
    "def addConv(qc,i1,i2,weights):\n",
    "    # 15 parameters in total\n",
    "    params_index=0\n",
    "    #single qubit rotations\n",
    "    qc.rz(weights[params_index],i1)\n",
    "    params_index+=1\n",
    "    qc.ry(weights[params_index],i1)\n",
    "    params_index+=1\n",
    "    qc.rx(weights[params_index],i1)\n",
    "    params_index+=1\n",
    "    \n",
    "    qc.rz(weights[params_index],i2)\n",
    "    params_index+=1\n",
    "    qc.ry(weights[params_index],i2)\n",
    "    params_index+=1\n",
    "    qc.rx(weights[params_index],i2)\n",
    "    params_index+=1\n",
    "    \n",
    "    #two qubits rotations\n",
    "    qc.rzz(weights[params_index],i1,i2)\n",
    "    params_index+=1\n",
    "    qc.ryy(weights[params_index],i1,i2)\n",
    "    params_index+=1\n",
    "    qc.rxx(weights[params_index],i1,i2)\n",
    "    params_index+=1\n",
    "    \n",
    "    qc.rz(weights[params_index],i1)\n",
    "    params_index+=1\n",
    "    qc.ry(weights[params_index],i1)\n",
    "    params_index+=1\n",
    "    qc.rx(weights[params_index],i1)\n",
    "    params_index+=1\n",
    "    \n",
    "    qc.rz(weights[params_index],i2)\n",
    "    params_index+=1\n",
    "    qc.ry(weights[params_index],i2)\n",
    "    params_index+=1\n",
    "    qc.rx(weights[params_index],i2)\n",
    "    \n",
    "    qc.barrier()\n",
    "    \n",
    "def addPooling(qc,i1,i2,weights):\n",
    "    params_index=0\n",
    "    qc.rz(weights[params_index],i1)\n",
    "    params_index += 1\n",
    "    qc.ry(weights[params_index],i1)\n",
    "    params_index += 1\n",
    "    qc.rx(weights[params_index],i1)\n",
    "    params_index += 1\n",
    "    \n",
    "    qc.rz(weights[params_index],i2)\n",
    "    params_index += 1\n",
    "    qc.ry(weights[params_index],i2)\n",
    "    params_index += 1\n",
    "    qc.rx(weights[params_index],i2)\n",
    "\n",
    "    qc.cx(i1,i2)\n",
    "\n",
    "    qc.rx(-weights[params_index],i2)\n",
    "    qc.ry(-weights[params_index-1],i2)\n",
    "    qc.rz(-weights[params_index-2],i2)\n",
    "\n",
    "    qc.barrier()"
   ]
  },
  {
   "cell_type": "code",
   "execution_count": null,
   "id": "03d3b431-483f-4579-a6ed-a5df14b5642c",
   "metadata": {},
   "outputs": [],
   "source": [
    "n_layers=1\n",
    "n_convWeights=15\n",
    "n_poolingWeights=6\n",
    "#n_params=n_convWeights*3 +n_poolingWeights*2\n",
    "n_params=n_convWeights*5 +n_poolingWeights*3\n",
    "weights = ParameterVector(\"weight\", n_params)\n",
    "params_index=0\n",
    "qr = QuantumRegister(n_qubits)\n",
    "qc = QuantumCircuit(qr)\n",
    "qc.compose(RealAmplitudes(num_qubits=n_qubits,reps=n_rep_VQEansatz), inplace=True) \n",
    "qc.barrier()\n",
    "\n",
    "\n",
    "#Convolution layer:\n",
    "\n",
    "index_start=0\n",
    "index_end=n_convWeights\n",
    "weights_conv1=weights[index_start:index_end]\n",
    "    \n",
    "for i in np.arange(0,n_qubits-1,1):\n",
    "#     index_start=i*n_convWeights\n",
    "#     index_end=(i+1)*n_convWeights\n",
    "#     weights_conv1=weights[index_start:index_end]\n",
    "    addConv(qc,i,i+1,weights_conv1)\n",
    "\n",
    "\n",
    "    \n",
    "qc.barrier()\n",
    "#pooling layer:\n",
    "index_start=index_end\n",
    "index_end+=n_poolingWeights\n",
    "weights_pooling1=weights[index_start:index_end]\n",
    "\n",
    "for i in np.arange(0,int(n_qubits/2),1):\n",
    "#     index_start=index_end\n",
    "#     index_end+=n_poolingWeights\n",
    "#     weights_pooling1=weights[index_start:index_end]\n",
    "    addPooling(qc,i*2,i*2+1,weights_pooling1)\n",
    "qc.barrier()\n",
    "\n",
    "\n",
    "#Convolution layer2:\n",
    "index_start=index_end\n",
    "index_end=index_start+n_convWeights\n",
    "weights_conv2=weights[index_start:index_end]\n",
    "for i in np.arange(0,int(n_qubits/4),1):\n",
    "#     index_start=index_end\n",
    "#     index_end=index_start+n_convWeights\n",
    "#     weights_conv2=weights[index_start:index_end]\n",
    "    addConv(qc,i*4+1,i*4+3,weights_conv2)\n",
    " \n",
    "\n",
    "#pooling layer2:\n",
    "index_start=index_end\n",
    "index_end+=n_poolingWeights\n",
    "weights_pooling2=weights[index_start:index_end]\n",
    "for i in np.arange(0,int(n_qubits/4),1):\n",
    "#     index_start=index_end\n",
    "#     index_end+=n_poolingWeights\n",
    "#     weights_pooling2=weights[index_start:index_end]\n",
    "    addPooling(qc,i*4+1,i*4+3,weights_pooling2)\n",
    "\n",
    "qc.barrier()"
   ]
  },
  {
   "cell_type": "code",
   "execution_count": null,
   "id": "4cdfd209-9cd1-42a1-b8c7-6dd3c48d570b",
   "metadata": {
    "scrolled": false
   },
   "outputs": [],
   "source": [
    "qc.draw('mpl')"
   ]
  },
  {
   "cell_type": "code",
   "execution_count": 7,
   "id": "b82ee5de",
   "metadata": {},
   "outputs": [],
   "source": [
    "def predict(X,qc,ob,weights):\n",
    "\n",
    "    prediction=[]\n",
    "    for i in range(len(X)):\n",
    "        job=estimator.run(circuits=qc, observables=ob\n",
    "                          , parameter_values=np.concatenate([X[i],weights]))\n",
    "        jobResult=job.result().values\n",
    "        prediction.append(jobResult)\n",
    "    return np.array(prediction).flatten()\n",
    "\n",
    "def cost_func(weights,X,y,qc,ob):\n",
    "    global cost_val_list\n",
    "    pred = predict(X,qc,ob,weights)\n",
    "    \n",
    "    #pred=-abs(pred-params[-1])\n",
    "    cost_val=((pred-y)**2).sum()\n",
    "    cost_val_list.append(cost_val)\n",
    "    \n",
    "    clear_output(wait=True)\n",
    "    plt.plot(np.arange(0,len(cost_val_list)), cost_val_list)\n",
    "    plt.xlabel('iteration')\n",
    "    plt.ylabel('cost function')\n",
    "    plt.legend()\n",
    "    plt.show()\n",
    "    return cost_val"
   ]
  },
  {
   "cell_type": "code",
   "execution_count": null,
   "id": "0b18c787",
   "metadata": {},
   "outputs": [],
   "source": [
    "estimator = Estimator()\n",
    "ob = SparsePauliOp.from_list([(\"I\"*(n_qubits-1)+\"Z\" , 1 )])\n",
    "n_VQEparams=len(X_train[0])\n",
    "n_QCNNweights=qc.num_parameters-n_VQEparams\n",
    "print(n_VQEparams)\n",
    "print(n_QCNNweights)"
   ]
  },
  {
   "cell_type": "code",
   "execution_count": null,
   "id": "86e650d8",
   "metadata": {},
   "outputs": [],
   "source": []
  },
  {
   "cell_type": "code",
   "execution_count": null,
   "id": "aecf43db",
   "metadata": {},
   "outputs": [],
   "source": []
  },
  {
   "cell_type": "markdown",
   "id": "54e3371b",
   "metadata": {},
   "source": [
    "COBYLA"
   ]
  },
  {
   "cell_type": "code",
   "execution_count": null,
   "id": "b186dd13",
   "metadata": {},
   "outputs": [],
   "source": [
    "import scipy.optimize \n",
    "method='COBYLA'\n",
    "MaxIter=500\n",
    "initial_weights=2*np.pi*np.random.rand(n_QCNNweights)\n",
    "cost_val_list=[]\n",
    "res = scipy.optimize.minimize(cost_func, initial_weights,method=method,options={'maxiter':MaxIter}\n",
    "                              ,args=(X_train,y_train,qc,ob)) #minimize cost function via scipy\n"
   ]
  },
  {
   "cell_type": "code",
   "execution_count": null,
   "id": "c16d9877",
   "metadata": {},
   "outputs": [],
   "source": []
  },
  {
   "cell_type": "code",
   "execution_count": null,
   "id": "7087b242",
   "metadata": {},
   "outputs": [],
   "source": []
  },
  {
   "cell_type": "code",
   "execution_count": null,
   "id": "fc20eaa9",
   "metadata": {},
   "outputs": [],
   "source": [
    "\n",
    "from sklearn import metrics\n",
    "from sklearn.metrics import RocCurveDisplay\n",
    "\n",
    "y_predict=predict(X_train,qc,ob,res.x)\n",
    "\n",
    "fpr, tpr, thresholds = metrics.roc_curve(y_train, y_predict, pos_label=1)\n",
    "\n",
    "bestValidation=0\n",
    "threshold_best=0\n",
    "for t in thresholds:\n",
    "    y=y_predict.copy().flatten()\n",
    "    y[y>t]=1\n",
    "    y[y<t]=-1\n",
    "    diff=y-y_train\n",
    "    val=diff[diff==0].shape[0]/y.shape[0]\n",
    "    if val>bestValidation:\n",
    "        bestValidation=val\n",
    "        threshold_best=t\n",
    "        print(val,threshold_best)\n",
    "plt.plot(fpr,tpr)\n",
    "\n",
    "y_test_predict=predict(X_test,qc,ob,res.x)\n",
    "y_test_predict[y_test_predict<threshold_best]=-1\n",
    "y_test_predict[y_test_predict>=threshold_best]=1\n",
    "diff=y_test-y_test_predict\n",
    "accuracy_COBYLA=diff[diff==0].shape[0]/diff.shape[0]\n",
    "print(accuracy_COBYLA)"
   ]
  },
  {
   "cell_type": "code",
   "execution_count": null,
   "id": "ce6c4b56",
   "metadata": {},
   "outputs": [],
   "source": []
  },
  {
   "cell_type": "code",
   "execution_count": null,
   "id": "dcb0788e",
   "metadata": {},
   "outputs": [],
   "source": []
  },
  {
   "cell_type": "code",
   "execution_count": null,
   "id": "af8f3fa5",
   "metadata": {},
   "outputs": [],
   "source": []
  },
  {
   "cell_type": "code",
   "execution_count": null,
   "id": "2ae3f04f",
   "metadata": {},
   "outputs": [],
   "source": []
  },
  {
   "cell_type": "code",
   "execution_count": null,
   "id": "ffbee5de",
   "metadata": {},
   "outputs": [],
   "source": []
  },
  {
   "cell_type": "markdown",
   "id": "3ed8043a",
   "metadata": {},
   "source": [
    "Gradient"
   ]
  },
  {
   "cell_type": "code",
   "execution_count": null,
   "id": "877ffbe0",
   "metadata": {},
   "outputs": [],
   "source": [
    "def getParamsVariations(x,weights):\n",
    "    n_VQEparams=len(x)\n",
    "    #Adding QCNN weight to the VQE parameters to obtain the full list of parameters\n",
    "    params=np.concatenate([x,weights])\n",
    "    param_variation_list=[params]\n",
    "    # vary each weight by +- pi/2 for parameter-shift rule\n",
    "    for i in range(len(weights)):\n",
    "        tmp_param=params.copy()\n",
    "        tmp_param[n_VQEparams+i]+=np.pi/2\n",
    "        param_variation_list.append(tmp_param)\n",
    "        tmp_param=params.copy()\n",
    "        tmp_param[n_VQEparams+i]-=np.pi/2\n",
    "        param_variation_list.append(tmp_param)\n",
    "    return np.array(param_variation_list)\n",
    "\n",
    "def getGrad(jobResult):\n",
    "    vev=jobResult[0]\n",
    "    grad=[]\n",
    "    for i in range(int((jobResult.shape[0]-1)/2)):\n",
    "        tmpGrad=(jobResult[2*i+1]-jobResult[2*i+2])/2\n",
    "        grad.append(tmpGrad)\n",
    "    grad=np.array(grad)\n",
    "    return vev,grad"
   ]
  },
  {
   "cell_type": "code",
   "execution_count": null,
   "id": "1e783c49",
   "metadata": {},
   "outputs": [],
   "source": [
    "initial_weights=2*np.pi*np.random.rand(n_QCNNweights)\n",
    "weights=initial_weights"
   ]
  },
  {
   "cell_type": "code",
   "execution_count": null,
   "id": "f98e7f0c-88d7-4f82-97d6-66704e371e84",
   "metadata": {
    "scrolled": true
   },
   "outputs": [],
   "source": [
    "nIterations=30\n",
    "learning_rate=1e-1\n",
    "loss_list=[]\n",
    "\n",
    "for Iter in range(nIterations):\n",
    "\n",
    "    cost=0\n",
    "    grad_all=np.zeros(n_QCNNweights)\n",
    "    for i in range(len(X_train)):\n",
    "        param_variation_list=getParamsVariations(X_train[i],weights)\n",
    "        circuits=[qc]*len(param_variation_list)\n",
    "        observable=[ob]*len(param_variation_list)\n",
    "        \n",
    "        job=estimator.run(circuits=circuits, observables=observable\n",
    "                          , parameter_values=param_variation_list)\n",
    "        jobResult=job.result().values\n",
    "        vev,circuitGrad=getGrad(jobResult)\n",
    "        cost+=(vev-y_train[i])**2\n",
    "        grad= 2*(vev-y_train[i])*circuitGrad\n",
    "        grad_all+=grad\n",
    "        \n",
    "    print(cost)\n",
    "    loss_list.append(cost)\n",
    "    weights-=learning_rate*grad_all\n"
   ]
  },
  {
   "cell_type": "code",
   "execution_count": null,
   "id": "ab1a246d",
   "metadata": {},
   "outputs": [],
   "source": [
    "\n",
    "y_predict=predict(X_train,qc,ob,weights)\n",
    "\n",
    "fpr, tpr, thresholds = metrics.roc_curve(y_train, y_predict, pos_label=1)\n",
    "\n",
    "bestValidation=0\n",
    "threshold_best=0\n",
    "for t in thresholds:\n",
    "    y=y_predict.copy().flatten()\n",
    "    y[y>t]=1\n",
    "    y[y<t]=-1\n",
    "    diff=y-y_train\n",
    "    val=diff[diff==0].shape[0]/y.shape[0]\n",
    "    if val>bestValidation:\n",
    "        bestValidation=val\n",
    "        threshold_best=t\n",
    "        print(val,threshold_best)\n",
    "plt.plot(fpr,tpr)"
   ]
  },
  {
   "cell_type": "code",
   "execution_count": null,
   "id": "3f3f3ccb",
   "metadata": {},
   "outputs": [],
   "source": [
    "y_test_predict=predict(X_test,qc,ob,weights)\n",
    "y_test_predict[y_test_predict<threshold_best]=-1\n",
    "y_test_predict[y_test_predict>=threshold_best]=1\n",
    "diff=y_test-y_test_predict\n",
    "accuracy_Gradient=diff[diff==0].shape[0]/diff.shape[0]\n",
    "print(accuracy_Gradient)"
   ]
  },
  {
   "cell_type": "code",
   "execution_count": null,
   "id": "469e4941",
   "metadata": {},
   "outputs": [],
   "source": []
  },
  {
   "cell_type": "code",
   "execution_count": null,
   "id": "cd861c69",
   "metadata": {},
   "outputs": [],
   "source": []
  },
  {
   "cell_type": "code",
   "execution_count": null,
   "id": "e2e97c19",
   "metadata": {},
   "outputs": [],
   "source": []
  },
  {
   "cell_type": "code",
   "execution_count": null,
   "id": "2db11b82",
   "metadata": {},
   "outputs": [],
   "source": []
  },
  {
   "cell_type": "code",
   "execution_count": null,
   "id": "275a9e11",
   "metadata": {},
   "outputs": [],
   "source": []
  },
  {
   "cell_type": "code",
   "execution_count": null,
   "id": "c137703c",
   "metadata": {},
   "outputs": [],
   "source": []
  },
  {
   "cell_type": "code",
   "execution_count": null,
   "id": "2eb1617b",
   "metadata": {},
   "outputs": [],
   "source": []
  },
  {
   "cell_type": "markdown",
   "id": "7b8084a3",
   "metadata": {},
   "source": [
    "non-QCNN"
   ]
  },
  {
   "cell_type": "code",
   "execution_count": 71,
   "id": "9dfe201a",
   "metadata": {},
   "outputs": [
    {
     "data": {
      "text/plain": [
       "<qiskit.circuit.instructionset.InstructionSet at 0x15dd8bcd0>"
      ]
     },
     "execution_count": 71,
     "metadata": {},
     "output_type": "execute_result"
    }
   ],
   "source": [
    "\n",
    "qr = QuantumRegister(n_qubits)\n",
    "qc = QuantumCircuit(qr)\n",
    "qc.compose(RealAmplitudes(num_qubits=n_qubits,reps=n_rep_VQEansatz), inplace=True) \n",
    "qc.compose(RealAmplitudes(num_qubits=n_qubits,reps=10,parameter_prefix='w'), inplace=True) \n",
    "qc.barrier()\n",
    "\n",
    "\n"
   ]
  },
  {
   "cell_type": "code",
   "execution_count": 72,
   "id": "c1f9cc1e",
   "metadata": {},
   "outputs": [
    {
     "name": "stdout",
     "output_type": "stream",
     "text": [
      "8\n",
      "44\n"
     ]
    }
   ],
   "source": [
    "estimator = Estimator()\n",
    "ob = SparsePauliOp.from_list([(\"Z\"*(n_qubits) , 1 )])\n",
    "n_VQEparams=len(X_train[0])\n",
    "n_QCNNweights=qc.num_parameters-n_VQEparams\n",
    "print(n_VQEparams)\n",
    "print(n_QCNNweights)"
   ]
  },
  {
   "cell_type": "code",
   "execution_count": 73,
   "id": "5d0a5f21",
   "metadata": {},
   "outputs": [
    {
     "name": "stderr",
     "output_type": "stream",
     "text": [
      "No artists with labels found to put in legend.  Note that artists whose label start with an underscore are ignored when legend() is called with no argument.\n"
     ]
    },
    {
     "data": {
      "image/png": "[encoded data removed]",
      "text/plain": [
       "<Figure size 432x288 with 1 Axes>"
      ]
     },
     "metadata": {
      "needs_background": "light"
     },
     "output_type": "display_data"
    }
   ],
   "source": [
    "import scipy.optimize \n",
    "method='COBYLA'\n",
    "MaxIter=300\n",
    "initial_weights=2*np.pi*np.random.rand(n_QCNNweights)\n",
    "cost_val_list=[]\n",
    "res = scipy.optimize.minimize(cost_func, initial_weights,method=method,options={'maxiter':MaxIter}\n",
    "                              ,args=(X_train,y_train,qc,ob)) #minimize cost function via scipy\n"
   ]
  },
  {
   "cell_type": "code",
   "execution_count": 74,
   "id": "8a11fa3b",
   "metadata": {},
   "outputs": [
    {
     "name": "stdout",
     "output_type": "stream",
     "text": [
      "0.5 inf\n",
      "0.85625 0.465989462467701\n",
      "0.90625 0.4007761021274971\n",
      "0.93125 0.3690360955036744\n",
      "0.95 0.34553560831060853\n",
      "0.95625 0.29124790120177646\n",
      "0.9625 0.24681496060890412\n"
     ]
    },
    {
     "data": {
      "text/plain": [
       "[<matplotlib.lines.Line2D at 0x15d2cb6d0>]"
      ]
     },
     "execution_count": 74,
     "metadata": {},
     "output_type": "execute_result"
    },
    {
     "data": {
      "image/png": "[encoded data removed]",
      "text/plain": [
       "<Figure size 432x288 with 1 Axes>"
      ]
     },
     "metadata": {
      "needs_background": "light"
     },
     "output_type": "display_data"
    }
   ],
   "source": [
    "\n",
    "from sklearn import metrics\n",
    "from sklearn.metrics import RocCurveDisplay\n",
    "\n",
    "y_predict=predict(X_train,qc,ob,res.x)\n",
    "\n",
    "fpr, tpr, thresholds = metrics.roc_curve(y_train, y_predict, pos_label=1)\n",
    "\n",
    "bestValidation=0\n",
    "threshold_best=0\n",
    "for t in thresholds:\n",
    "    y=y_predict.copy().flatten()\n",
    "    y[y>t]=1\n",
    "    y[y<t]=-1\n",
    "    diff=y-y_train\n",
    "    val=diff[diff==0].shape[0]/y.shape[0]\n",
    "    if val>bestValidation:\n",
    "        bestValidation=val\n",
    "        threshold_best=t\n",
    "        print(val,threshold_best)\n",
    "plt.plot(fpr,tpr)\n",
    "\n"
   ]
  },
  {
   "cell_type": "code",
   "execution_count": 81,
   "id": "2088ee18",
   "metadata": {},
   "outputs": [],
   "source": [
    "y_train_predict=predict(X_train,qc,ob,res.x)\n",
    "y_test_predict=predict(X_test,qc,ob,res.x)"
   ]
  },
  {
   "cell_type": "code",
   "execution_count": 82,
   "id": "b10011c6",
   "metadata": {},
   "outputs": [
    {
     "data": {
      "text/plain": [
       "[<matplotlib.lines.Line2D at 0x15f934f70>]"
      ]
     },
     "execution_count": 82,
     "metadata": {},
     "output_type": "execute_result"
    },
    {
     "data": {
      "image/png": "[encoded data removed]",
      "text/plain": [
       "<Figure size 432x288 with 1 Axes>"
      ]
     },
     "metadata": {
      "needs_background": "light"
     },
     "output_type": "display_data"
    }
   ],
   "source": [
    "plt.scatter(g_train,y_train_predict)\n",
    "xx=np.arange(0,2,0.001)\n",
    "plt.plot(xx,[threshold_best]*len(xx),color='r')"
   ]
  },
  {
   "cell_type": "code",
   "execution_count": 83,
   "id": "aac02eb9",
   "metadata": {},
   "outputs": [
    {
     "data": {
      "text/plain": [
       "<matplotlib.legend.Legend at 0x15f9aa050>"
      ]
     },
     "execution_count": 83,
     "metadata": {},
     "output_type": "execute_result"
    },
    {
     "data": {
      "image/png": "[encoded data removed]",
      "text/plain": [
       "<Figure size 432x288 with 1 Axes>"
      ]
     },
     "metadata": {
      "needs_background": "light"
     },
     "output_type": "display_data"
    }
   ],
   "source": [
    "plt.scatter(g_train,y_train_predict,label='training')\n",
    "plt.scatter(g_test,y_test_predict,label='test')\n",
    "xx=np.arange(0,2,0.001)\n",
    "yy=np.arange(-1,1,0.001)\n",
    "plt.plot(xx,[threshold_best]*len(xx),color='r',label= 'regressor cut')\n",
    "plt.plot([1.0]*len(yy),yy,color='b',label='critical value')\n",
    "plt.legend()"
   ]
  },
  {
   "cell_type": "code",
   "execution_count": 84,
   "id": "c4e8ef66",
   "metadata": {},
   "outputs": [
    {
     "name": "stdout",
     "output_type": "stream",
     "text": [
      "1.0\n"
     ]
    }
   ],
   "source": [
    "\n",
    "y_test_predict[y_test_predict<threshold_best]=-1\n",
    "y_test_predict[y_test_predict>=threshold_best]=1\n",
    "diff=y_test-y_test_predict\n",
    "accuracy_COBYLA=diff[diff==0].shape[0]/diff.shape[0]\n",
    "print(accuracy_COBYLA)"
   ]
  },
  {
   "cell_type": "code",
   "execution_count": null,
   "id": "08475ae0",
   "metadata": {},
   "outputs": [],
   "source": []
  },
  {
   "cell_type": "code",
   "execution_count": null,
   "id": "86f369b6",
   "metadata": {},
   "outputs": [],
   "source": []
  },
  {
   "cell_type": "code",
   "execution_count": null,
   "id": "38ba7a40",
   "metadata": {},
   "outputs": [],
   "source": []
  },
  {
   "cell_type": "code",
   "execution_count": null,
   "id": "839388c6",
   "metadata": {},
   "outputs": [],
   "source": []
  },
  {
   "cell_type": "code",
   "execution_count": null,
   "id": "cc3f531e",
   "metadata": {},
   "outputs": [],
   "source": []
  },
  {
   "cell_type": "code",
   "execution_count": null,
   "id": "616f573c",
   "metadata": {},
   "outputs": [],
   "source": []
  },
  {
   "cell_type": "code",
   "execution_count": null,
   "id": "7cc08ec5",
   "metadata": {},
   "outputs": [],
   "source": []
  },
  {
   "cell_type": "code",
   "execution_count": null,
   "id": "09129670",
   "metadata": {},
   "outputs": [],
   "source": []
  },
  {
   "cell_type": "code",
   "execution_count": null,
   "id": "ef837398",
   "metadata": {},
   "outputs": [],
   "source": []
  },
  {
   "cell_type": "code",
   "execution_count": null,
   "id": "c0b1e694",
   "metadata": {},
   "outputs": [],
   "source": []
  },
  {
   "cell_type": "code",
   "execution_count": null,
   "id": "f688e728",
   "metadata": {},
   "outputs": [],
   "source": []
  }
 ],
 "metadata": {
  "kernelspec": {
   "display_name": "qc",
   "language": "python",
   "name": "qc"
  },
  "language_info": {
   "codemirror_mode": {
    "name": "ipython",
    "version": 3
   },
   "file_extension": ".py",
   "mimetype": "text/x-python",
   "name": "python",
   "nbconvert_exporter": "python",
   "pygments_lexer": "ipython3",
   "version": "3.10.4"
  }
 },
 "nbformat": 4,
 "nbformat_minor": 5
}
