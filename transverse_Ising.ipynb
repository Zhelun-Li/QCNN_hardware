{
 "cells": [
  {
   "cell_type": "code",
   "execution_count": 1,
   "id": "0e7b427f-0f65-41db-a429-91b0178820f4",
   "metadata": {},
   "outputs": [],
   "source": [
    "from qiskit import QuantumCircuit\n",
    "from qiskit.circuit import QuantumRegister,ClassicalRegister\n",
    "from qiskit_machine_learning.neural_networks import EstimatorQNN,SamplerQNN\n",
    "from IPython.display import clear_output\n",
    "import matplotlib.pyplot as plt\n",
    "import qiskit.quantum_info as qi\n",
    "from qiskit.circuit import ParameterVector\n",
    "from qiskit_algorithms.utils import algorithm_globals\n",
    "import time as t\n",
    "from qiskit.quantum_info import SparsePauliOp\n",
    "from qiskit.circuit.library import EfficientSU2,RealAmplitudes\n",
    "import numpy as np\n",
    "from qiskit.primitives import Estimator\n",
    "import pickle "
   ]
  },
  {
   "cell_type": "code",
   "execution_count": 2,
   "id": "51dd2ab6-297b-4a69-89c4-d055d18c956e",
   "metadata": {},
   "outputs": [],
   "source": [
    "VQE_training =True\n",
    "n_qubits=4\n",
    "j_coupling=1\n",
    "g_coupling=1.5\n",
    "n_rep_VQEansatz=1\n",
    "\n",
    "def callback_graph(x,name='loss'):\n",
    "    #clear_output(wait=True)\n",
    "    plt.title(\"Training curve\")\n",
    "    plt.xlabel(\"Iteration\")\n",
    "    plt.ylabel(name)\n",
    "    plt.plot(range(len(x)), x,label='ground state energy')\n",
    "    #plt.show()\n"
   ]
  },
  {
   "cell_type": "code",
   "execution_count": 3,
   "id": "ebb1bb2a",
   "metadata": {},
   "outputs": [],
   "source": [
    "def getGoundState(n_qubits=n_qubits,j_coupling=j_coupling,g_coupling=g_coupling,n_rep_VQEansatz=1,nSteps=200\n",
    "                 ,learning_rate=1e-2):\n",
    "    h_coupling=j_coupling*g\n",
    "    qr_VQE = QuantumRegister(n_qubits)\n",
    "    qc_VQE = QuantumCircuit(qr_VQE)\n",
    "    ansatz_VQE =  RealAmplitudes(num_qubits=n_qubits,reps=n_rep_VQEansatz)\n",
    "    qc_VQE.h(qr_VQE)\n",
    "    qc_VQE.compose(ansatz_VQE, inplace=True)  \n",
    "    \n",
    "    observable = SparsePauliOp.from_list([(\"X\"+\"I\"*(n_qubits-1) , h_coupling )])\n",
    "    for i in np.arange(1,n_qubits,1):\n",
    "        observable=observable + SparsePauliOp.from_list([(\"I\"*(i)+\"X\"+\"I\"*(n_qubits-1-i) , -h_coupling )])\n",
    "    for i in range(n_qubits-1):\n",
    "        observable=observable + (SparsePauliOp.from_list([(\"I\"*(i)+\"ZZ\"+\"I\"*(n_qubits-2-i) ,- j_coupling)]))\n",
    "        \n",
    "       \n",
    "    qnn_VQE=EstimatorQNN(\n",
    "        estimator=Estimator(options={\"shots\":1e10}),\n",
    "        circuit=qc_VQE,\n",
    "        weight_params=ansatz_VQE.parameters,\n",
    "        observables=observable\n",
    "        )\n",
    "\n",
    "    eigenValues=np.linalg.eig(observable.to_matrix())[0]\n",
    "    eigenValues.sort()\n",
    "\n",
    "    groundEnergy=eigenValues[0]\n",
    "    #print(\"ground state energy =\", groundEnergy)\n",
    "    \n",
    "    init_weights=np.random.rand(qnn_VQE.num_weights)*2*np.pi\n",
    "    weights=init_weights\n",
    "    \n",
    "    loss=[]\n",
    "    for i in range(nSteps):\n",
    "        vev=qnn_VQE.forward([], weights)[0][0]\n",
    "        input_grad, weight_grad=qnn_VQE.backward([],weights)\n",
    "        grad=weight_grad[0,0,:]\n",
    "        weights=weights-learning_rate*grad\n",
    "        loss.append(vev)\n",
    "\n",
    "#         if i%1==0:\n",
    "\n",
    "#             clear_output(wait=True)\n",
    "#             plt.figure(1)\n",
    "#             callback_graph(loss)\n",
    "#             plt.plot(range(len(loss)),groundEnergy*np.ones(len(loss)),label='truth')\n",
    "#             plt.legend()\n",
    "#             #plt.yscale('log')\n",
    "#             plt.show()\n",
    "\n",
    "    return weights,vev,groundEnergy"
   ]
  },
  {
   "cell_type": "markdown",
   "id": "1ddcfd50",
   "metadata": {},
   "source": [
    "Next, prepare a series of ground states and its labels based on the value of |g|\n",
    "\n",
    "For |g|<1, two-fold degenerate ground state.\n",
    "\n",
    "For |g|>1, non-degenerate ground state."
   ]
  },
  {
   "cell_type": "code",
   "execution_count": 7,
   "id": "9152cfce",
   "metadata": {
    "scrolled": false
   },
   "outputs": [
    {
     "name": "stdout",
     "output_type": "stream",
     "text": [
      "g =  0.0  diff= 0.001322964483281286\n",
      "g =  0.02  diff= 0.0017115091068854401\n",
      "g =  0.04  diff= 9.227209688486677e-07\n",
      "g =  0.06  diff= 7.784761782693303e-05\n",
      "g =  0.08  diff= 0.0007669738508482793\n",
      "g =  0.1  diff= 0.0010647321257653264\n",
      "g =  0.12  diff= 0.0008915423998837023\n",
      "g =  0.14  diff= 0.00037585679522999935\n",
      "g =  0.16  diff= 0.0005118382075472629\n",
      "g =  0.18  diff= 0.0024000476494704433\n",
      "g =  0.2  diff= 0.0006034576325997059\n",
      "g =  0.22  diff= 0.0007274122843992965\n",
      "g =  0.24  diff= 0.0010165071737687468\n",
      "g =  0.26  diff= 0.001375443167567808\n",
      "g =  0.28  diff= 0.0030972244665465657\n",
      "g =  0.3  diff= 0.004754107285744052\n",
      "g =  0.32  diff= 0.003978539838556058\n",
      "g =  0.34  diff= 0.004785092574058526\n",
      "g =  0.36  diff= 0.004930262827054327\n",
      "g =  0.38  diff= 0.005508856862428228\n",
      "g =  0.4  diff= 0.006824686083348487\n",
      "g =  0.42  diff= 0.0076850952780549014\n",
      "g =  0.44  diff= 0.010411310688235866\n",
      "g =  0.46  diff= 0.015234545486878706\n",
      "g =  0.48  diff= 0.011701149103625193\n",
      "g =  0.5  diff= 0.014057203165056134\n",
      "g =  0.52  diff= 0.01464539813464371\n",
      "g =  0.54  diff= 0.01640309258944496\n",
      "g =  0.56  diff= 0.01805056794472624\n",
      "g =  0.58  diff= 0.01639515840886453\n",
      "g =  0.6  diff= 0.019859490414698103\n",
      "g =  0.62  diff= 0.023094819366450338\n",
      "g =  0.64  diff= 0.014797684423602141\n",
      "g =  0.66  diff= 0.014802625603756107\n",
      "g =  0.68  diff= 0.03197377488092725\n",
      "g =  0.7000000000000001  diff= 0.032273625014829985\n",
      "g =  0.72  diff= 0.012408851425801252\n",
      "g =  0.74  diff= 0.041903210224392334\n",
      "g =  0.76  diff= 0.010795343238970996\n",
      "g =  0.78  diff= 0.03635852864134335\n",
      "g =  0.8  diff= 0.009770651675570093\n",
      "g =  0.8200000000000001  diff= 0.05169146720528854\n",
      "g =  0.84  diff= 0.016125876629325124\n",
      "g =  0.86  diff= 0.03636068416291121\n",
      "g =  0.88  diff= 0.00768448848377197\n",
      "g =  0.9  diff= 0.009160106625024944\n",
      "g =  0.92  diff= 0.00738347086948487\n",
      "g =  0.9400000000000001  diff= 0.016064311795642713\n",
      "g =  0.96  diff= 0.012943895486180437\n",
      "g =  0.98  diff= 0.00860972134387794\n",
      "lowG finished\n",
      "g =  1.02  diff= 0.01141568356444753\n",
      "g =  1.04  diff= 0.016530437081337685\n",
      "g =  1.06  diff= 0.006562218668581979\n",
      "g =  1.08  diff= 0.010971327351347438\n",
      "g =  1.1  diff= 0.0055393107810824595\n",
      "g =  1.12  diff= 0.006476037393988689\n",
      "g =  1.1400000000000001  diff= 0.0035432077580743486\n",
      "g =  1.1600000000000001  diff= 0.014451832179859495\n",
      "g =  1.1800000000000002  diff= 0.008645560279533364\n",
      "g =  1.2000000000000002  diff= 0.00530625447388878\n",
      "g =  1.2200000000000002  diff= 0.019039878656416057\n",
      "g =  1.2400000000000002  diff= 0.003284467371715296\n",
      "g =  1.2600000000000002  diff= 0.003907418715522405\n",
      "g =  1.2800000000000002  diff= 0.0076751151235475755\n",
      "g =  1.3000000000000003  diff= 0.0023834368288820906\n",
      "g =  1.3200000000000003  diff= 0.006192224347492414\n",
      "g =  1.3400000000000003  diff= 0.005830962037366182\n",
      "g =  1.3600000000000003  diff= 0.0019166274425970707\n",
      "g =  1.3800000000000003  diff= 0.0034642767836446536\n",
      "g =  1.4000000000000004  diff= 0.010733087031875444\n",
      "g =  1.4200000000000004  diff= 0.0017398464478408568\n",
      "g =  1.4400000000000004  diff= 0.0017149396987846835\n",
      "g =  1.4600000000000004  diff= 0.0017124770153166085\n",
      "g =  1.4800000000000004  diff= 0.003183740798596204\n",
      "g =  1.5000000000000004  diff= 0.002864318448008184\n",
      "g =  1.5200000000000005  diff= 0.0062054731068961425\n",
      "g =  1.5400000000000005  diff= 0.0011923951637627635\n",
      "g =  1.5600000000000005  diff= 0.0018955667303967511\n",
      "g =  1.5800000000000005  diff= 0.0043120737699802476\n",
      "g =  1.6000000000000005  diff= 0.004163619976734257\n",
      "g =  1.6200000000000006  diff= 0.0010341718434359033\n",
      "g =  1.6400000000000006  diff= 0.0030006415875814406\n",
      "g =  1.6600000000000006  diff= 0.005247399604619985\n",
      "g =  1.6800000000000006  diff= 0.0040226749649602\n",
      "g =  1.7000000000000006  diff= 0.002431841102282255\n",
      "g =  1.7200000000000006  diff= 0.0008198957262352054\n",
      "g =  1.7400000000000007  diff= 0.004544322743820342\n",
      "g =  1.7600000000000007  diff= 0.0007891819258232118\n",
      "g =  1.7800000000000007  diff= 0.009491764825279764\n",
      "g =  1.8000000000000007  diff= 0.0014171486718346333\n",
      "g =  1.8200000000000007  diff= 0.0011206734609713839\n",
      "g =  1.8400000000000007  diff= 0.010968999342251453\n",
      "g =  1.8600000000000008  diff= 0.0023399650372649184\n",
      "g =  1.8800000000000008  diff= 0.0005705240728397246\n",
      "g =  1.9000000000000008  diff= 0.0010195864986374907\n",
      "g =  1.9200000000000008  diff= 0.0013210646954476346\n",
      "g =  1.9400000000000008  diff= 0.0024763451121510485\n",
      "g =  1.9600000000000009  diff= 0.006227459333511549\n",
      "g =  1.9800000000000009  diff= 0.005605926729511674\n",
      "g =  2.000000000000001  diff= 0.00044821554123159\n"
     ]
    }
   ],
   "source": [
    "if VQE_training:#Obtaining ground state for |g|<1 \n",
    "    nSteps=100\n",
    "    step=0.02\n",
    "    lowGs=np.arange(0,1,step)\n",
    "    highGs=np.arange(1+step,2.0+step,step)\n",
    "    w_low=[]\n",
    "    Egs_estimate_low=[]\n",
    "    Egs_low=[]\n",
    "    for g in lowGs:\n",
    "        for i in range(5):\n",
    "            weights,Egs_estimate,Egs=getGoundState(g_coupling=g,nSteps=nSteps,learning_rate=1e-1)\n",
    "            diff=abs(Egs_estimate-Egs)/abs(Egs)\n",
    "\n",
    "            if diff< 0.02:\n",
    "                break\n",
    "                \n",
    "        print(\"g = \",g,\" diff=\",diff)\n",
    "                \n",
    "        w_low.append(weights)\n",
    "        Egs_estimate_low.append(Egs_estimate)\n",
    "        Egs_low.append(Egs)\n",
    "\n",
    "    print(\"lowG finished\")\n",
    "    dict_low={\"weights\": w_low,\"E_gs_estimate\": Egs_estimate_low,\n",
    "              \"E_gs\":Egs_low,\"g\":lowGs}\n",
    "    with open('lowG_dict.pkl', 'wb') as f:\n",
    "        pickle.dump(dict_low, f)\n",
    "\n",
    "\n",
    "    w_high=[]\n",
    "    Egs_estimate_high=[]\n",
    "    Egs_high=[]\n",
    "    for g in highGs:\n",
    "        for i in range(5):\n",
    "            weights,Egs_estimate,Egs=getGoundState(g_coupling=g,nSteps=nSteps,learning_rate=1e-1)\n",
    "            diff=abs(Egs_estimate-Egs)/abs(Egs)\n",
    "            if diff< 0.02:\n",
    "                break\n",
    "        print(\"g = \",g,\" diff=\",diff)\n",
    "        w_high.append(weights)\n",
    "        Egs_estimate_high.append(Egs_estimate)\n",
    "        Egs_high.append(Egs)\n",
    "\n",
    "    dict_high={\"weights\": w_high,\"E_gs_estimate\":Egs_estimate_high,\n",
    "               \"E_gs\": Egs_high ,\"g\":highGs}\n",
    "    with open('highG_dict.pkl', 'wb') as f:\n",
    "        pickle.dump(dict_high, f)\n",
    "        \n",
    "    dataset={'weights':dict_low['weights']+dict_high['weights'], \n",
    "         'label': np.concatenate([-1*np.ones(len(dict_low['weights'])),np.ones(len(dict_high['weights']))])\n",
    "        }\n",
    "    \n",
    "    with open('dataset.pkl', 'wb') as f:\n",
    "        pickle.dump(dataset, f)\n",
    "    "
   ]
  },
  {
   "cell_type": "code",
   "execution_count": null,
   "id": "fb689dd4",
   "metadata": {},
   "outputs": [],
   "source": []
  },
  {
   "cell_type": "code",
   "execution_count": 8,
   "id": "e3630574-0ab8-4fc3-a5d9-8986cf7d69ff",
   "metadata": {},
   "outputs": [],
   "source": [
    "# with open('lowG_dict.pkl', 'rb') as f:\n",
    "#     dict_low = pickle.load(f)\n",
    "\n",
    "# with open('highG_dict.pkl', 'rb') as f:\n",
    "#     dict_high = pickle.load(f)\n",
    "\n",
    "with open('dataset.pkl', 'rb') as f:\n",
    "    dataset = pickle.load(f)"
   ]
  },
  {
   "cell_type": "code",
   "execution_count": 9,
   "id": "db8b91b2",
   "metadata": {},
   "outputs": [],
   "source": [
    "X_train=[]\n",
    "y_train=[]\n",
    "X_test=[]\n",
    "y_test=[]\n",
    "for i in range(len(dataset['label'])):\n",
    "    if i % 2 == 0:\n",
    "        X_train.append(dataset['weights'][i])\n",
    "        y_train.append(dataset['label'][i])\n",
    "        \n",
    "    \n",
    "    else:\n",
    "        X_test.append(dataset['weights'][i])\n",
    "        y_test.append(dataset['label'][i])\n",
    "        \n",
    "#     if i > int(len(dataset['label'])/2):\n",
    "#         break\n",
    "    \n",
    "X_train=np.array(X_train)\n",
    "y_train=np.array(y_train)\n",
    "X_test=np.array(X_test)\n",
    "y_test=np.array(y_test)"
   ]
  },
  {
   "cell_type": "code",
   "execution_count": null,
   "id": "daaccd16",
   "metadata": {},
   "outputs": [],
   "source": []
  },
  {
   "cell_type": "code",
   "execution_count": null,
   "id": "277c438e",
   "metadata": {},
   "outputs": [],
   "source": []
  },
  {
   "cell_type": "code",
   "execution_count": null,
   "id": "00a10f30",
   "metadata": {},
   "outputs": [],
   "source": []
  },
  {
   "cell_type": "code",
   "execution_count": 10,
   "id": "26e13899",
   "metadata": {},
   "outputs": [],
   "source": [
    "def addConv(qc,i1,i2,weights):\n",
    "    # 15 parameters in total\n",
    "    params_index=0\n",
    "    #single qubit rotations\n",
    "    qc.rz(weights[params_index],i1)\n",
    "    params_index+=1\n",
    "    qc.ry(weights[params_index],i1)\n",
    "    params_index+=1\n",
    "    qc.rx(weights[params_index],i1)\n",
    "    params_index+=1\n",
    "    \n",
    "    qc.rz(weights[params_index],i2)\n",
    "    params_index+=1\n",
    "    qc.ry(weights[params_index],i2)\n",
    "    params_index+=1\n",
    "    qc.rx(weights[params_index],i2)\n",
    "    params_index+=1\n",
    "    \n",
    "    #two qubits rotations\n",
    "    qc.rzz(weights[params_index],i1,i2)\n",
    "    params_index+=1\n",
    "    qc.ryy(weights[params_index],i1,i2)\n",
    "    params_index+=1\n",
    "    qc.rxx(weights[params_index],i1,i2)\n",
    "    params_index+=1\n",
    "    \n",
    "    qc.rz(weights[params_index],i1)\n",
    "    params_index+=1\n",
    "    qc.ry(weights[params_index],i1)\n",
    "    params_index+=1\n",
    "    qc.rx(weights[params_index],i1)\n",
    "    params_index+=1\n",
    "    \n",
    "    qc.rz(weights[params_index],i2)\n",
    "    params_index+=1\n",
    "    qc.ry(weights[params_index],i2)\n",
    "    params_index+=1\n",
    "    qc.rx(weights[params_index],i2)\n",
    "    \n",
    "    qc.barrier()\n",
    "    \n",
    "def addPooling(qc,i1,i2,weights):\n",
    "    params_index=0\n",
    "    qc.rz(weights[params_index],i1)\n",
    "    params_index += 1\n",
    "    qc.ry(weights[params_index],i1)\n",
    "    params_index += 1\n",
    "    qc.rx(weights[params_index],i1)\n",
    "    params_index += 1\n",
    "    \n",
    "    qc.rz(weights[params_index],i2)\n",
    "    params_index += 1\n",
    "    qc.ry(weights[params_index],i2)\n",
    "    params_index += 1\n",
    "    qc.rx(weights[params_index],i2)\n",
    "\n",
    "    qc.cx(i1,i2)\n",
    "\n",
    "    qc.rx(-weights[params_index],i2)\n",
    "    qc.ry(-weights[params_index-1],i2)\n",
    "    qc.rz(-weights[params_index-2],i2)\n",
    "\n",
    "    qc.barrier()"
   ]
  },
  {
   "cell_type": "code",
   "execution_count": 11,
   "id": "03d3b431-483f-4579-a6ed-a5df14b5642c",
   "metadata": {},
   "outputs": [
    {
     "data": {
      "text/plain": [
       "<qiskit.circuit.instructionset.InstructionSet at 0x16789b5b0>"
      ]
     },
     "execution_count": 11,
     "metadata": {},
     "output_type": "execute_result"
    }
   ],
   "source": [
    "n_layers=1\n",
    "n_convWeights=15\n",
    "n_poolingWeights=6\n",
    "#n_params=n_convWeights*3 +n_poolingWeights*2\n",
    "n_params=n_convWeights*5 +n_poolingWeights*3\n",
    "weights = ParameterVector(\"weight\", n_params)\n",
    "params_index=0\n",
    "qr = QuantumRegister(n_qubits)\n",
    "qc = QuantumCircuit(qr)\n",
    "qc.compose(RealAmplitudes(num_qubits=n_qubits,reps=n_rep_VQEansatz), inplace=True) \n",
    "qc.barrier()\n",
    "\n",
    "\n",
    "#Convolution layer:\n",
    "\n",
    "index_start=0\n",
    "index_end=n_convWeights\n",
    "weights_conv1=weights[index_start:index_end]\n",
    "    \n",
    "for i in np.arange(0,n_qubits-1,1):\n",
    "#     index_start=i*n_convWeights\n",
    "#     index_end=(i+1)*n_convWeights\n",
    "#     weights_conv1=weights[index_start:index_end]\n",
    "    addConv(qc,i,i+1,weights_conv1)\n",
    "\n",
    "\n",
    "    \n",
    "qc.barrier()\n",
    "#pooling layer:\n",
    "index_start=index_end\n",
    "index_end+=n_poolingWeights\n",
    "weights_pooling1=weights[index_start:index_end]\n",
    "\n",
    "for i in np.arange(0,int(n_qubits/2),1):\n",
    "#     index_start=index_end\n",
    "#     index_end+=n_poolingWeights\n",
    "#     weights_pooling1=weights[index_start:index_end]\n",
    "    addPooling(qc,i*2,i*2+1,weights_pooling1)\n",
    "qc.barrier()\n",
    "\n",
    "\n",
    "#Convolution layer2:\n",
    "index_start=index_end\n",
    "index_end=index_start+n_convWeights\n",
    "weights_conv2=weights[index_start:index_end]\n",
    "for i in np.arange(0,int(n_qubits/4),1):\n",
    "#     index_start=index_end\n",
    "#     index_end=index_start+n_convWeights\n",
    "#     weights_conv2=weights[index_start:index_end]\n",
    "    addConv(qc,i*4+1,i*4+3,weights_conv2)\n",
    " \n",
    "\n",
    "#pooling layer2:\n",
    "index_start=index_end\n",
    "index_end+=n_poolingWeights\n",
    "weights_pooling2=weights[index_start:index_end]\n",
    "for i in np.arange(0,int(n_qubits/4),1):\n",
    "#     index_start=index_end\n",
    "#     index_end+=n_poolingWeights\n",
    "#     weights_pooling2=weights[index_start:index_end]\n",
    "    addPooling(qc,i*4+1,i*4+3,weights_pooling2)\n",
    "\n",
    "qc.barrier()"
   ]
  },
  {
   "cell_type": "code",
   "execution_count": 12,
   "id": "4cdfd209-9cd1-42a1-b8c7-6dd3c48d570b",
   "metadata": {
    "scrolled": false
   },
   "outputs": [
    {
     "name": "stderr",
     "output_type": "stream",
     "text": [
      "/Users/lizhelun/miniforge3/envs/qc/lib/python3.10/site-packages/qiskit/visualization/circuit/matplotlib.py:266: FutureWarning: The default matplotlib drawer scheme will be changed to \"iqp\" in a following release. To silence this warning, specify the current default explicitly as style=\"clifford\", or the new default as style=\"iqp\".\n",
      "  self._style, def_font_ratio = load_style(self._style)\n"
     ]
    },
    {
     "data": {
      "image/png": "[encoded data removed]",
      "text/plain": [
       "<Figure size 1631.41x1468.88 with 1 Axes>"
      ]
     },
     "execution_count": 12,
     "metadata": {},
     "output_type": "execute_result"
    }
   ],
   "source": [
    "qc.draw('mpl')"
   ]
  },
  {
   "cell_type": "code",
   "execution_count": 13,
   "id": "ed238459",
   "metadata": {},
   "outputs": [],
   "source": [
    "def predict(X,qc,ob,weights):\n",
    "\n",
    "    prediction=[]\n",
    "    for i in range(len(X)):\n",
    "        job=estimator.run(circuits=qc, observables=ob\n",
    "                          , parameter_values=np.concatenate([X[i],weights]))\n",
    "        jobResult=job.result().values\n",
    "        prediction.append(jobResult)\n",
    "    return np.array(prediction).flatten()"
   ]
  },
  {
   "cell_type": "code",
   "execution_count": 14,
   "id": "a51b8736",
   "metadata": {},
   "outputs": [],
   "source": [
    "def cost_func(weights,X,y,qc,ob):\n",
    "    global cost_val_list\n",
    "    pred = predict(X,qc,ob,weights)\n",
    "    \n",
    "    #pred=-abs(pred-params[-1])\n",
    "    cost_val=((pred-y)**2).sum()\n",
    "    cost_val_list.append(cost_val)\n",
    "    \n",
    "    clear_output(wait=True)\n",
    "    plt.plot(np.arange(0,len(cost_val_list)), cost_val_list)\n",
    "    plt.xlabel('iteration')\n",
    "    plt.ylabel('cost function')\n",
    "    plt.legend()\n",
    "    plt.show()\n",
    "    return cost_val"
   ]
  },
  {
   "cell_type": "code",
   "execution_count": 15,
   "id": "fcc09b73",
   "metadata": {},
   "outputs": [
    {
     "name": "stdout",
     "output_type": "stream",
     "text": [
      "8\n",
      "42\n"
     ]
    }
   ],
   "source": [
    "estimator = Estimator()\n",
    "ob = SparsePauliOp.from_list([(\"I\"*(n_qubits-1)+\"Z\" , 1 )])\n",
    "n_VQEparams=len(X_train[0])\n",
    "n_QCNNweights=qc.num_parameters-n_VQEparams\n",
    "print(n_VQEparams)\n",
    "print(n_QCNNweights)"
   ]
  },
  {
   "cell_type": "code",
   "execution_count": null,
   "id": "333d4b7c",
   "metadata": {},
   "outputs": [],
   "source": []
  },
  {
   "cell_type": "code",
   "execution_count": null,
   "id": "54afc5ad",
   "metadata": {},
   "outputs": [],
   "source": []
  },
  {
   "cell_type": "markdown",
   "id": "5c74b3ba",
   "metadata": {},
   "source": [
    "COBYLA"
   ]
  },
  {
   "cell_type": "code",
   "execution_count": 16,
   "id": "012bc608",
   "metadata": {},
   "outputs": [
    {
     "name": "stderr",
     "output_type": "stream",
     "text": [
      "No artists with labels found to put in legend.  Note that artists whose label start with an underscore are ignored when legend() is called with no argument.\n"
     ]
    },
    {
     "data": {
      "image/png": "[encoded data removed]",
      "text/plain": [
       "<Figure size 432x288 with 1 Axes>"
      ]
     },
     "metadata": {
      "needs_background": "light"
     },
     "output_type": "display_data"
    }
   ],
   "source": [
    "import scipy.optimize \n",
    "method='COBYLA'\n",
    "MaxIter=500\n",
    "initial_weights=2*np.pi*np.random.rand(n_QCNNweights)\n",
    "cost_val_list=[]\n",
    "res = scipy.optimize.minimize(cost_func, initial_weights,method=method,options={'maxiter':MaxIter}\n",
    "                              ,args=(X_train,y_train,qc,ob)) #minimize cost function via scipy\n"
   ]
  },
  {
   "cell_type": "code",
   "execution_count": null,
   "id": "711a166e",
   "metadata": {},
   "outputs": [],
   "source": []
  },
  {
   "cell_type": "code",
   "execution_count": null,
   "id": "ae1aea2c",
   "metadata": {},
   "outputs": [],
   "source": []
  },
  {
   "cell_type": "code",
   "execution_count": 17,
   "id": "2b8b79d7",
   "metadata": {},
   "outputs": [
    {
     "name": "stdout",
     "output_type": "stream",
     "text": [
      "0.5 inf\n",
      "0.52 0.4304827735277928\n",
      "0.56 0.29159194651995074\n",
      "0.58 0.2863080166564621\n",
      "0.7 0.1672679027551689\n",
      "0.74 0.13669417176593515\n"
     ]
    },
    {
     "data": {
      "text/plain": [
       "[<matplotlib.lines.Line2D at 0x16a54e140>]"
      ]
     },
     "execution_count": 17,
     "metadata": {},
     "output_type": "execute_result"
    },
    {
     "data": {
      "image/png": "[encoded data removed]",
      "text/plain": [
       "<Figure size 432x288 with 1 Axes>"
      ]
     },
     "metadata": {
      "needs_background": "light"
     },
     "output_type": "display_data"
    }
   ],
   "source": [
    "\n",
    "from sklearn import metrics\n",
    "from sklearn.metrics import RocCurveDisplay\n",
    "\n",
    "y_predict=predict(X_train,qc,ob,res.x)\n",
    "\n",
    "fpr, tpr, thresholds = metrics.roc_curve(y_train, y_predict, pos_label=1)\n",
    "\n",
    "bestValidation=0\n",
    "threshold_best=0\n",
    "for t in thresholds:\n",
    "    y=y_predict.copy().flatten()\n",
    "    y[y>t]=1\n",
    "    y[y<t]=-1\n",
    "    diff=y-y_train\n",
    "    val=diff[diff==0].shape[0]/y.shape[0]\n",
    "    if val>bestValidation:\n",
    "        bestValidation=val\n",
    "        threshold_best=t\n",
    "        print(val,threshold_best)\n",
    "plt.plot(fpr,tpr)"
   ]
  },
  {
   "cell_type": "code",
   "execution_count": 18,
   "id": "1f342652",
   "metadata": {},
   "outputs": [
    {
     "name": "stdout",
     "output_type": "stream",
     "text": [
      "0.44\n"
     ]
    }
   ],
   "source": [
    "y_test_predict=predict(X_test,qc,ob,res.x)\n",
    "y_test_predict[y_test_predict<threshold_best]=-1\n",
    "y_test_predict[y_test_predict>=threshold_best]=1\n",
    "diff=y_test-y_test_predict\n",
    "accuracy_COBYLA=diff[diff==0].shape[0]/diff.shape[0]\n",
    "print(accuracy_COBYLA)"
   ]
  },
  {
   "cell_type": "code",
   "execution_count": null,
   "id": "e1eb0a63",
   "metadata": {},
   "outputs": [],
   "source": []
  },
  {
   "cell_type": "code",
   "execution_count": null,
   "id": "8287bad1",
   "metadata": {},
   "outputs": [],
   "source": []
  },
  {
   "cell_type": "code",
   "execution_count": null,
   "id": "d7641ed5",
   "metadata": {},
   "outputs": [],
   "source": []
  },
  {
   "cell_type": "code",
   "execution_count": null,
   "id": "1385d373",
   "metadata": {},
   "outputs": [],
   "source": []
  },
  {
   "cell_type": "code",
   "execution_count": null,
   "id": "f904a526",
   "metadata": {},
   "outputs": [],
   "source": []
  },
  {
   "cell_type": "markdown",
   "id": "fac06597",
   "metadata": {},
   "source": [
    "Gradient"
   ]
  },
  {
   "cell_type": "code",
   "execution_count": null,
   "id": "877ffbe0",
   "metadata": {},
   "outputs": [],
   "source": [
    "def getParamsVariations(x,weights):\n",
    "    n_VQEparams=len(x)\n",
    "    #Adding QCNN weight to the VQE parameters to obtain the full list of parameters\n",
    "    params=np.concatenate([x,weights])\n",
    "    param_variation_list=[params]\n",
    "    # vary each weight by +- pi/2 for parameter-shift rule\n",
    "    for i in range(len(weights)):\n",
    "        tmp_param=params.copy()\n",
    "        tmp_param[n_VQEparams+i]+=np.pi/2\n",
    "        param_variation_list.append(tmp_param)\n",
    "        tmp_param=params.copy()\n",
    "        tmp_param[n_VQEparams+i]-=np.pi/2\n",
    "        param_variation_list.append(tmp_param)\n",
    "    return np.array(param_variation_list)\n",
    "\n",
    "def getGrad(jobResult):\n",
    "    vev=jobResult[0]\n",
    "    grad=[]\n",
    "    for i in range(int((jobResult.shape[0]-1)/2)):\n",
    "        tmpGrad=(jobResult[2*i+1]-jobResult[2*i+2])/2\n",
    "        grad.append(tmpGrad)\n",
    "    grad=np.array(grad)\n",
    "    return vev,grad"
   ]
  },
  {
   "cell_type": "code",
   "execution_count": null,
   "id": "1e783c49",
   "metadata": {},
   "outputs": [],
   "source": [
    "initial_weights=2*np.pi*np.random.rand(n_QCNNweights)\n",
    "weights=initial_weights"
   ]
  },
  {
   "cell_type": "code",
   "execution_count": null,
   "id": "f98e7f0c-88d7-4f82-97d6-66704e371e84",
   "metadata": {
    "scrolled": true
   },
   "outputs": [],
   "source": [
    "nIterations=30\n",
    "learning_rate=1e-1\n",
    "loss_list=[]\n",
    "\n",
    "for Iter in range(nIterations):\n",
    "\n",
    "    cost=0\n",
    "    grad_all=np.zeros(n_QCNNweights)\n",
    "    for i in range(len(X_train)):\n",
    "        param_variation_list=getParamsVariations(X_train[i],weights)\n",
    "        circuits=[qc]*len(param_variation_list)\n",
    "        observable=[ob]*len(param_variation_list)\n",
    "        \n",
    "        job=estimator.run(circuits=circuits, observables=observable\n",
    "                          , parameter_values=param_variation_list)\n",
    "        jobResult=job.result().values\n",
    "        vev,circuitGrad=getGrad(jobResult)\n",
    "        cost+=(vev-y_train[i])**2\n",
    "        grad= 2*(vev-y_train[i])*circuitGrad\n",
    "        grad_all+=grad\n",
    "        \n",
    "    print(cost)\n",
    "    loss_list.append(cost)\n",
    "    weights-=learning_rate*grad_all\n"
   ]
  },
  {
   "cell_type": "code",
   "execution_count": null,
   "id": "ab1a246d",
   "metadata": {},
   "outputs": [],
   "source": [
    "\n",
    "y_predict=predict(X_train,qc,ob,weights)\n",
    "\n",
    "fpr, tpr, thresholds = metrics.roc_curve(y_train, y_predict, pos_label=1)\n",
    "\n",
    "bestValidation=0\n",
    "threshold_best=0\n",
    "for t in thresholds:\n",
    "    y=y_predict.copy().flatten()\n",
    "    y[y>t]=1\n",
    "    y[y<t]=-1\n",
    "    diff=y-y_train\n",
    "    val=diff[diff==0].shape[0]/y.shape[0]\n",
    "    if val>bestValidation:\n",
    "        bestValidation=val\n",
    "        threshold_best=t\n",
    "        print(val,threshold_best)\n",
    "plt.plot(fpr,tpr)"
   ]
  },
  {
   "cell_type": "code",
   "execution_count": null,
   "id": "e899b090",
   "metadata": {},
   "outputs": [],
   "source": [
    "y_test_predict=predict(X_test,qc,ob,weights)\n",
    "y_test_predict[y_test_predict<threshold_best]=-1\n",
    "y_test_predict[y_test_predict>=threshold_best]=1\n",
    "diff=y_test-y_test_predict\n",
    "accuracy_Gradient=diff[diff==0].shape[0]/diff.shape[0]\n",
    "print(accuracy_Gradient)"
   ]
  },
  {
   "cell_type": "code",
   "execution_count": null,
   "id": "46e1ca78",
   "metadata": {},
   "outputs": [],
   "source": []
  }
 ],
 "metadata": {
  "kernelspec": {
   "display_name": "qc",
   "language": "python",
   "name": "qc"
  },
  "language_info": {
   "codemirror_mode": {
    "name": "ipython",
    "version": 3
   },
   "file_extension": ".py",
   "mimetype": "text/x-python",
   "name": "python",
   "nbconvert_exporter": "python",
   "pygments_lexer": "ipython3",
   "version": "3.10.4"
  }
 },
 "nbformat": 4,
 "nbformat_minor": 5
}
