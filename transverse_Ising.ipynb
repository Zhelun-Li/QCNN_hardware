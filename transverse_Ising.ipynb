{
 "cells": [
  {
   "cell_type": "code",
   "execution_count": 1,
   "id": "0e7b427f-0f65-41db-a429-91b0178820f4",
   "metadata": {},
   "outputs": [],
   "source": [
    "from qiskit import QuantumCircuit\n",
    "from qiskit.circuit import QuantumRegister,ClassicalRegister\n",
    "from qiskit_machine_learning.neural_networks import EstimatorQNN,SamplerQNN\n",
    "from IPython.display import clear_output\n",
    "import matplotlib.pyplot as plt\n",
    "import qiskit.quantum_info as qi\n",
    "from qiskit.circuit import ParameterVector\n",
    "from qiskit_algorithms.utils import algorithm_globals\n",
    "import time as t\n",
    "from qiskit.quantum_info import SparsePauliOp\n",
    "from qiskit.circuit.library import EfficientSU2,RealAmplitudes\n",
    "import numpy as np\n",
    "from qiskit.primitives import Estimator\n",
    "import pickle "
   ]
  },
  {
   "cell_type": "code",
   "execution_count": 12,
   "id": "51dd2ab6-297b-4a69-89c4-d055d18c956e",
   "metadata": {},
   "outputs": [],
   "source": [
    "VQE_training =True\n",
    "n_qubits=4\n",
    "j_coupling=0.5\n",
    "g_coupling=1.5\n",
    "n_rep_VQEansatz=1\n",
    "\n",
    "def callback_graph(x,name='loss'):\n",
    "    #clear_output(wait=True)\n",
    "    plt.title(\"Training curve\")\n",
    "    plt.xlabel(\"Iteration\")\n",
    "    plt.ylabel(name)\n",
    "    plt.plot(range(len(x)), x,label='ground state energy')\n",
    "    #plt.show()\n"
   ]
  },
  {
   "cell_type": "code",
   "execution_count": 3,
   "id": "ebb1bb2a",
   "metadata": {},
   "outputs": [],
   "source": [
    "def getGoundState(n_qubits=n_qubits,j_coupling=j_coupling,g_coupling=g_coupling,n_rep_VQEansatz=1,nSteps=200\n",
    "                 ,learning_rate=1e-1):\n",
    "    h_coupling=j_coupling*g\n",
    "    qr_VQE = QuantumRegister(n_qubits)\n",
    "    qc_VQE = QuantumCircuit(qr_VQE)\n",
    "    ansatz_VQE =  RealAmplitudes(num_qubits=n_qubits,reps=n_rep_VQEansatz)\n",
    "    qc_VQE.h(qr_VQE)\n",
    "    qc_VQE.compose(ansatz_VQE, inplace=True)  \n",
    "    \n",
    "    observable = SparsePauliOp.from_list([(\"X\"+\"I\"*(n_qubits-1) , h_coupling )])\n",
    "    for i in np.arange(1,n_qubits,1):\n",
    "        observable=observable + SparsePauliOp.from_list([(\"I\"*(i)+\"X\"+\"I\"*(n_qubits-1-i) , -h_coupling )])\n",
    "    for i in range(n_qubits-1):\n",
    "        observable=observable + (SparsePauliOp.from_list([(\"I\"*(i)+\"ZZ\"+\"I\"*(n_qubits-2-i) ,- j_coupling)]))\n",
    "        \n",
    "       \n",
    "    qnn_VQE=EstimatorQNN(\n",
    "        estimator=Estimator(options={\"shots\":1e10}),\n",
    "        circuit=qc_VQE,\n",
    "        weight_params=ansatz_VQE.parameters,\n",
    "        observables=observable\n",
    "        )\n",
    "\n",
    "    eigenValues=np.linalg.eig(observable.to_matrix())[0]\n",
    "    eigenValues.sort()\n",
    "\n",
    "    groundEnergy=eigenValues[0]\n",
    "    #print(\"ground state energy =\", groundEnergy)\n",
    "    \n",
    "    init_weights=np.random.rand(qnn_VQE.num_weights)*2*np.pi\n",
    "    weights=init_weights\n",
    "    \n",
    "    loss=[]\n",
    "    for i in range(nSteps):\n",
    "        vev=qnn_VQE.forward([], weights)[0][0]\n",
    "        input_grad, weight_grad=qnn_VQE.backward([],weights)\n",
    "        grad=weight_grad[0,0,:]\n",
    "        weights=weights-learning_rate*grad\n",
    "        loss.append(vev)\n",
    "\n",
    "#         if i%1==0:\n",
    "\n",
    "#             clear_output(wait=True)\n",
    "#             plt.figure(1)\n",
    "#             callback_graph(loss)\n",
    "#             plt.plot(range(len(loss)),groundEnergy*np.ones(len(loss)),label='truth')\n",
    "#             plt.legend()\n",
    "#             #plt.yscale('log')\n",
    "#             plt.show()\n",
    "\n",
    "    return weights,vev,groundEnergy"
   ]
  },
  {
   "cell_type": "markdown",
   "id": "1ddcfd50",
   "metadata": {},
   "source": [
    "Next, prepare a series of ground states and its labels based on the value of |g|\n",
    "\n",
    "For |g|<1, two-fold degenerate ground state.\n",
    "\n",
    "For |g|>1, non-degenerate ground state."
   ]
  },
  {
   "cell_type": "code",
   "execution_count": 14,
   "id": "9152cfce",
   "metadata": {},
   "outputs": [
    {
     "name": "stdout",
     "output_type": "stream",
     "text": [
      "g =  0.0  diff= 0.00011113944297698926\n",
      "g =  0.05  diff= 2.608591092216968e-06\n",
      "g =  0.1  diff= 0.00013951963060539327\n",
      "g =  0.15000000000000002  diff= 0.00018612002164138396\n",
      "g =  0.2  diff= 0.0005032481277542712\n",
      "g =  0.25  diff= 0.003945971971958352\n",
      "g =  0.30000000000000004  diff= 0.0023471561814016333\n",
      "g =  0.35000000000000003  diff= 0.013806930014074905\n",
      "g =  0.4  diff= 0.007230256553881722\n",
      "g =  0.45  diff= 0.010475624917370346\n",
      "g =  0.5  diff= 0.01406851320958552\n",
      "g =  0.55  diff= 0.017229280304161022\n",
      "g =  0.6000000000000001  diff= 0.025921528162427175\n",
      "g =  0.65  diff= 0.025384688844442515\n",
      "g =  0.7000000000000001  diff= 0.029092262859574412\n",
      "g =  0.75  diff= 0.01170238157830141\n",
      "g =  0.8  diff= 0.009524958591846178\n",
      "g =  0.8500000000000001  diff= 0.008272057898349611\n",
      "g =  0.9  diff= 0.007206379793648562\n",
      "g =  0.9500000000000001  diff= 0.009829539736580364\n",
      "lowG finished\n",
      "g =  1.05  diff= 0.04185241320613338\n",
      "g =  1.1  diff= 0.00862821857630399\n",
      "g =  1.1500000000000001  diff= 0.07441878538586763\n",
      "g =  1.2000000000000002  diff= 0.0836258579398265\n",
      "g =  1.2500000000000002  diff= 0.005466103030325673\n",
      "g =  1.3000000000000003  diff= 0.2023326427495794\n",
      "g =  1.3500000000000003  diff= 0.17556198306703663\n",
      "g =  1.4000000000000004  diff= 0.013951911742124809\n",
      "g =  1.4500000000000004  diff= 0.23913520191343418\n",
      "g =  1.5000000000000004  diff= 0.006527650511269617\n",
      "g =  1.5500000000000005  diff= 0.013641716947153418\n",
      "g =  1.6000000000000005  diff= 0.005630238469222086\n",
      "g =  1.6500000000000006  diff= 0.20677252815552016\n",
      "g =  1.7000000000000006  diff= 0.009416100349578386\n",
      "g =  1.7500000000000007  diff= 0.0013661292093223787\n",
      "g =  1.8000000000000007  diff= 0.001832832804539919\n",
      "g =  1.8500000000000008  diff= 0.009802214044177669\n",
      "g =  1.9000000000000008  diff= 0.014675635385110412\n",
      "g =  1.9500000000000008  diff= 0.004819393663701488\n",
      "g =  2.000000000000001  diff= 0.0025332336158856625\n"
     ]
    }
   ],
   "source": [
    "if VQE_training:#Obtaining ground state for |g|<1 \n",
    "    nSteps=50\n",
    "    lowGs=np.arange(0,1.0,0.05)\n",
    "    highGs=np.arange(1.05,2.05,0.05)\n",
    "    w_low=[]\n",
    "    Egs_estimate_low=[]\n",
    "    Egs_low=[]\n",
    "    for g in lowGs:\n",
    "        for i in range(5):\n",
    "            weights,Egs_estimate,Egs=getGoundState(g_coupling=g,nSteps=nSteps,learning_rate=1e0)\n",
    "            diff=abs(Egs_estimate-Egs)/abs(Egs)\n",
    "\n",
    "            if diff< 0.015:\n",
    "                break\n",
    "                \n",
    "        print(\"g = \",g,\" diff=\",diff)\n",
    "                \n",
    "        w_low.append(weights)\n",
    "        Egs_estimate_low.append(Egs_estimate)\n",
    "        Egs_low.append(Egs)\n",
    "\n",
    "    print(\"lowG finished\")\n",
    "    dict_low={\"weights\": w_low,\"E_gs_estimate\": Egs_estimate_low,\n",
    "              \"E_gs\":Egs_low,\"g\":lowGs}\n",
    "    with open('lowG_dict.pkl', 'wb') as f:\n",
    "        pickle.dump(dict_low, f)\n",
    "\n",
    "\n",
    "    w_high=[]\n",
    "    Egs_estimate_high=[]\n",
    "    Egs_high=[]\n",
    "    for g in highGs:\n",
    "        for i in range(5):\n",
    "            weights,Egs_estimate,Egs=getGoundState(g_coupling=g,nSteps=nSteps)\n",
    "            diff=abs(Egs_estimate-Egs)/abs(Egs)\n",
    "            if diff< 0.015:\n",
    "                break\n",
    "        print(\"g = \",g,\" diff=\",diff)\n",
    "        w_high.append(weights)\n",
    "        Egs_estimate_high.append(Egs_estimate)\n",
    "        Egs_high.append(Egs)\n",
    "\n",
    "    dict_high={\"weights\": w_high,\"E_gs_estimate\":Egs_estimate_high,\n",
    "               \"E_gs\": Egs_high ,\"g\":highGs}\n",
    "    with open('highG_dict.pkl', 'wb') as f:\n",
    "        pickle.dump(dict_high, f)\n",
    "        \n",
    "    dataset={'weights':dict_low['weights']+dict_high['weights'], \n",
    "         'label': np.concatenate([-1*np.ones(len(dict_low['weights'])),np.ones(len(dict_high['weights']))])\n",
    "        }\n",
    "    \n",
    "    with open('dataset.pkl', 'wb') as f:\n",
    "        pickle.dump(dataset, f)\n",
    "    "
   ]
  },
  {
   "cell_type": "code",
   "execution_count": null,
   "id": "fb689dd4",
   "metadata": {},
   "outputs": [],
   "source": []
  },
  {
   "cell_type": "code",
   "execution_count": 15,
   "id": "e3630574-0ab8-4fc3-a5d9-8986cf7d69ff",
   "metadata": {},
   "outputs": [],
   "source": [
    "# with open('lowG_dict.pkl', 'rb') as f:\n",
    "#     dict_low = pickle.load(f)\n",
    "\n",
    "# with open('highG_dict.pkl', 'rb') as f:\n",
    "#     dict_high = pickle.load(f)\n",
    "\n",
    "with open('dataset.pkl', 'rb') as f:\n",
    "    dataset = pickle.load(f)"
   ]
  },
  {
   "cell_type": "code",
   "execution_count": 16,
   "id": "db8b91b2",
   "metadata": {},
   "outputs": [],
   "source": [
    "X_train=[]\n",
    "y_train=[]\n",
    "X_test=[]\n",
    "y_test=[]\n",
    "for i in range(len(dataset['label'])):\n",
    "    if i % 5 == 0:\n",
    "        X_test.append(dataset['weights'][i])\n",
    "        y_test.append(dataset['label'][i])\n",
    "    \n",
    "    else:\n",
    "        X_train.append(dataset['weights'][i])\n",
    "        y_train.append(dataset['label'][i])\n",
    "    \n",
    "X_train=np.array(X_train)\n",
    "y_train=np.array(y_train)\n",
    "X_test=np.array(X_test)\n",
    "y_test=np.array(y_test)"
   ]
  },
  {
   "cell_type": "code",
   "execution_count": 17,
   "id": "03d3b431-483f-4579-a6ed-a5df14b5642c",
   "metadata": {},
   "outputs": [
    {
     "data": {
      "text/plain": [
       "<qiskit.circuit.instructionset.InstructionSet at 0x134b81210>"
      ]
     },
     "execution_count": 17,
     "metadata": {},
     "output_type": "execute_result"
    }
   ],
   "source": [
    "n_layers=1\n",
    "n_params=n_layers*1+n_qubits+1\n",
    "weights = ParameterVector(\"weight\", n_params)\n",
    "params_index=0\n",
    "qr = QuantumRegister(n_qubits)\n",
    "qc = QuantumCircuit(qr)\n",
    "qc.compose(RealAmplitudes(num_qubits=n_qubits,reps=n_rep_VQEansatz), inplace=True) \n",
    "qc.barrier()\n",
    "for layer in range(n_layers):\n",
    "    for i in np.arange(0,n_qubits-1,1):\n",
    "        qc.rzz(weights[params_index],i,i+1)\n",
    "    params_index += 1\n",
    "qc.barrier()\n",
    "#pooling layer:\n",
    "for i in np.arange(0,int(n_qubits/2),1):\n",
    "    qc.rz(weights[params_index],i*2)\n",
    "    \n",
    "params_index += 1\n",
    "\n",
    "for i in np.arange(0,int(n_qubits/2),1):\n",
    "    qc.rz(weights[params_index],i*2+1)\n",
    "    qc.cx(2*i,2*i+1)\n",
    "params_index += 1\n",
    "\n",
    "for i in np.arange(0,int(n_qubits/2),1):\n",
    "    qc.rz(-weights[params_index-2],i*2+1)\n",
    "qc.barrier()\n",
    "\n",
    "for i in np.arange(0,int(n_qubits/4),1):\n",
    "    qc.rzz(weights[params_index],i*4+1,i*4+3)\n",
    "qc.barrier()\n",
    "params_index += 1\n",
    "\n",
    "for i in np.arange(0,int(n_qubits/4),1):\n",
    "    qc.rz(weights[params_index],i*4+1)\n",
    "params_index += 1\n",
    "\n",
    "for i in np.arange(0,int(n_qubits/4),1):\n",
    "    qc.rz(weights[params_index],i*4+3)\n",
    "    qc.cx(i*4+1,i*4+3)\n",
    "params_index += 1\n",
    "\n",
    "for i in np.arange(0,int(n_qubits/4),1):\n",
    "    qc.rz(-weights[params_index-2],i*4+3)\n",
    "qc.barrier()"
   ]
  },
  {
   "cell_type": "code",
   "execution_count": 18,
   "id": "4cdfd209-9cd1-42a1-b8c7-6dd3c48d570b",
   "metadata": {},
   "outputs": [
    {
     "name": "stderr",
     "output_type": "stream",
     "text": [
      "/Users/lizhelun/miniforge3/envs/qc/lib/python3.10/site-packages/qiskit/visualization/circuit/matplotlib.py:266: FutureWarning: The default matplotlib drawer scheme will be changed to \"iqp\" in a following release. To silence this warning, specify the current default explicitly as style=\"clifford\", or the new default as style=\"iqp\".\n",
      "  self._style, def_font_ratio = load_style(self._style)\n"
     ]
    },
    {
     "data": {
      "image/png": "[encoded data removed]",
      "text/plain": [
       "<Figure size 1631.27x565.88 with 1 Axes>"
      ]
     },
     "execution_count": 18,
     "metadata": {},
     "output_type": "execute_result"
    }
   ],
   "source": [
    "qc.draw('mpl')"
   ]
  },
  {
   "cell_type": "code",
   "execution_count": 19,
   "id": "a1812bf0-616b-40c8-bf95-f9199c189ac9",
   "metadata": {},
   "outputs": [
    {
     "data": {
      "text/plain": [
       "14"
      ]
     },
     "execution_count": 19,
     "metadata": {},
     "output_type": "execute_result"
    }
   ],
   "source": [
    "qc.num_parameters"
   ]
  },
  {
   "cell_type": "code",
   "execution_count": 20,
   "id": "ad0ed9aa-b267-48ec-8e77-e22a1e6ee4e0",
   "metadata": {},
   "outputs": [],
   "source": [
    "estimator = Estimator()\n",
    "ob = SparsePauliOp.from_list([(\"I\"*(n_qubits-1)+\"Z\" , 1 )])"
   ]
  },
  {
   "cell_type": "code",
   "execution_count": 21,
   "id": "db6c54bc-50e9-493d-88a3-e296c6486ebf",
   "metadata": {},
   "outputs": [],
   "source": [
    "n_VQEparams=len(X_train[0])\n",
    "n_QCNNweights=qc.num_parameters-n_VQEparams"
   ]
  },
  {
   "cell_type": "code",
   "execution_count": 22,
   "id": "877ffbe0",
   "metadata": {},
   "outputs": [],
   "source": [
    "def getParamsVariations(x,weights):\n",
    "    n_VQEparams=len(x)\n",
    "    params=np.concatenate([x,weights])\n",
    "    param_variation_list=[params]\n",
    "    for i in range(len(weights)):\n",
    "\n",
    "        tmp_param=params.copy()\n",
    "        tmp_param[n_VQEparams+i]+=np.pi/2\n",
    "        param_variation_list.append(tmp_param)\n",
    "        tmp_param=params.copy()\n",
    "        tmp_param[n_VQEparams+i]-=np.pi/2\n",
    "        param_variation_list.append(tmp_param)\n",
    "    return np.array(param_variation_list)\n",
    "\n",
    "def getGrad(jobResult):\n",
    "    vev=jobResult[0]\n",
    "    grad=[]\n",
    "    for i in range(int((jobResult.shape[0]-1)/2)):\n",
    "        tmpGrad=(jobResult[2*i+1]-jobResult[2*i+2])/2\n",
    "        grad.append(tmpGrad)\n",
    "    grad=np.array(grad)\n",
    "    return vev,grad"
   ]
  },
  {
   "cell_type": "code",
   "execution_count": 40,
   "id": "1e783c49",
   "metadata": {},
   "outputs": [],
   "source": [
    "initial_weights=2*np.pi*np.random.rand(n_QCNNweights)\n",
    "weights=initial_weights"
   ]
  },
  {
   "cell_type": "code",
   "execution_count": 42,
   "id": "f98e7f0c-88d7-4f82-97d6-66704e371e84",
   "metadata": {
    "scrolled": true
   },
   "outputs": [
    {
     "name": "stdout",
     "output_type": "stream",
     "text": [
      "35.99560997821228\n",
      "34.65304099311866\n",
      "33.03013174067383\n",
      "30.605201895060077\n",
      "30.569835860333754\n",
      "30.560573362828926\n",
      "30.542535096195508\n",
      "30.53642579283674\n",
      "30.52692944077001\n",
      "30.52349857966403\n",
      "30.519539567171957\n",
      "30.52011386846297\n",
      "30.523320541137103\n",
      "30.534827835339026\n",
      "30.558072954085855\n",
      "30.605731313537245\n",
      "30.699112206116162\n",
      "30.848473451040235\n",
      "31.14113063343719\n",
      "31.37276136363386\n",
      "31.82219920998339\n",
      "31.547291227114037\n",
      "31.473706011744525\n",
      "31.027216819707384\n"
     ]
    },
    {
     "ename": "KeyboardInterrupt",
     "evalue": "",
     "output_type": "error",
     "traceback": [
      "\u001b[0;31m---------------------------------------------------------------------------\u001b[0m",
      "\u001b[0;31mKeyboardInterrupt\u001b[0m                         Traceback (most recent call last)",
      "Input \u001b[0;32mIn [42]\u001b[0m, in \u001b[0;36m<cell line: 5>\u001b[0;34m()\u001b[0m\n\u001b[1;32m     15\u001b[0m observable\u001b[38;5;241m=\u001b[39m[ob]\u001b[38;5;241m*\u001b[39m\u001b[38;5;28mlen\u001b[39m(params_list_all[i])\n\u001b[1;32m     16\u001b[0m param_variation_list\u001b[38;5;241m=\u001b[39mparams_list_all[i]\n\u001b[0;32m---> 17\u001b[0m job\u001b[38;5;241m=\u001b[39m\u001b[43mestimator\u001b[49m\u001b[38;5;241;43m.\u001b[39;49m\u001b[43mrun\u001b[49m\u001b[43m(\u001b[49m\u001b[43mcircuits\u001b[49m\u001b[38;5;241;43m=\u001b[39;49m\u001b[43mcircuits\u001b[49m\u001b[43m,\u001b[49m\u001b[43m \u001b[49m\u001b[43mobservables\u001b[49m\u001b[38;5;241;43m=\u001b[39;49m\u001b[43mobservable\u001b[49m\n\u001b[1;32m     18\u001b[0m \u001b[43m                  \u001b[49m\u001b[43m,\u001b[49m\u001b[43m \u001b[49m\u001b[43mparameter_values\u001b[49m\u001b[38;5;241;43m=\u001b[39;49m\u001b[43mparam_variation_list\u001b[49m\u001b[43m)\u001b[49m\n\u001b[1;32m     19\u001b[0m jobResult\u001b[38;5;241m=\u001b[39mjob\u001b[38;5;241m.\u001b[39mresult()\u001b[38;5;241m.\u001b[39mvalues\n\u001b[1;32m     20\u001b[0m vev,circuitGrad\u001b[38;5;241m=\u001b[39mgetGrad(jobResult)\n",
      "File \u001b[0;32m~/miniforge3/envs/qc/lib/python3.10/site-packages/qiskit/primitives/base/base_estimator.py:188\u001b[0m, in \u001b[0;36mBaseEstimator.run\u001b[0;34m(self, circuits, observables, parameter_values, **run_options)\u001b[0m\n\u001b[1;32m    185\u001b[0m run_opts \u001b[38;5;241m=\u001b[39m copy(\u001b[38;5;28mself\u001b[39m\u001b[38;5;241m.\u001b[39moptions)\n\u001b[1;32m    186\u001b[0m run_opts\u001b[38;5;241m.\u001b[39mupdate_options(\u001b[38;5;241m*\u001b[39m\u001b[38;5;241m*\u001b[39mrun_options)\n\u001b[0;32m--> 188\u001b[0m \u001b[38;5;28;01mreturn\u001b[39;00m \u001b[38;5;28;43mself\u001b[39;49m\u001b[38;5;241;43m.\u001b[39;49m\u001b[43m_run\u001b[49m\u001b[43m(\u001b[49m\n\u001b[1;32m    189\u001b[0m \u001b[43m    \u001b[49m\u001b[43mcircuits\u001b[49m\u001b[43m,\u001b[49m\n\u001b[1;32m    190\u001b[0m \u001b[43m    \u001b[49m\u001b[43mobservables\u001b[49m\u001b[43m,\u001b[49m\n\u001b[1;32m    191\u001b[0m \u001b[43m    \u001b[49m\u001b[43mparameter_values\u001b[49m\u001b[43m,\u001b[49m\n\u001b[1;32m    192\u001b[0m \u001b[43m    \u001b[49m\u001b[38;5;241;43m*\u001b[39;49m\u001b[38;5;241;43m*\u001b[39;49m\u001b[43mrun_opts\u001b[49m\u001b[38;5;241;43m.\u001b[39;49m\u001b[38;5;18;43m__dict__\u001b[39;49m\u001b[43m,\u001b[49m\n\u001b[1;32m    193\u001b[0m \u001b[43m\u001b[49m\u001b[43m)\u001b[49m\n",
      "File \u001b[0;32m~/miniforge3/envs/qc/lib/python3.10/site-packages/qiskit/primitives/estimator.py:158\u001b[0m, in \u001b[0;36mEstimator._run\u001b[0;34m(self, circuits, observables, parameter_values, **run_options)\u001b[0m\n\u001b[1;32m    154\u001b[0m         \u001b[38;5;28mself\u001b[39m\u001b[38;5;241m.\u001b[39m_observables\u001b[38;5;241m.\u001b[39mappend(observable)\n\u001b[1;32m    155\u001b[0m job \u001b[38;5;241m=\u001b[39m PrimitiveJob(\n\u001b[1;32m    156\u001b[0m     \u001b[38;5;28mself\u001b[39m\u001b[38;5;241m.\u001b[39m_call, circuit_indices, observable_indices, parameter_values, \u001b[38;5;241m*\u001b[39m\u001b[38;5;241m*\u001b[39mrun_options\n\u001b[1;32m    157\u001b[0m )\n\u001b[0;32m--> 158\u001b[0m \u001b[43mjob\u001b[49m\u001b[38;5;241;43m.\u001b[39;49m\u001b[43msubmit\u001b[49m\u001b[43m(\u001b[49m\u001b[43m)\u001b[49m\n\u001b[1;32m    159\u001b[0m \u001b[38;5;28;01mreturn\u001b[39;00m job\n",
      "File \u001b[0;32m~/miniforge3/envs/qc/lib/python3.10/site-packages/qiskit/primitives/primitive_job.py:49\u001b[0m, in \u001b[0;36mPrimitiveJob.submit\u001b[0;34m(self)\u001b[0m\n\u001b[1;32m     46\u001b[0m     \u001b[38;5;28;01mraise\u001b[39;00m JobError(\u001b[38;5;124m\"\u001b[39m\u001b[38;5;124mPrimitive job has already been submitted.\u001b[39m\u001b[38;5;124m\"\u001b[39m)\n\u001b[1;32m     48\u001b[0m executor \u001b[38;5;241m=\u001b[39m ThreadPoolExecutor(max_workers\u001b[38;5;241m=\u001b[39m\u001b[38;5;241m1\u001b[39m)  \u001b[38;5;66;03m# pylint: disable=consider-using-with\u001b[39;00m\n\u001b[0;32m---> 49\u001b[0m \u001b[38;5;28mself\u001b[39m\u001b[38;5;241m.\u001b[39m_future \u001b[38;5;241m=\u001b[39m \u001b[43mexecutor\u001b[49m\u001b[38;5;241;43m.\u001b[39;49m\u001b[43msubmit\u001b[49m\u001b[43m(\u001b[49m\u001b[38;5;28;43mself\u001b[39;49m\u001b[38;5;241;43m.\u001b[39;49m\u001b[43m_function\u001b[49m\u001b[43m,\u001b[49m\u001b[43m \u001b[49m\u001b[38;5;241;43m*\u001b[39;49m\u001b[38;5;28;43mself\u001b[39;49m\u001b[38;5;241;43m.\u001b[39;49m\u001b[43m_args\u001b[49m\u001b[43m,\u001b[49m\u001b[43m \u001b[49m\u001b[38;5;241;43m*\u001b[39;49m\u001b[38;5;241;43m*\u001b[39;49m\u001b[38;5;28;43mself\u001b[39;49m\u001b[38;5;241;43m.\u001b[39;49m\u001b[43m_kwargs\u001b[49m\u001b[43m)\u001b[49m\n\u001b[1;32m     50\u001b[0m executor\u001b[38;5;241m.\u001b[39mshutdown(wait\u001b[38;5;241m=\u001b[39m\u001b[38;5;28;01mFalse\u001b[39;00m)\n",
      "File \u001b[0;32m~/miniforge3/envs/qc/lib/python3.10/concurrent/futures/thread.py:176\u001b[0m, in \u001b[0;36mThreadPoolExecutor.submit\u001b[0;34m(self, fn, *args, **kwargs)\u001b[0m\n\u001b[1;32m    173\u001b[0m w \u001b[38;5;241m=\u001b[39m _WorkItem(f, fn, args, kwargs)\n\u001b[1;32m    175\u001b[0m \u001b[38;5;28mself\u001b[39m\u001b[38;5;241m.\u001b[39m_work_queue\u001b[38;5;241m.\u001b[39mput(w)\n\u001b[0;32m--> 176\u001b[0m \u001b[38;5;28;43mself\u001b[39;49m\u001b[38;5;241;43m.\u001b[39;49m\u001b[43m_adjust_thread_count\u001b[49m\u001b[43m(\u001b[49m\u001b[43m)\u001b[49m\n\u001b[1;32m    177\u001b[0m \u001b[38;5;28;01mreturn\u001b[39;00m f\n",
      "File \u001b[0;32m~/miniforge3/envs/qc/lib/python3.10/concurrent/futures/thread.py:199\u001b[0m, in \u001b[0;36mThreadPoolExecutor._adjust_thread_count\u001b[0;34m(self)\u001b[0m\n\u001b[1;32m    192\u001b[0m thread_name \u001b[38;5;241m=\u001b[39m \u001b[38;5;124m'\u001b[39m\u001b[38;5;132;01m%s\u001b[39;00m\u001b[38;5;124m_\u001b[39m\u001b[38;5;132;01m%d\u001b[39;00m\u001b[38;5;124m'\u001b[39m \u001b[38;5;241m%\u001b[39m (\u001b[38;5;28mself\u001b[39m\u001b[38;5;241m.\u001b[39m_thread_name_prefix \u001b[38;5;129;01mor\u001b[39;00m \u001b[38;5;28mself\u001b[39m,\n\u001b[1;32m    193\u001b[0m                          num_threads)\n\u001b[1;32m    194\u001b[0m t \u001b[38;5;241m=\u001b[39m threading\u001b[38;5;241m.\u001b[39mThread(name\u001b[38;5;241m=\u001b[39mthread_name, target\u001b[38;5;241m=\u001b[39m_worker,\n\u001b[1;32m    195\u001b[0m                      args\u001b[38;5;241m=\u001b[39m(weakref\u001b[38;5;241m.\u001b[39mref(\u001b[38;5;28mself\u001b[39m, weakref_cb),\n\u001b[1;32m    196\u001b[0m                            \u001b[38;5;28mself\u001b[39m\u001b[38;5;241m.\u001b[39m_work_queue,\n\u001b[1;32m    197\u001b[0m                            \u001b[38;5;28mself\u001b[39m\u001b[38;5;241m.\u001b[39m_initializer,\n\u001b[1;32m    198\u001b[0m                            \u001b[38;5;28mself\u001b[39m\u001b[38;5;241m.\u001b[39m_initargs))\n\u001b[0;32m--> 199\u001b[0m \u001b[43mt\u001b[49m\u001b[38;5;241;43m.\u001b[39;49m\u001b[43mstart\u001b[49m\u001b[43m(\u001b[49m\u001b[43m)\u001b[49m\n\u001b[1;32m    200\u001b[0m \u001b[38;5;28mself\u001b[39m\u001b[38;5;241m.\u001b[39m_threads\u001b[38;5;241m.\u001b[39madd(t)\n\u001b[1;32m    201\u001b[0m _threads_queues[t] \u001b[38;5;241m=\u001b[39m \u001b[38;5;28mself\u001b[39m\u001b[38;5;241m.\u001b[39m_work_queue\n",
      "File \u001b[0;32m~/miniforge3/envs/qc/lib/python3.10/threading.py:933\u001b[0m, in \u001b[0;36mThread.start\u001b[0;34m(self)\u001b[0m\n\u001b[1;32m    931\u001b[0m         \u001b[38;5;28;01mdel\u001b[39;00m _limbo[\u001b[38;5;28mself\u001b[39m]\n\u001b[1;32m    932\u001b[0m     \u001b[38;5;28;01mraise\u001b[39;00m\n\u001b[0;32m--> 933\u001b[0m \u001b[38;5;28;43mself\u001b[39;49m\u001b[38;5;241;43m.\u001b[39;49m\u001b[43m_started\u001b[49m\u001b[38;5;241;43m.\u001b[39;49m\u001b[43mwait\u001b[49m\u001b[43m(\u001b[49m\u001b[43m)\u001b[49m\n",
      "File \u001b[0;32m~/miniforge3/envs/qc/lib/python3.10/threading.py:600\u001b[0m, in \u001b[0;36mEvent.wait\u001b[0;34m(self, timeout)\u001b[0m\n\u001b[1;32m    598\u001b[0m signaled \u001b[38;5;241m=\u001b[39m \u001b[38;5;28mself\u001b[39m\u001b[38;5;241m.\u001b[39m_flag\n\u001b[1;32m    599\u001b[0m \u001b[38;5;28;01mif\u001b[39;00m \u001b[38;5;129;01mnot\u001b[39;00m signaled:\n\u001b[0;32m--> 600\u001b[0m     signaled \u001b[38;5;241m=\u001b[39m \u001b[38;5;28;43mself\u001b[39;49m\u001b[38;5;241;43m.\u001b[39;49m\u001b[43m_cond\u001b[49m\u001b[38;5;241;43m.\u001b[39;49m\u001b[43mwait\u001b[49m\u001b[43m(\u001b[49m\u001b[43mtimeout\u001b[49m\u001b[43m)\u001b[49m\n\u001b[1;32m    601\u001b[0m \u001b[38;5;28;01mreturn\u001b[39;00m signaled\n",
      "File \u001b[0;32m~/miniforge3/envs/qc/lib/python3.10/threading.py:320\u001b[0m, in \u001b[0;36mCondition.wait\u001b[0;34m(self, timeout)\u001b[0m\n\u001b[1;32m    318\u001b[0m \u001b[38;5;28;01mtry\u001b[39;00m:    \u001b[38;5;66;03m# restore state no matter what (e.g., KeyboardInterrupt)\u001b[39;00m\n\u001b[1;32m    319\u001b[0m     \u001b[38;5;28;01mif\u001b[39;00m timeout \u001b[38;5;129;01mis\u001b[39;00m \u001b[38;5;28;01mNone\u001b[39;00m:\n\u001b[0;32m--> 320\u001b[0m         \u001b[43mwaiter\u001b[49m\u001b[38;5;241;43m.\u001b[39;49m\u001b[43macquire\u001b[49m\u001b[43m(\u001b[49m\u001b[43m)\u001b[49m\n\u001b[1;32m    321\u001b[0m         gotit \u001b[38;5;241m=\u001b[39m \u001b[38;5;28;01mTrue\u001b[39;00m\n\u001b[1;32m    322\u001b[0m     \u001b[38;5;28;01melse\u001b[39;00m:\n",
      "\u001b[0;31mKeyboardInterrupt\u001b[0m: "
     ]
    }
   ],
   "source": [
    "nIterations=50\n",
    "learning_rate=1e-1\n",
    "loss_list=[]\n",
    "\n",
    "for Iter in range(nIterations):\n",
    "    params_list_all=[]\n",
    "    for i in range(len(X_train)):\n",
    "        params_list_all.append(getParamsVariations(X_train[i],weights))\n",
    "    params_list_all=np.array(params_list_all)\n",
    "\n",
    "    cost=0\n",
    "    grad_all=np.zeros(n_QCNNweights)\n",
    "    for i in range(len(X_train)):\n",
    "        circuits=[qc]*len(params_list_all[i])\n",
    "        observable=[ob]*len(params_list_all[i])\n",
    "        param_variation_list=params_list_all[i]\n",
    "        job=estimator.run(circuits=circuits, observables=observable\n",
    "                          , parameter_values=param_variation_list)\n",
    "        jobResult=job.result().values\n",
    "        vev,circuitGrad=getGrad(jobResult)\n",
    "        cost+=(vev-y_train[i])**2\n",
    "        grad= 2*(vev-y_train[i])*circuitGrad\n",
    "        grad_all+=grad\n",
    "        \n",
    "    print(cost)\n",
    "    loss_list.append(cost)\n",
    "    weights-=learning_rate*grad_all\n"
   ]
  },
  {
   "cell_type": "code",
   "execution_count": 36,
   "id": "571bf4dc",
   "metadata": {},
   "outputs": [],
   "source": [
    "def predict(X,qc,ob,weights):\n",
    "\n",
    "    prediction=[]\n",
    "    for i in range(len(X_train)):\n",
    "        job=estimator.run(circuits=qc, observables=ob\n",
    "                          , parameter_values=np.concatenate([X_train[i],weights]))\n",
    "        jobResult=job.result().values\n",
    "        prediction.append(jobResult)\n",
    "    return np.array(prediction).flatten()"
   ]
  },
  {
   "cell_type": "code",
   "execution_count": 37,
   "id": "ab1a246d",
   "metadata": {},
   "outputs": [
    {
     "data": {
      "text/plain": [
       "array([ 0.02002903, -0.32645514,  0.19752791, -0.33747842, -0.27682427,\n",
       "       -0.23314331, -0.25365168, -0.25618693,  0.26789896,  0.08856663,\n",
       "        0.2901709 , -0.24511787, -0.20840835, -0.23175148,  0.2347657 ,\n",
       "        0.24124776,  0.23765907, -0.07223401,  0.05285635,  0.22348076,\n",
       "        0.12712569,  0.24791548, -0.06147588,  0.23928209,  0.18270137,\n",
       "       -0.29745334, -0.07869564, -0.04682561, -0.25588991, -0.07398561,\n",
       "       -0.1868502 ,  0.2337994 ])"
      ]
     },
     "execution_count": 37,
     "metadata": {},
     "output_type": "execute_result"
    }
   ],
   "source": [
    "predict(X_train,qc,ob,weights)"
   ]
  },
  {
   "cell_type": "code",
   "execution_count": 38,
   "id": "0dce1bd1",
   "metadata": {},
   "outputs": [
    {
     "data": {
      "text/plain": [
       "array([-1., -1., -1., -1., -1., -1., -1., -1., -1., -1., -1., -1., -1.,\n",
       "       -1., -1., -1.,  1.,  1.,  1.,  1.,  1.,  1.,  1.,  1.,  1.,  1.,\n",
       "        1.,  1.,  1.,  1.,  1.,  1.])"
      ]
     },
     "execution_count": 38,
     "metadata": {},
     "output_type": "execute_result"
    }
   ],
   "source": [
    "y_train"
   ]
  },
  {
   "cell_type": "code",
   "execution_count": null,
   "id": "675bf09e",
   "metadata": {},
   "outputs": [],
   "source": []
  },
  {
   "cell_type": "code",
   "execution_count": null,
   "id": "d6b0d058",
   "metadata": {},
   "outputs": [],
   "source": []
  },
  {
   "cell_type": "code",
   "execution_count": null,
   "id": "e3d1f808",
   "metadata": {},
   "outputs": [],
   "source": []
  },
  {
   "cell_type": "code",
   "execution_count": null,
   "id": "78029071",
   "metadata": {},
   "outputs": [],
   "source": []
  },
  {
   "cell_type": "code",
   "execution_count": null,
   "id": "4ae6c183",
   "metadata": {},
   "outputs": [],
   "source": []
  }
 ],
 "metadata": {
  "kernelspec": {
   "display_name": "qc",
   "language": "python",
   "name": "qc"
  },
  "language_info": {
   "codemirror_mode": {
    "name": "ipython",
    "version": 3
   },
   "file_extension": ".py",
   "mimetype": "text/x-python",
   "name": "python",
   "nbconvert_exporter": "python",
   "pygments_lexer": "ipython3",
   "version": "3.10.4"
  }
 },
 "nbformat": 4,
 "nbformat_minor": 5
}
